{
  "nbformat": 4,
  "nbformat_minor": 0,
  "metadata": {
    "colab": {
      "name": "Clase2.ipynb",
      "provenance": [],
      "authorship_tag": "ABX9TyNhoQdRSNJLd0j/anhdso65",
      "include_colab_link": true
    },
    "kernelspec": {
      "name": "python3",
      "display_name": "Python 3"
    },
    "language_info": {
      "name": "python"
    }
  },
  "cells": [
    {
      "cell_type": "markdown",
      "metadata": {
        "id": "view-in-github",
        "colab_type": "text"
      },
      "source": [
        "<a href=\"https://colab.research.google.com/github/geral98atehortua/Mujeres_Digitales/blob/main/Clase2.ipynb\" target=\"_parent\"><img src=\"https://colab.research.google.com/assets/colab-badge.svg\" alt=\"Open In Colab\"/></a>"
      ]
    },
    {
      "cell_type": "code",
      "metadata": {
        "id": "_6ZRrLagwxBq"
      },
      "source": [
        ""
      ],
      "execution_count": null,
      "outputs": []
    },
    {
      "cell_type": "markdown",
      "metadata": {
        "id": "c4Cbm4Aqw1-Y"
      },
      "source": [
        "**Operadores matematicos**\n",
        "\n",
        "los operadores permiten realizar diferentes procesos de calculo en cualquier lenguaje de programación.\n",
        "\n",
        "los operadores más basicos son:\n",
        "1.suma\n",
        "2.resta\n",
        "3.multiplicación\n",
        "4.división"
      ]
    },
    {
      "cell_type": "markdown",
      "metadata": {
        "id": "K3cWLMXyxWF1"
      },
      "source": [
        "**Suma y Resta**\n",
        "\n",
        "simbolo suma (+) el cual se utilizara en medio de la declaración de las variables a operar.\n"
      ]
    },
    {
      "cell_type": "code",
      "metadata": {
        "colab": {
          "base_uri": "https://localhost:8080/"
        },
        "id": "DfWHzzOExpZL",
        "outputId": "16e57664-3ae6-4543-8d1b-7d5d3d1f7917"
      },
      "source": [
        "print(118+45)\n",
        "a=20\n",
        "b=35\n",
        "print(a+b)"
      ],
      "execution_count": 2,
      "outputs": [
        {
          "output_type": "stream",
          "text": [
            "163\n",
            "55\n"
          ],
          "name": "stdout"
        }
      ]
    },
    {
      "cell_type": "code",
      "metadata": {
        "colab": {
          "base_uri": "https://localhost:8080/"
        },
        "id": "iefIjhI2x-Oh",
        "outputId": "00d47641-3fac-4a1a-8e96-d6e10c33cb72"
      },
      "source": [
        "numero_botellas=12\n",
        "print(numero_botellas+8)"
      ],
      "execution_count": 3,
      "outputs": [
        {
          "output_type": "stream",
          "text": [
            "20\n"
          ],
          "name": "stdout"
        }
      ]
    },
    {
      "cell_type": "code",
      "metadata": {
        "colab": {
          "base_uri": "https://localhost:8080/"
        },
        "id": "eGgUKVqJySwL",
        "outputId": "4613e617-57a8-4062-9ff8-0973d66fcb21"
      },
      "source": [
        "numero_botellas=12\n",
        "numero_botellas=numero_botellas+8\n",
        "print(numero_botellas)"
      ],
      "execution_count": 5,
      "outputs": [
        {
          "output_type": "stream",
          "text": [
            "20\n"
          ],
          "name": "stdout"
        }
      ]
    },
    {
      "cell_type": "markdown",
      "metadata": {
        "id": "1SiFId9TyvTB"
      },
      "source": [
        "**sumas entre los diferentes tipos de variables**\n",
        "\n",
        "1.variables enteras int\n",
        "2.flotantes(incorpora y flexibiliza los decimales)\n",
        "3.tipo cadena"
      ]
    },
    {
      "cell_type": "code",
      "metadata": {
        "colab": {
          "base_uri": "https://localhost:8080/"
        },
        "id": "bpTa-XAGzEGG",
        "outputId": "0b83952b-eb06-4698-c84e-108d351f6952"
      },
      "source": [
        "a1=100\n",
        "a2=24.5\n",
        "print(type(a1+a2))"
      ],
      "execution_count": 11,
      "outputs": [
        {
          "output_type": "stream",
          "text": [
            "<class 'float'>\n"
          ],
          "name": "stdout"
        }
      ]
    },
    {
      "cell_type": "code",
      "metadata": {
        "colab": {
          "base_uri": "https://localhost:8080/"
        },
        "id": "1wM1I4mNzrr1",
        "outputId": "eb600daf-bf93-43b3-e6d6-9da553ec696d"
      },
      "source": [
        "b1=113.5\n",
        "b2=244\n",
        "b_total=b1+b2\n",
        "print(\"la suma es:\",b_total,type(b_total))"
      ],
      "execution_count": 21,
      "outputs": [
        {
          "output_type": "stream",
          "text": [
            "la suma es: 357.5 <class 'float'>\n"
          ],
          "name": "stdout"
        }
      ]
    },
    {
      "cell_type": "code",
      "metadata": {
        "colab": {
          "base_uri": "https://localhost:8080/"
        },
        "id": "LpmOq2SDy0pB",
        "outputId": "7c7b502c-0f57-4fce-f13a-a9beb6a15b29"
      },
      "source": [
        "v1=\"quiero\"\n",
        "v2=\"un celular\"\n",
        "print(v1+\" \"+v2)"
      ],
      "execution_count": 24,
      "outputs": [
        {
          "output_type": "stream",
          "text": [
            "quiero un celular\n"
          ],
          "name": "stdout"
        }
      ]
    },
    {
      "cell_type": "code",
      "metadata": {
        "colab": {
          "base_uri": "https://localhost:8080/"
        },
        "id": "Bj9H9cs408Po",
        "outputId": "e4ce56c4-c1d5-4bbc-8d04-ad8c8a424631"
      },
      "source": [
        "xq2=235\n",
        "xq3=400\n",
        "print(xq2-xq3)\n",
        "\n",
        "xq2=24.66\n",
        "xq3=4\n",
        "print(type(xq2-xq3))"
      ],
      "execution_count": 29,
      "outputs": [
        {
          "output_type": "stream",
          "text": [
            "-165\n",
            "<class 'float'>\n"
          ],
          "name": "stdout"
        }
      ]
    },
    {
      "cell_type": "markdown",
      "metadata": {
        "id": "jQl_80rm1d2d"
      },
      "source": [
        "**IMPORTANTE:**\n",
        "La resta no funciona directamente para variables tipo cadena ."
      ]
    },
    {
      "cell_type": "code",
      "metadata": {
        "colab": {
          "base_uri": "https://localhost:8080/",
          "height": 197
        },
        "id": "KdKGYNBi1tnw",
        "outputId": "63fd2089-5d26-4992-cead-cebc455ee346"
      },
      "source": [
        "v1=\"5\"\n",
        "v2=\"2.3\"\n",
        "print(v1-v2)"
      ],
      "execution_count": 32,
      "outputs": [
        {
          "output_type": "error",
          "ename": "TypeError",
          "evalue": "ignored",
          "traceback": [
            "\u001b[0;31m---------------------------------------------------------------------------\u001b[0m",
            "\u001b[0;31mTypeError\u001b[0m                                 Traceback (most recent call last)",
            "\u001b[0;32m<ipython-input-32-7b39ca26ff3c>\u001b[0m in \u001b[0;36m<module>\u001b[0;34m()\u001b[0m\n\u001b[1;32m      1\u001b[0m \u001b[0mv1\u001b[0m\u001b[0;34m=\u001b[0m\u001b[0;34m\"5\"\u001b[0m\u001b[0;34m\u001b[0m\u001b[0;34m\u001b[0m\u001b[0m\n\u001b[1;32m      2\u001b[0m \u001b[0mv2\u001b[0m\u001b[0;34m=\u001b[0m\u001b[0;34m\"2.3\"\u001b[0m\u001b[0;34m\u001b[0m\u001b[0;34m\u001b[0m\u001b[0m\n\u001b[0;32m----> 3\u001b[0;31m \u001b[0mprint\u001b[0m\u001b[0;34m(\u001b[0m\u001b[0mv1\u001b[0m\u001b[0;34m-\u001b[0m\u001b[0mv2\u001b[0m\u001b[0;34m)\u001b[0m\u001b[0;34m\u001b[0m\u001b[0;34m\u001b[0m\u001b[0m\n\u001b[0m",
            "\u001b[0;31mTypeError\u001b[0m: unsupported operand type(s) for -: 'str' and 'str'"
          ]
        }
      ]
    },
    {
      "cell_type": "markdown",
      "metadata": {
        "id": "BG3b1LVq2fa-"
      },
      "source": [
        "**Multiplicación**\n",
        "\n",
        "Definimos la multiplicación como la suma de la varias veces un número , cantidad de veces que esta indicada por otro.\n",
        "\n",
        "simbolo(*)\n"
      ]
    },
    {
      "cell_type": "code",
      "metadata": {
        "id": "aJMO-xYW3GwL"
      },
      "source": [
        ""
      ],
      "execution_count": null,
      "outputs": []
    },
    {
      "cell_type": "code",
      "metadata": {
        "colab": {
          "base_uri": "https://localhost:8080/"
        },
        "id": "G9yG7JMI2_se",
        "outputId": "a343b951-d1a0-4bb7-9f04-7b2065d2fabf"
      },
      "source": [
        "cali=5\n",
        "palmira=6\n",
        "print(cali*palmira)"
      ],
      "execution_count": 34,
      "outputs": [
        {
          "output_type": "stream",
          "text": [
            "30\n"
          ],
          "name": "stdout"
        }
      ]
    },
    {
      "cell_type": "markdown",
      "metadata": {
        "id": "RtTOO6sU3LML"
      },
      "source": [
        "**División**\n",
        "\n",
        "**No** aplica la ley conmutativa \n",
        "simbolo(/)"
      ]
    },
    {
      "cell_type": "code",
      "metadata": {
        "colab": {
          "base_uri": "https://localhost:8080/"
        },
        "id": "7LDlYMko3YB1",
        "outputId": "79cb2b02-2bd4-4f22-a56e-885db2ee680d"
      },
      "source": [
        "a=20\n",
        "b=4\n",
        "print(a/b,b/a,a+b,a-b)"
      ],
      "execution_count": 37,
      "outputs": [
        {
          "output_type": "stream",
          "text": [
            "5.0 0.2 24 16\n"
          ],
          "name": "stdout"
        }
      ]
    },
    {
      "cell_type": "markdown",
      "metadata": {
        "id": "g7_IfTHb34Zt"
      },
      "source": [
        "Para el **print** podemos separar las operaciónes por variables con(,), la cual no afecta la imprensión de los resultados."
      ]
    },
    {
      "cell_type": "markdown",
      "metadata": {
        "id": "SoZdnBIp4JxC"
      },
      "source": [
        "**Tipos de división**\n",
        "\n",
        "1.División exacta(/)\n",
        "2.División inexacta(//)"
      ]
    },
    {
      "cell_type": "code",
      "metadata": {
        "colab": {
          "base_uri": "https://localhost:8080/"
        },
        "id": "bxghp4yy4Ugs",
        "outputId": "33831f79-9325-4662-d4c2-d35941d3b6a8"
      },
      "source": [
        "print(18//5)\n",
        "print(18/5)"
      ],
      "execution_count": 40,
      "outputs": [
        {
          "output_type": "stream",
          "text": [
            "3\n",
            "3.6\n"
          ],
          "name": "stdout"
        }
      ]
    },
    {
      "cell_type": "markdown",
      "metadata": {
        "id": "xLFQu3FH4xI4"
      },
      "source": [
        "4.Potenciación\n",
        "5.Modulo"
      ]
    },
    {
      "cell_type": "markdown",
      "metadata": {
        "id": "UWO8PGml42v2"
      },
      "source": [
        "**Potenciación**\n",
        "En Python el simbolo es (**)"
      ]
    },
    {
      "cell_type": "code",
      "metadata": {
        "colab": {
          "base_uri": "https://localhost:8080/"
        },
        "id": "vAM4PZeE49up",
        "outputId": "5d88dfd8-b851-44dd-9a40-502c239fc6d9"
      },
      "source": [
        "print(3**3)"
      ],
      "execution_count": 41,
      "outputs": [
        {
          "output_type": "stream",
          "text": [
            "27\n"
          ],
          "name": "stdout"
        }
      ]
    },
    {
      "cell_type": "code",
      "metadata": {
        "colab": {
          "base_uri": "https://localhost:8080/"
        },
        "id": "L2tPZywR5C4w",
        "outputId": "03156b2b-56a3-4cb6-936f-4cb7f280b358"
      },
      "source": [
        "print(2**5)"
      ],
      "execution_count": 42,
      "outputs": [
        {
          "output_type": "stream",
          "text": [
            "32\n"
          ],
          "name": "stdout"
        }
      ]
    },
    {
      "cell_type": "markdown",
      "metadata": {
        "id": "b02jeZr-5JR2"
      },
      "source": [
        "Le llamamos modulo al **residuo** de la operación de división\n",
        "El simbolo usado para mostrar el residuo es (%)\n"
      ]
    },
    {
      "cell_type": "code",
      "metadata": {
        "colab": {
          "base_uri": "https://localhost:8080/"
        },
        "id": "hhgILKRR5VGH",
        "outputId": "e5053f89-9f7c-4e20-a6ed-fa37e8fa2c8d"
      },
      "source": [
        "print(81%9)"
      ],
      "execution_count": 43,
      "outputs": [
        {
          "output_type": "stream",
          "text": [
            "0\n"
          ],
          "name": "stdout"
        }
      ]
    },
    {
      "cell_type": "code",
      "metadata": {
        "colab": {
          "base_uri": "https://localhost:8080/"
        },
        "id": "ZeCVCxpx5ZWk",
        "outputId": "2aeb4d5a-1836-4b0b-c19c-d0e59a12fded"
      },
      "source": [
        "print(88%9)"
      ],
      "execution_count": 45,
      "outputs": [
        {
          "output_type": "stream",
          "text": [
            "7\n"
          ],
          "name": "stdout"
        }
      ]
    },
    {
      "cell_type": "markdown",
      "metadata": {
        "id": "fC08lR6Y7SvE"
      },
      "source": [
        "**OPERADORES DE COMPARACIÓN**\n",
        "\n",
        "los operadores de comparacion, sirven para comparar varios valores.\n",
        "En la vida cotidiana a la hora de tomar una decision tenemos que decidir entre un camino u otro, ejemplo: compras,decisiones de vida,caminos por recorrer."
      ]
    },
    {
      "cell_type": "markdown",
      "metadata": {
        "id": "yJoWwwGR7_BU"
      },
      "source": [
        "**Igualdad**\n",
        "\n",
        "simbolo en Python es (**)\n"
      ]
    },
    {
      "cell_type": "code",
      "metadata": {
        "colab": {
          "base_uri": "https://localhost:8080/"
        },
        "id": "FENYnY-W8HBl",
        "outputId": "0feda968-5671-40f5-c9ff-e00075c11dce"
      },
      "source": [
        "x=18\n",
        "z=31\n",
        "print(x==z)"
      ],
      "execution_count": 46,
      "outputs": [
        {
          "output_type": "stream",
          "text": [
            "False\n"
          ],
          "name": "stdout"
        }
      ]
    },
    {
      "cell_type": "code",
      "metadata": {
        "colab": {
          "base_uri": "https://localhost:8080/"
        },
        "id": "QLxzJQ_o8PVU",
        "outputId": "8a38b4a1-d2dc-4f5a-8bd5-bdd6fd8abdb2"
      },
      "source": [
        "x=\"casa\"\n",
        "z=\"caza\"\n",
        "print(x==z)"
      ],
      "execution_count": 47,
      "outputs": [
        {
          "output_type": "stream",
          "text": [
            "False\n"
          ],
          "name": "stdout"
        }
      ]
    },
    {
      "cell_type": "markdown",
      "metadata": {
        "id": "eNOulZo98zOQ"
      },
      "source": [
        "**DIFERENCIA**\n",
        "\n",
        "A diferencia del operador de igualdad, el simbolo esta combinado por el simbolo de admiracion y el igual(!=)\n"
      ]
    },
    {
      "cell_type": "code",
      "metadata": {
        "colab": {
          "base_uri": "https://localhost:8080/"
        },
        "id": "tCdd1NW19Gki",
        "outputId": "3ab667ae-cb39-4635-f178-ea31b79abef8"
      },
      "source": [
        "x=\"casa\"\n",
        "z=\"caza\"\n",
        "print(x!=z)"
      ],
      "execution_count": 49,
      "outputs": [
        {
          "output_type": "stream",
          "text": [
            "True\n"
          ],
          "name": "stdout"
        }
      ]
    },
    {
      "cell_type": "code",
      "metadata": {
        "colab": {
          "base_uri": "https://localhost:8080/"
        },
        "id": "Gl4hSnIc9XT3",
        "outputId": "e20e9f6f-d9e6-409e-9f8c-57cfd7140d0b"
      },
      "source": [
        "x=18\n",
        "z=31\n",
        "print(x!=z)"
      ],
      "execution_count": 50,
      "outputs": [
        {
          "output_type": "stream",
          "text": [
            "True\n"
          ],
          "name": "stdout"
        }
      ]
    },
    {
      "cell_type": "markdown",
      "metadata": {
        "id": "UG0kf-7j9Zsx"
      },
      "source": [
        "**Mayor que**\n",
        "simbolo en python(>)\n",
        "siempre comparativa se designa cual es el mayor o el menos del valor que esta a la izquierda."
      ]
    },
    {
      "cell_type": "code",
      "metadata": {
        "colab": {
          "base_uri": "https://localhost:8080/"
        },
        "id": "V7dfAnjZ9jMt",
        "outputId": "c90919d9-13c7-48d4-b2c9-eeb9ec4094ff"
      },
      "source": [
        "print(18>4)"
      ],
      "execution_count": 54,
      "outputs": [
        {
          "output_type": "stream",
          "text": [
            "True\n"
          ],
          "name": "stdout"
        }
      ]
    },
    {
      "cell_type": "code",
      "metadata": {
        "colab": {
          "base_uri": "https://localhost:8080/"
        },
        "id": "ajH_dlV29o5V",
        "outputId": "29bad201-7173-40cf-be55-b64c0a540e62"
      },
      "source": [
        "print(35>34.9)"
      ],
      "execution_count": 53,
      "outputs": [
        {
          "output_type": "stream",
          "text": [
            "True\n"
          ],
          "name": "stdout"
        }
      ]
    },
    {
      "cell_type": "markdown",
      "metadata": {
        "id": "MUh3GtWX941y"
      },
      "source": [
        "**Menor que**"
      ]
    },
    {
      "cell_type": "code",
      "metadata": {
        "id": "-3zIj09y96Gx"
      },
      "source": [
        "simbolo es (<)"
      ],
      "execution_count": null,
      "outputs": []
    },
    {
      "cell_type": "code",
      "metadata": {
        "colab": {
          "base_uri": "https://localhost:8080/"
        },
        "id": "XwLRYj5R98fu",
        "outputId": "346d769c-0065-47f2-a922-4239c86da36e"
      },
      "source": [
        "x=4\n",
        "y=3\n",
        "print(x<y)"
      ],
      "execution_count": 55,
      "outputs": [
        {
          "output_type": "stream",
          "text": [
            "False\n"
          ],
          "name": "stdout"
        }
      ]
    },
    {
      "cell_type": "markdown",
      "metadata": {
        "id": "wJapvDqi-E-_"
      },
      "source": [
        "**Mayor o igual que**\n",
        "\n",
        "Es similar al mayor que, con la diferencia de que la forma en que dara resultado es s ambos numeros son iguales y flexibiliza el verdadadero de igual forma si el valor de la izquierda es mayor que el de la derecha.}\n",
        "simbolo(>=)"
      ]
    },
    {
      "cell_type": "code",
      "metadata": {
        "colab": {
          "base_uri": "https://localhost:8080/"
        },
        "id": "ugHrJ8F2-cH4",
        "outputId": "daf07247-a879-4d4d-d2d2-8ef7c2278634"
      },
      "source": [
        "x=10\n",
        "y=10\n",
        "print(x>=y)"
      ],
      "execution_count": 56,
      "outputs": [
        {
          "output_type": "stream",
          "text": [
            "True\n"
          ],
          "name": "stdout"
        }
      ]
    },
    {
      "cell_type": "code",
      "metadata": {
        "colab": {
          "base_uri": "https://localhost:8080/"
        },
        "id": "2R8utGqJ-lDX",
        "outputId": "fa2a4525-68ac-4db1-a6b0-fc7260ffc592"
      },
      "source": [
        "x=10\n",
        "y=5\n",
        "print(x>=y)"
      ],
      "execution_count": 57,
      "outputs": [
        {
          "output_type": "stream",
          "text": [
            "True\n"
          ],
          "name": "stdout"
        }
      ]
    },
    {
      "cell_type": "markdown",
      "metadata": {
        "id": "HBmDgrVG-nIG"
      },
      "source": [
        "**Menor o igual que**\n",
        "El simbolo es (<=)"
      ]
    },
    {
      "cell_type": "code",
      "metadata": {
        "colab": {
          "base_uri": "https://localhost:8080/"
        },
        "id": "XyXQ60cV-uJq",
        "outputId": "4971111c-c520-4399-9865-c5ef175a0967"
      },
      "source": [
        "c=45\n",
        "print(c<=46)"
      ],
      "execution_count": 58,
      "outputs": [
        {
          "output_type": "stream",
          "text": [
            "True\n"
          ],
          "name": "stdout"
        }
      ]
    },
    {
      "cell_type": "markdown",
      "metadata": {
        "id": "Ddd5UE8V-01Z"
      },
      "source": [
        "**Tener en cuenta**\n",
        "En comparaciones los resultados que nos arrojan son de tipo boleano (true or false)\n"
      ]
    },
    {
      "cell_type": "markdown",
      "metadata": {
        "id": "EP4l0noB_Iyi"
      },
      "source": [
        "**OPERADORES LOGICOS**\n",
        "\n",
        "Python incluye 3 operadores logicos bases:\n",
        "1.AND(y)\n",
        "2.OR(o)\n",
        "3.NOT(no)\n",
        "\n",
        "los operadores logicos funcionan solo con valores variables booleanas . a su vez , devuleven como respuesta valores booleanas.\n",
        "\n",
        "\n",
        " "
      ]
    },
    {
      "cell_type": "markdown",
      "metadata": {
        "id": "t95WbiBN__za"
      },
      "source": [
        "**OPERADOR AND**\n",
        "\n",
        "Este operador solo devolvera (true) y ambos valores lo son.\n",
        "¿como usamos el operador AND?\n",
        "Para usar este operador usamos un valor booleano, luego la palabra \"AND\" y por ultimo otro valor booleano.\n",
        "**Ejemplo**"
      ]
    },
    {
      "cell_type": "code",
      "metadata": {
        "colab": {
          "base_uri": "https://localhost:8080/"
        },
        "id": "sW36plUSAiu6",
        "outputId": "2fa88e5e-da56-439a-ddb1-a6a0a42f21b2"
      },
      "source": [
        "print(True and False)"
      ],
      "execution_count": 60,
      "outputs": [
        {
          "output_type": "stream",
          "text": [
            "False\n"
          ],
          "name": "stdout"
        }
      ]
    },
    {
      "cell_type": "markdown",
      "metadata": {
        "id": "h2Z1pEPrAyhK"
      },
      "source": [
        "**Ejemplo 2 de contextualizacion**\n",
        "\n",
        "\n",
        "1.true and true = true\n",
        "\n",
        "2.true and false= false\n",
        "\n",
        "3.false and false = false\n",
        "\n",
        "4.false and true=false"
      ]
    },
    {
      "cell_type": "markdown",
      "metadata": {
        "id": "Fbqv9DQiBPFn"
      },
      "source": [
        "**Operador OR**\n",
        "\n",
        "A diferencia del operador **AND** or devuelve a todo verdadero a menos de que ambos valores sena falsos."
      ]
    },
    {
      "cell_type": "code",
      "metadata": {
        "colab": {
          "base_uri": "https://localhost:8080/"
        },
        "id": "9SYbjv-uBcfJ",
        "outputId": "6b363333-4d9f-4a42-9e27-ee9ad2254c7e"
      },
      "source": [
        "print(True or True)\n",
        "print(True or False)\n",
        "print(False or False)"
      ],
      "execution_count": 65,
      "outputs": [
        {
          "output_type": "stream",
          "text": [
            "True\n",
            "True\n",
            "False\n"
          ],
          "name": "stdout"
        }
      ]
    },
    {
      "cell_type": "markdown",
      "metadata": {
        "id": "hFuwuISgCAeY"
      },
      "source": [
        "**Ejemplo 3 de contextualizacion**\n",
        "\n",
        "\n",
        "1.true OR true = true\n",
        "\n",
        "2.true OR false= true\n",
        "\n",
        "3.false OR false = false\n",
        "\n",
        "4.false OR true=true"
      ]
    },
    {
      "cell_type": "code",
      "metadata": {
        "colab": {
          "base_uri": "https://localhost:8080/"
        },
        "id": "yrb2HTAMCX37",
        "outputId": "5a4a57ef-b2f8-4659-8a7b-79572d1e39f7"
      },
      "source": [
        "a=3\n",
        "b=2\n",
        "print(a>4 or a==4)\n",
        "print(b==b and a>=b)"
      ],
      "execution_count": 70,
      "outputs": [
        {
          "output_type": "stream",
          "text": [
            "False\n",
            "True\n"
          ],
          "name": "stdout"
        }
      ]
    },
    {
      "cell_type": "markdown",
      "metadata": {
        "id": "ec7k4pF_C86v"
      },
      "source": [
        "**OPERADOR NOT**\n",
        "\n",
        "Este operador es de negación \"No\", es muy especial dado que por si solo no sirve para hacer ninguna operación, lo unico que hace es negar  o en palabras mas simple invertir el valor booleano qye viene despues de él."
      ]
    },
    {
      "cell_type": "code",
      "metadata": {
        "colab": {
          "base_uri": "https://localhost:8080/"
        },
        "id": "uKqcezYtDcgd",
        "outputId": "e9f739f7-047b-42f4-eb00-d74a47bba6f5"
      },
      "source": [
        "print(not False)\n",
        "print(not True)"
      ],
      "execution_count": 71,
      "outputs": [
        {
          "output_type": "stream",
          "text": [
            "True\n",
            "False\n"
          ],
          "name": "stdout"
        }
      ]
    },
    {
      "cell_type": "markdown",
      "metadata": {
        "id": "yyCNMEeFEJEr"
      },
      "source": [
        "**PRECEDENCIA DE OPERACIONES**\n",
        "\n",
        "Es muy importante manejar el orden de las operaciones al realizarlas para no caer en problemas de codigo error.\n",
        "\n",
        "el orden debe ser:\n",
        "\n",
        "1.De izquierda a derecha\n",
        "2.Parentesis\n",
        "3.Potencia o radicacion\n",
        "4.Multiplicacion y division\n",
        "5.Suma y resta\n",
        "\n",
        "**EJEMPLO**\n",
        "4-2(10)=\n",
        "\n",
        "1.primero el parentesis:\n",
        "\n",
        "4-2*10=\n",
        "\n",
        "2.se continua con la multiplicaacion:\n",
        "\n",
        "2*10= 20\n",
        "\n",
        "3.Por ultimo la resta:\n",
        "\n",
        "4-20=16"
      ]
    },
    {
      "cell_type": "markdown",
      "metadata": {
        "id": "VNJeIcHQFj6_"
      },
      "source": [
        "¿cual crees que es el resultado de la siguiente operación?"
      ]
    },
    {
      "cell_type": "code",
      "metadata": {
        "colab": {
          "base_uri": "https://localhost:8080/"
        },
        "id": "hpxCkkIyFudV",
        "outputId": "d058c646-a2de-496d-b92a-a8b9ca91773e"
      },
      "source": [
        "a=False\n",
        "b=True\n",
        "c=True\n",
        "\n",
        "print(not c and (a or b))\n"
      ],
      "execution_count": 73,
      "outputs": [
        {
          "output_type": "stream",
          "text": [
            "False\n"
          ],
          "name": "stdout"
        }
      ]
    },
    {
      "cell_type": "code",
      "metadata": {
        "colab": {
          "base_uri": "https://localhost:8080/"
        },
        "id": "6i4HaQlaGZ6P",
        "outputId": "6ec85c52-1fb0-457b-ef3d-c9e8556e9267"
      },
      "source": [
        "print(3-2*(13-5))"
      ],
      "execution_count": 74,
      "outputs": [
        {
          "output_type": "stream",
          "text": [
            "-13\n"
          ],
          "name": "stdout"
        }
      ]
    },
    {
      "cell_type": "markdown",
      "metadata": {
        "id": "5jMrfTmWGv14"
      },
      "source": [
        "**RESUMEN**\n",
        "\n",
        "1.Aplicación de ley conmutativa solo para suma y resta(operadores basicos)\n",
        "\n",
        "2.Los resultados con operadores logicos son de tipo booleano\n",
        "\n",
        "3.No se puede elabora restas entre operadores de tipo cadena(el porcedimiento si abarca numeros es la conversion desde el inicio).\n",
        "\n",
        "4.si aplicamos el condicional AND,para que el resultado sea verdadero la unica forma es que ambos sean verdaderos.\n",
        "\n",
        "5.En cambio con el OR basta con que solo 1 de los valores sea verdadero."
      ]
    },
    {
      "cell_type": "markdown",
      "metadata": {
        "id": "c-LnHGr3H_BK"
      },
      "source": [
        "**ACTIVIDAD 5 EJERCICIOS**"
      ]
    },
    {
      "cell_type": "code",
      "metadata": {
        "colab": {
          "base_uri": "https://localhost:8080/"
        },
        "id": "_BS2-XLQIEO3",
        "outputId": "a4b6a007-d49e-4364-9378-f1ff70b9e511"
      },
      "source": [
        "d=254\n",
        "e=456\n",
        "print(d+e>456)"
      ],
      "execution_count": 75,
      "outputs": [
        {
          "output_type": "stream",
          "text": [
            "True\n"
          ],
          "name": "stdout"
        }
      ]
    },
    {
      "cell_type": "code",
      "metadata": {
        "colab": {
          "base_uri": "https://localhost:8080/"
        },
        "id": "t98_KuvPIfm2",
        "outputId": "58c06707-a09e-4943-dee0-da1e5451afa7"
      },
      "source": [
        "j=25*10\n",
        "h=50*5\n",
        "print(j==h)"
      ],
      "execution_count": 85,
      "outputs": [
        {
          "output_type": "stream",
          "text": [
            "True\n"
          ],
          "name": "stdout"
        }
      ]
    },
    {
      "cell_type": "code",
      "metadata": {
        "colab": {
          "base_uri": "https://localhost:8080/"
        },
        "id": "84oPQoHjITu0",
        "outputId": "53c76728-e4fc-46b9-94bb-c4fced4d781f"
      },
      "source": [
        "f=465\n",
        "g=490\n",
        "print(g>f and f+g>900)"
      ],
      "execution_count": 82,
      "outputs": [
        {
          "output_type": "stream",
          "text": [
            "True\n"
          ],
          "name": "stdout"
        }
      ]
    },
    {
      "cell_type": "code",
      "metadata": {
        "colab": {
          "base_uri": "https://localhost:8080/"
        },
        "id": "biFHYphBJT_0",
        "outputId": "667d9e9d-5fd2-4fa4-b016-afa104e073e3"
      },
      "source": [
        "l=8500\n",
        "m=2540\n",
        "print(l==m or m>l)"
      ],
      "execution_count": 86,
      "outputs": [
        {
          "output_type": "stream",
          "text": [
            "False\n"
          ],
          "name": "stdout"
        }
      ]
    },
    {
      "cell_type": "code",
      "metadata": {
        "colab": {
          "base_uri": "https://localhost:8080/"
        },
        "id": "omrv5uZpJt-H",
        "outputId": "ea5356f4-f5ec-4190-9c5b-996a60ec5ebd"
      },
      "source": [
        "a=False\n",
        "b=True\n",
        "c=True\n",
        "print(not c and (c*a*b))"
      ],
      "execution_count": 88,
      "outputs": [
        {
          "output_type": "stream",
          "text": [
            "False\n"
          ],
          "name": "stdout"
        }
      ]
    }
  ]
}