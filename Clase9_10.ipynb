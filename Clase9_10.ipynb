{
  "nbformat": 4,
  "nbformat_minor": 0,
  "metadata": {
    "colab": {
      "name": "Clase9_10.ipynb",
      "provenance": [],
      "authorship_tag": "ABX9TyOqmvEEhB3GEWuFcG6VjeV9",
      "include_colab_link": true
    },
    "kernelspec": {
      "name": "python3",
      "display_name": "Python 3"
    },
    "language_info": {
      "name": "python"
    }
  },
  "cells": [
    {
      "cell_type": "markdown",
      "metadata": {
        "id": "view-in-github",
        "colab_type": "text"
      },
      "source": [
        "<a href=\"https://colab.research.google.com/github/geral98atehortua/Mujeres_Digitales/blob/main/Clase9_10.ipynb\" target=\"_parent\"><img src=\"https://colab.research.google.com/assets/colab-badge.svg\" alt=\"Open In Colab\"/></a>"
      ]
    },
    {
      "cell_type": "markdown",
      "metadata": {
        "id": "-E4zMzNq2cO8"
      },
      "source": [
        "Diferencia entre valores y referencias Existen dos conceptos de paso por valor y por *referencia que se aplican a la hora de tratar a los parametros de entrada deuna función:\n",
        "\n",
        "Si se usa un parámetro que pasa por un valor, se crea una copia local de la variable local implica que cualquier modificacion sobre esta no tendra repercusiones sobre la base original\n",
        "\n",
        "Si la varible para como referencia, sí actuará directamente sobre la base original."
      ]
    },
    {
      "cell_type": "code",
      "metadata": {
        "id": "yGhb8_ZbpS0Z",
        "colab": {
          "base_uri": "https://localhost:8080/"
        },
        "outputId": "6aed6bf7-1b7f-499f-9d79-cdbff4c50b9f"
      },
      "source": [
        "#Ejemplo de paso por **valor**\n",
        "\n",
        "x=3\n",
        "def funcion(w):\n",
        "  w=0\n",
        "funcion(x)\n",
        "print(x)"
      ],
      "execution_count": null,
      "outputs": [
        {
          "output_type": "stream",
          "text": [
            "3\n"
          ],
          "name": "stdout"
        }
      ]
    },
    {
      "cell_type": "markdown",
      "metadata": {
        "id": "-eGZCEzq2rlv"
      },
      "source": [
        "1. Inicio con x=3\n",
        "2. Se lo paso a la funcion()\n",
        "3. Dentro de la función hacemos que la variable valga cero\n",
        "4. Dado que pasa como valor dentro de la función se crea una copia local de x. Por lo cual, la variable original no se modifica."
      ]
    },
    {
      "cell_type": "code",
      "metadata": {
        "colab": {
          "base_uri": "https://localhost:8080/"
        },
        "id": "gBNygWXW3Cg9",
        "outputId": "357e56ae-e471-4ca2-dd70-477180272a11"
      },
      "source": [
        "#Caso que pasa por **Referencia**\n",
        "\n",
        "x=[3,6,9,12]\n",
        "def sw(tipo):\n",
        "  tipo.append(50)\n",
        "sw(x)\n",
        "print(x)"
      ],
      "execution_count": null,
      "outputs": [
        {
          "output_type": "stream",
          "text": [
            "[3, 6, 9, 12, 50]\n"
          ],
          "name": "stdout"
        }
      ]
    },
    {
      "cell_type": "markdown",
      "metadata": {
        "id": "eXpDd88Z3IBt"
      },
      "source": [
        "**Tipos de Funciones**\n",
        "\n",
        "1.Funciones Lambda\n",
        "\n",
        "---\n",
        "Son funciones que normalmente se usan para definir el código en una sola linea.\n",
        "\n",
        "\n",
        "\n",
        "\n"
      ]
    },
    {
      "cell_type": "code",
      "metadata": {
        "colab": {
          "base_uri": "https://localhost:8080/"
        },
        "id": "sFaOjzgH3Uw7",
        "outputId": "4b5b20eb-ed29-42c8-8274-07e5fa95c6a6"
      },
      "source": [
        "#Loque normalmente sería la definición de la función de este estilo:\n",
        "#def suma(a,b,c,d)\n",
        "#   return a+b+c+d\n",
        " \n",
        "#*# Se puede escribir de la siguiente forma:\n",
        "(lambda a,b,c,d: a+b+c+d)(1,2,3,4)"
      ],
      "execution_count": null,
      "outputs": [
        {
          "output_type": "execute_result",
          "data": {
            "text/plain": [
              "10"
            ]
          },
          "metadata": {},
          "execution_count": 4
        }
      ]
    },
    {
      "cell_type": "code",
      "metadata": {
        "colab": {
          "base_uri": "https://localhost:8080/"
        },
        "id": "7sbDwRZa3W5H",
        "outputId": "babe6a81-a0d0-43ec-b2f8-2ce0a4db93ee"
      },
      "source": [
        "(lambda *number:sum(number))(1,4,5,5,6,7,8)"
      ],
      "execution_count": null,
      "outputs": [
        {
          "output_type": "execute_result",
          "data": {
            "text/plain": [
              "36"
            ]
          },
          "metadata": {},
          "execution_count": 5
        }
      ]
    },
    {
      "cell_type": "code",
      "metadata": {
        "colab": {
          "base_uri": "https://localhost:8080/"
        },
        "id": "LBwdv4Xn3Ync",
        "outputId": "ff156e8d-d898-47af-d7f8-5cca744613f5"
      },
      "source": [
        "(lambda *number:sum(number))(1,4,5,5,6,7,8)"
      ],
      "execution_count": null,
      "outputs": [
        {
          "output_type": "execute_result",
          "data": {
            "text/plain": [
              "36"
            ]
          },
          "metadata": {},
          "execution_count": 7
        }
      ]
    },
    {
      "cell_type": "code",
      "metadata": {
        "colab": {
          "base_uri": "https://localhost:8080/"
        },
        "id": "jy6vNHt43Z5t",
        "outputId": "7a1134dc-489c-4a6f-a2e8-faef0086f7ae"
      },
      "source": [
        "(lambda **number: sum(number.values()))(a=1,b=4,c=10)\n"
      ],
      "execution_count": null,
      "outputs": [
        {
          "output_type": "execute_result",
          "data": {
            "text/plain": [
              "15"
            ]
          },
          "metadata": {},
          "execution_count": 6
        }
      ]
    },
    {
      "cell_type": "markdown",
      "metadata": {
        "id": "RcvDWJdP3c9F"
      },
      "source": [
        "luisa=lambda a,b,c,d:a+b+c+d print(luisa(4,6,1,1))\n",
        "\n"
      ]
    },
    {
      "cell_type": "markdown",
      "metadata": {
        "id": "fgdad_2j3fYr"
      },
      "source": [
        "**RECURSIVIDAD**\n",
        "\n"
      ]
    },
    {
      "cell_type": "markdown",
      "metadata": {
        "id": "K9_Mwzca3kSt"
      },
      "source": [
        "Las caracteristicas de una función recursiva son las siguientes:\n",
        "\n",
        "1. Sección en que se llama a sí misma\n",
        "2. Sección del bloque de código donde este la condición que implique retornar sinvolver a llamarse. (IMPORTANTE)\n",
        "\n",
        "Los ejemplos tradicionales de Recursividad son la aplicación de Cálculo factorial y la serie de fabionacci.\n",
        "\n",
        "1. Cálculo factorial En matemáticas definimos factorial (n!) como la multipicación de todos sus números predecesores hasta llegar a uno:\n",
        "\n",
        "Ejemplo:\n",
        "\n",
        "5! = 5 4 3 2 1"
      ]
    },
    {
      "cell_type": "code",
      "metadata": {
        "colab": {
          "base_uri": "https://localhost:8080/"
        },
        "id": "ku00S8iW3wa6",
        "outputId": "f9eb9996-0872-4215-ecf5-e4de1dc203d5"
      },
      "source": [
        "#Apliquemosun enfoque no recursivo de cálculo fatorial:\n",
        "\n",
        "def factorial(n):\n",
        "  w=1\n",
        "  i=2\n",
        "  while i<=n:\n",
        "    w *=i\n",
        "    i +=1\n",
        "  return w\n",
        "factorial(5)"
      ],
      "execution_count": null,
      "outputs": [
        {
          "output_type": "execute_result",
          "data": {
            "text/plain": [
              "120"
            ]
          },
          "metadata": {},
          "execution_count": 8
        }
      ]
    },
    {
      "cell_type": "code",
      "metadata": {
        "colab": {
          "base_uri": "https://localhost:8080/"
        },
        "id": "fkwBpawA3zNM",
        "outputId": "79c3460d-2458-4e23-fc12-549327973c42"
      },
      "source": [
        "#Definamos factorial recursivo:\n",
        "\n",
        "def recursivofac(n):\n",
        "  if n==1:\n",
        "    return 1\n",
        "  else:\n",
        "    return n*recursivofac(n-1)\n",
        "recursivofac(10)"
      ],
      "execution_count": null,
      "outputs": [
        {
          "output_type": "execute_result",
          "data": {
            "text/plain": [
              "3628800"
            ]
          },
          "metadata": {},
          "execution_count": 9
        }
      ]
    },
    {
      "cell_type": "markdown",
      "metadata": {
        "id": "UJlLSmbZ306L"
      },
      "source": [
        "A continuación complementamos los tipos de geradores:\n",
        "\n",
        "1. Return\n",
        "2. Yield"
      ]
    },
    {
      "cell_type": "code",
      "metadata": {
        "colab": {
          "base_uri": "https://localhost:8080/"
        },
        "id": "tw9C5Q2X36wT",
        "outputId": "5626d36d-b4e9-4630-bf7b-acb0d14a02c2"
      },
      "source": [
        "def s():\n",
        "  yield 4\n",
        "s()"
      ],
      "execution_count": null,
      "outputs": [
        {
          "output_type": "execute_result",
          "data": {
            "text/plain": [
              "<generator object s at 0x7f6015897950>"
            ]
          },
          "metadata": {},
          "execution_count": 10
        }
      ]
    },
    {
      "cell_type": "markdown",
      "metadata": {
        "id": "F327HTw135Vf"
      },
      "source": [
        "Cuando usamos el return nos devuelve el número 4, pero cuando usamos el yield nos devuelve un objeto de clase (generator)"
      ]
    }
  ]
}