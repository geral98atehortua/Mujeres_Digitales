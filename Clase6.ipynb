{
  "nbformat": 4,
  "nbformat_minor": 0,
  "metadata": {
    "colab": {
      "name": "Clase6.ipynb",
      "provenance": [],
      "include_colab_link": true
    },
    "kernelspec": {
      "name": "python3",
      "display_name": "Python 3"
    },
    "language_info": {
      "name": "python"
    }
  },
  "cells": [
    {
      "cell_type": "markdown",
      "metadata": {
        "id": "view-in-github",
        "colab_type": "text"
      },
      "source": [
        "<a href=\"https://colab.research.google.com/github/geral98atehortua/Mujeres_Digitales/blob/main/Clase6.ipynb\" target=\"_parent\"><img src=\"https://colab.research.google.com/assets/colab-badge.svg\" alt=\"Open In Colab\"/></a>"
      ]
    },
    {
      "cell_type": "markdown",
      "metadata": {
        "id": "eep40x_wL6g2"
      },
      "source": [
        "**CONTINUACIÓN DE LOS EJEMPLOS DE USO DE LISTA DE COMPRENSIÓN**\n",
        "\n",
        "---\n",
        "*COMPRESIÓN DE CONJUNTOS*\n",
        "\n",
        "---\n",
        "\n",
        "La comprensión de conjuntos es muy similar a la que veniamos manejando con Lista. La única diferencia es que se usa los {}\n",
        "\n",
        "Recordemos que los conjuntos, también denominados *sets* no permiten dupliados, es decir, cada elemento es único. Si se llega a añadir en elemento repetido, no arrojará error, pero no se mostrará en el print."
      ]
    },
    {
      "cell_type": "code",
      "metadata": {
        "id": "82l3af1ZMEY5",
        "colab": {
          "base_uri": "https://localhost:8080/"
        },
        "outputId": "f12cd2ea-7c8c-491a-b123-03716df59f52"
      },
      "source": [
        "sa=\"ema ama a mama\"\n",
        "sa2={i for i in sa if i==\"m\"}\n",
        "print(sa2)"
      ],
      "execution_count": null,
      "outputs": [
        {
          "output_type": "stream",
          "text": [
            "{'m'}\n"
          ],
          "name": "stdout"
        }
      ]
    },
    {
      "cell_type": "markdown",
      "metadata": {
        "id": "5oX7GtDKMG0u"
      },
      "source": [
        "Ahora, veámos a continuación el caso de dictionarios de comprensión. La unica diferencia que tiene respecto a las listas o conjuntos de comprensión es la especificación de llaves o claves(key)."
      ]
    },
    {
      "cell_type": "code",
      "metadata": {
        "id": "o_ucduFDMJ8M",
        "colab": {
          "base_uri": "https://localhost:8080/"
        },
        "outputId": "97ec9907-0e1e-4a18-d19c-6107d143d33d"
      },
      "source": [
        "lista1=['nombre', 'apellido', 'ciudad']\n",
        "lista2=['Ana', 'Rodriguez', 'Popayan']\n",
        "\n",
        "dic={i:j for i,j in zip(lista1, lista2)}\n",
        "print(dic)"
      ],
      "execution_count": null,
      "outputs": [
        {
          "output_type": "stream",
          "text": [
            "{'nombre': 'Ana', 'apellido': 'Rodriguez', 'ciudad': 'Popayan'}\n"
          ],
          "name": "stdout"
        }
      ]
    },
    {
      "cell_type": "markdown",
      "metadata": {
        "id": "qdECM20qMMPQ"
      },
      "source": [
        "NOTA\n",
        "\n",
        "Podemos observar que añadiendo \":\" \n",
        "\n",
        "asignamos un valor a la llave declarada, a su vez, usamos zip() el cual tiene como función iterar dos listas en paralelo. Es decir, con zip, podemos convertir dos listas en un diccionario y el for, se manejaria iterando dos valores en simultaneo."
      ]
    },
    {
      "cell_type": "markdown",
      "metadata": {
        "id": "taR2BlDLMQJb"
      },
      "source": [
        "OTRAS ESTRUCTURAS DE CONTROL\n",
        "\n",
        "*Switch\n",
        "\n",
        "*Break\n",
        "\n",
        "*Continue\n",
        "Complemento de iteración (Enumerate)\n",
        "1. Switch\n",
        "\n",
        "El Switch, es una herramienta que permite ejecutar diferentes secciones de código, dependiendo de las condiciones impustas. Su función, es muy similar if anidados o varios por separado al mismo tiempo.\n",
        "\n",
        "Sin embargo, en Python no hay un switch directo.\n",
        "\n",
        "2. Break\n",
        "\n",
        "Nos permite alterar el comportamiento de los ciclos while y for. Directamente su función, es la de finalizar los ciclos"
      ]
    },
    {
      "cell_type": "code",
      "metadata": {
        "id": "OWQn7Wn5MR9W",
        "colab": {
          "base_uri": "https://localhost:8080/"
        },
        "outputId": "88ce8903-8f7c-4790-94e9-005ec915a6b7"
      },
      "source": [
        "x=\"Andrea\" # sin break va a generar error\n",
        "for i in x:\n",
        "  if i==\"e\":\n",
        "    print(\"se obtuvo la letra e\") \n",
        "    break\n",
        "  print(i)"
      ],
      "execution_count": null,
      "outputs": [
        {
          "output_type": "stream",
          "text": [
            "A\n",
            "n\n",
            "d\n",
            "r\n",
            "se obtuvo la letra e\n"
          ],
          "name": "stdout"
        }
      ]
    },
    {
      "cell_type": "code",
      "metadata": {
        "id": "GEzeYLVSMUgK",
        "colab": {
          "base_uri": "https://localhost:8080/"
        },
        "outputId": "99d850c8-cfd1-4eb5-d2d0-f0636b8fd42b"
      },
      "source": [
        "x=15 #generar valor en una variable tipo numerico entero, de ahí aplicamos el ciclo de while... mientras llegemos a este punto de que este número sea verdadero.. quiero que se me genere el siguiente número\n",
        "while True: \n",
        "  x -=1\n",
        "  print(x)\n",
        "  if x==0:\n",
        "    break\n",
        "print(\"se finaliza ciclo\")"
      ],
      "execution_count": null,
      "outputs": [
        {
          "output_type": "stream",
          "text": [
            "14\n",
            "13\n",
            "12\n",
            "11\n",
            "10\n",
            "9\n",
            "8\n",
            "7\n",
            "6\n",
            "5\n",
            "4\n",
            "3\n",
            "2\n",
            "1\n",
            "0\n",
            "se finaliza ciclo\n"
          ],
          "name": "stdout"
        }
      ]
    },
    {
      "cell_type": "code",
      "metadata": {
        "id": "VmOQhjCQIvIu",
        "colab": {
          "base_uri": "https://localhost:8080/"
        },
        "outputId": "cdf21fc8-4304-4fc7-e10a-0387a4433aff"
      },
      "source": [
        "#mezcla del uso de break con bucles anidados\n",
        "\n",
        "for i in range(1,8):\n",
        "  for j in range(1,8):\n",
        "   break \n",
        "  print(i,j)\n",
        "\n",
        "  #El break no afecta el *for* exterior, rompre el ciclo anidado en su conjunto\n",
        "  # Pero no afecta direcamente el ciclo exterior"
      ],
      "execution_count": null,
      "outputs": [
        {
          "output_type": "stream",
          "text": [
            "1 1\n",
            "2 1\n",
            "3 1\n",
            "4 1\n",
            "5 1\n",
            "6 1\n",
            "7 1\n"
          ],
          "name": "stdout"
        }
      ]
    },
    {
      "cell_type": "markdown",
      "metadata": {
        "id": "zkHCa8vaMYoF"
      },
      "source": [
        "2. CONTINUE\n",
        "\n",
        "El continue se salta too el código restante en la iteración actual y vuelve al principio en caso que quede elementos por iterar.\n",
        "\n",
        "Diferencias entre break y continue: La principal diferencia es que el continue no rompe el ciclo, sino que pasa a la iteración pendiente."
      ]
    },
    {
      "cell_type": "code",
      "metadata": {
        "colab": {
          "base_uri": "https://localhost:8080/"
        },
        "id": "Ke54qR3oMaZg",
        "outputId": "9f862729-20b3-47df-a726-d227f7dadbe8"
      },
      "source": [
        "#Ejemplo\n",
        "\n",
        "x=\"Andrea\"\n",
        "for i in x:\n",
        "  if i==\"r\":\n",
        "    continue \n",
        "  print(i)"
      ],
      "execution_count": null,
      "outputs": [
        {
          "output_type": "stream",
          "text": [
            "A\n",
            "n\n",
            "d\n",
            "e\n",
            "a\n"
          ],
          "name": "stdout"
        }
      ]
    },
    {
      "cell_type": "code",
      "metadata": {
        "id": "HFz7EhPEMb5b",
        "colab": {
          "base_uri": "https://localhost:8080/"
        },
        "outputId": "529d53e2-5c09-41e0-9701-10e98f1c76b0"
      },
      "source": [
        "#ejemplo de caso con while##########################################################\n",
        "x = 15 \n",
        "while x > 0:\n",
        "  x -= 1\n",
        "  if x == 3:\n",
        "    continue\n",
        "  print(x)"
      ],
      "execution_count": null,
      "outputs": [
        {
          "output_type": "stream",
          "text": [
            "14\n",
            "13\n",
            "12\n",
            "11\n",
            "10\n",
            "9\n",
            "8\n",
            "7\n",
            "6\n",
            "5\n",
            "4\n",
            "2\n",
            "1\n",
            "0\n"
          ],
          "name": "stdout"
        }
      ]
    },
    {
      "cell_type": "markdown",
      "metadata": {
        "id": "K_k3D_nrMeRp"
      },
      "source": [
        "Iterar con enumerate\n",
        "\n",
        "Python nos permite iterra colecciones de objetos y elementos de la misma forma. Sin embargo, hay una opción que es que en algunas situaciones que queramos acceder a un elemento ordenado podemos hacerlo, nombrando el indice de cada elemento ###################"
      ]
    },
    {
      "cell_type": "code",
      "metadata": {
        "id": "9CnsL4hrMgzp",
        "colab": {
          "base_uri": "https://localhost:8080/"
        },
        "outputId": "3b8d188a-fea8-4a75-fbd7-c5c2e77965ba"
      },
      "source": [
        "w=[\"sa\", \"se\", \"si\", \"so\", \"su\"]\n",
        "indice=0\n",
        "for i in w:\n",
        " print(indice,i)\n",
        " indice +=1\n",
        " \n",
        " ############"
      ],
      "execution_count": null,
      "outputs": [
        {
          "output_type": "stream",
          "text": [
            "0 sa\n",
            "1 se\n",
            "2 si\n",
            "3 so\n",
            "4 su\n"
          ],
          "name": "stdout"
        }
      ]
    },
    {
      "cell_type": "code",
      "metadata": {
        "id": "4L0vj_GdmRJp",
        "colab": {
          "base_uri": "https://localhost:8080/"
        },
        "outputId": "71a9da87-f1c7-4bd6-f661-04de75a46579"
      },
      "source": [
        "y=[1,2,3,4,5,6,7,8]\n",
        "indice=0\n",
        "for i in y:\n",
        "  print(indice,i)\n",
        "  indice+=3\n"
      ],
      "execution_count": null,
      "outputs": [
        {
          "output_type": "stream",
          "text": [
            "0 1\n",
            "3 2\n",
            "6 3\n",
            "9 4\n",
            "12 5\n",
            "15 6\n",
            "18 7\n",
            "21 8\n"
          ],
          "name": "stdout"
        }
      ]
    },
    {
      "cell_type": "code",
      "metadata": {
        "id": "JN0_4Ldqm_yc",
        "colab": {
          "base_uri": "https://localhost:8080/"
        },
        "outputId": "121b8676-15a0-4337-f87d-efec28db5971"
      },
      "source": [
        "s=[1,2,3,4,5,6,7,8]\n",
        "for indice, i in enumerate(s):\n",
        "   print(indice,i)\n"
      ],
      "execution_count": null,
      "outputs": [
        {
          "output_type": "stream",
          "text": [
            "0 1\n",
            "1 2\n",
            "2 3\n",
            "3 4\n",
            "4 5\n",
            "5 6\n",
            "6 7\n",
            "7 8\n"
          ],
          "name": "stdout"
        }
      ]
    },
    {
      "cell_type": "code",
      "metadata": {
        "id": "WWtnWd8BMjj7",
        "colab": {
          "base_uri": "https://localhost:8080/"
        },
        "outputId": "ce29bd81-627e-492f-ab6a-a855bd92aed4"
      },
      "source": [
        "w=[\"sa\", \"se\", \"si\", \"so\", \"su\"]\n",
        "for indice, i in enumerate(w):\n",
        "  print(indice,i)\n",
        "\n",
        "x=list(enumerate(w))\n",
        "print(x)"
      ],
      "execution_count": null,
      "outputs": [
        {
          "output_type": "stream",
          "text": [
            "0 sa\n",
            "1 se\n",
            "2 si\n",
            "3 so\n",
            "4 su\n",
            "[(0, 'sa'), (1, 'se'), (2, 'si'), (3, 'so'), (4, 'su')]\n"
          ],
          "name": "stdout"
        }
      ]
    },
    {
      "cell_type": "markdown",
      "metadata": {
        "id": "-L8Hd4ODMnMp"
      },
      "source": [
        "Uso zip()\n",
        "\n",
        "la función directa de conversión de tuplas\n",
        "Si pasamos dos listas a zip, ek resultado será una tupla en donde cada elemento tendrá ########### cada uno de los elementos de las entradas"
      ]
    },
    {
      "cell_type": "code",
      "metadata": {
        "id": "tdYk4A_BMqLY",
        "colab": {
          "base_uri": "https://localhost:8080/"
        },
        "outputId": "b56d1212-c4e5-4556-8aa2-b74c930d3448"
      },
      "source": [
        "a=[1,2,3]\n",
        "b=[\"a\",\"b\",\"c\",]\n",
        "x=(\"q\",\"w\",\"e\")\n",
        "z=(10,20,20)\n",
        "c=zip(a,c)\n",
        "print(list(c))\n",
        "\n",
        "\n",
        "for i, j in zip(a,b):\n",
        "  print(\"Número\", i, \"letras\", j)\n",
        "\n",
        "\n",
        "  "
      ],
      "execution_count": null,
      "outputs": [
        {
          "output_type": "stream",
          "text": [
            "[]\n",
            "Número 1 letras a\n",
            "Número 2 letras b\n",
            "Número 3 letras c\n"
          ],
          "name": "stdout"
        }
      ]
    },
    {
      "cell_type": "code",
      "metadata": {
        "id": "Qa2Sr6K1xyAK",
        "colab": {
          "base_uri": "https://localhost:8080/"
        },
        "outputId": "046fe28d-85c8-41ff-baaa-97fb9eb507a3"
      },
      "source": [
        "####### REVISARR\n",
        "\n",
        "a=[1,2,3]\n",
        "b=[\"a\",\"b\",\"c\"]\n",
        "x=(\"q\",\"w\",\"e\")\n",
        "z=(10,20,20)\n",
        "c=zip(a,b)\n",
        "print(list(c))\n",
        "\n",
        "\n",
        "for i,j,k,l in zip(a,b,x,z):\n",
        "  print(i,j,k,l)"
      ],
      "execution_count": null,
      "outputs": [
        {
          "output_type": "stream",
          "text": [
            "[(1, 'a'), (2, 'b'), (3, 'c')]\n",
            "1 a q 10\n",
            "2 b w 20\n",
            "3 c e 20\n"
          ],
          "name": "stdout"
        }
      ]
    },
    {
      "cell_type": "code",
      "metadata": {
        "id": "bzQELB4LxM1b",
        "colab": {
          "base_uri": "https://localhost:8080/"
        },
        "outputId": "d7771148-1bca-4795-8f65-37b08aae5b3e"
      },
      "source": [
        "a=[1,2,3]\n",
        "b=[\"a\",\"b\",\"c\",]\n",
        "c= zip(a,b)\n",
        "print(list(c))"
      ],
      "execution_count": null,
      "outputs": [
        {
          "output_type": "stream",
          "text": [
            "[(1, 'a'), (2, 'b'), (3, 'c')]\n"
          ],
          "name": "stdout"
        }
      ]
    },
    {
      "cell_type": "code",
      "metadata": {
        "id": "2q69U6QVMtfX",
        "colab": {
          "base_uri": "https://localhost:8080/"
        },
        "outputId": "638dc444-b79c-4290-b319-fa4d62fc9ec2"
      },
      "source": [
        "a=[1,2,6]   \n",
        "b=[\"a\",\"b\"]\n",
        "\n",
        "for i,j in zip(a,b):\n",
        "  print(i,j)\n"
      ],
      "execution_count": null,
      "outputs": [
        {
          "output_type": "stream",
          "text": [
            "1 a\n",
            "2 b\n"
          ],
          "name": "stdout"
        }
      ]
    },
    {
      "cell_type": "code",
      "metadata": {
        "id": "fxm_5-7m0NdK",
        "outputId": "6046d860-1eb5-4251-faa8-b4f759c9fd12",
        "colab": {
          "base_uri": "https://localhost:8080/"
        }
      },
      "source": [
        "c=[(1, 'a'), (2, 'b'), (3, 'c')]\n",
        "a,b=zip(*c)\n",
        "print(a)\n",
        "print(b)\n"
      ],
      "execution_count": 48,
      "outputs": [
        {
          "output_type": "stream",
          "text": [
            "(1, 2, 3)\n",
            "('a', 'b', 'c')\n"
          ],
          "name": "stdout"
        }
      ]
    },
    {
      "cell_type": "code",
      "metadata": {
        "id": "YErxiL1fMvVY"
      },
      "source": [
        "c=[(1,'a'), (2,'b'), (2,'c')]   #ESTO ES PARA ROMPER CONJUNTOS\n",
        "a,b=zip(*c)\n",
        "print(a)\n",
        "print(b)"
      ],
      "execution_count": null,
      "outputs": []
    },
    {
      "cell_type": "markdown",
      "metadata": {
        "id": "hlhJExfIMxSG"
      },
      "source": [
        "FUNCIONES\n",
        "\n",
        "La función nos permite ordenar de manera adecuada la generación de variables de objetos y bloques de código por ciclos y demás estructura.\n",
        "\n",
        "La sintaxis, es la siguiente:\n",
        "\n",
        "def nombre_funcion(argumentos): bloque de código nombre_funcion(argumentos2)\n",
        "\n",
        "argumentos=el la cantidad de elementos que vamos a considerar"
      ]
    },
    {
      "cell_type": "code",
      "metadata": {
        "id": "BPOoDk3tMy_c",
        "outputId": "263c52c0-24cc-4ce3-ea75-39542e5744a6",
        "colab": {
          "base_uri": "https://localhost:8080/"
        }
      },
      "source": [
        "def f(a):  # en lugra de f, puedo poner lo que yo quiera\n",
        "  return 2*a\n",
        "y=f(3)\n",
        "print(y)"
      ],
      "execution_count": 49,
      "outputs": [
        {
          "output_type": "stream",
          "text": [
            "6\n"
          ],
          "name": "stdout"
        }
      ]
    },
    {
      "cell_type": "code",
      "metadata": {
        "id": "QBQqaI3N9Jyd",
        "outputId": "0b76237a-5b03-4ed2-9bb5-3afd693d6ecf",
        "colab": {
          "base_uri": "https://localhost:8080/"
        }
      },
      "source": [
        "def g(c):\n",
        "  return 2*c\n",
        "  x=g(10)\n",
        "print(x)"
      ],
      "execution_count": 54,
      "outputs": [
        {
          "output_type": "stream",
          "text": [
            "('q', 'w', 'e')\n"
          ],
          "name": "stdout"
        }
      ]
    },
    {
      "cell_type": "markdown",
      "metadata": {
        "id": "Vj7XiiqyM0XC"
      },
      "source": [
        "Las funciones no sólo realizan una operación de sus entradas (argumentos de inicio), sino también de los siguientes principios:\n",
        "\n",
        "1. Reusabilidad: Si tenemos un fragmento de código usado en muchos sitios,y se guarda en una función. Nos evitará tener códigos repetidos, además de la conveniencia que tiene por ser facilmente editable.\n",
        "\n",
        "2. Modularidad: Permite legibilidad de forma más sencilla, es decir, los largos bloques de código se pueden agrupar en módulos o funciones y la lectura va a ser mucho más sencilla."
      ]
    },
    {
      "cell_type": "code",
      "metadata": {
        "id": "ch2qmhevM2IV"
      },
      "source": [
        "#Ejemplo 1: función son argumentos de entrada ni parametros de salida:\n",
        "\n",
        "def s(): #Declaración de función \n",
        " print(\"Hi Luisa\")\n",
        "s() #Al cerrar la definición de función, me va a aparecer la ejecución del código"
      ],
      "execution_count": null,
      "outputs": []
    },
    {
      "cell_type": "code",
      "metadata": {
        "id": "XxlWGTquM3z1"
      },
      "source": [
        "#Ejemplo 2. Inclusión de argumentos de entrada\n",
        "\n",
        "def s(apellido): #apellido en el argumento de entrada\n",
        "  print(\"Hi Luisa\", apellido)\n",
        "s(\"Varon\")"
      ],
      "execution_count": null,
      "outputs": []
    },
    {
      "cell_type": "code",
      "metadata": {
        "id": "a5d6VXECM6F8"
      },
      "source": [
        "#Ejemplo 3. Usaando dos arguemntos de entrada y salida y operación matemática\n",
        "\n",
        "def suma(a,b):\n",
        " return a+b\n",
        "suma(3,5)"
      ],
      "execution_count": null,
      "outputs": []
    },
    {
      "cell_type": "code",
      "metadata": {
        "id": "TKnHxNyKM7vX"
      },
      "source": [
        "#Ejemplo 4. Reusabilidad del código\n",
        "dog(a=4, b=20)\n",
        "\n",
        "#\n",
        "suma(a=4, b=20)"
      ],
      "execution_count": null,
      "outputs": []
    },
    {
      "cell_type": "code",
      "metadata": {
        "id": "HwFmBSepM9Up"
      },
      "source": [
        "#Ejemplo 4. Argumentos fijos desde el inicio\n",
        "\n",
        "def suma(a,b,c,d=1): ##Corección de default\n",
        " return a+b+c+d\n",
        "suma(2,3,4,2)\n"
      ],
      "execution_count": null,
      "outputs": []
    },
    {
      "cell_type": "code",
      "metadata": {
        "id": "Q1o2a-bUM_Dc"
      },
      "source": [
        "suma(2,3,3,4)"
      ],
      "execution_count": null,
      "outputs": []
    },
    {
      "cell_type": "code",
      "metadata": {
        "id": "edWk55OwNDmE"
      },
      "source": [
        "def suma(a=2, b=3, c=4, d=5):\n",
        "  return a+b+c+d\n",
        "suma()\n",
        "\n",
        "suma(1)\n",
        "suma(a=1,c=5)\n"
      ],
      "execution_count": null,
      "outputs": []
    },
    {
      "cell_type": "code",
      "metadata": {
        "id": "9tDXTELmNFgQ"
      },
      "source": [
        "# Ejemplo 5 Argumentos de longitud variable\n",
        "\n",
        "def suma(number):\n",
        "  total=0\n",
        "  for i in number:\n",
        "    total +=i\n",
        "  return total \n",
        "suma([1,3,5,4])\n",
        " \n",
        "\n",
        "####Se realizo la suma de rodos los números de entrada. Para ellos la declaración de los argumenros de salida, sería como una lista\n",
        "\n",
        "#    += dice que lo traiga de forma ordenada\n",
        " #   -= revserso"
      ],
      "execution_count": null,
      "outputs": []
    },
    {
      "cell_type": "markdown",
      "metadata": {
        "id": "FQ32aR0MNI3d"
      },
      "source": [
        "\n",
        "Nota: Se realizo la suma de rodos los números de entrada. Para ellos la declaración de los argumentos de salida, sería como una lista.\n",
        "\n",
        "La forma de sintaxis anterior es válida, sin embargo, tebemos un solo argumento que llamamos number, que es una lista de números.\n",
        "Si declaramos un argumento con *, esto hará que el argumento sea guardado como tupla de manera automática."
      ]
    },
    {
      "cell_type": "code",
      "metadata": {
        "id": "SStXLojXNHI2"
      },
      "source": [
        "def suma(*number):\n",
        "  print(type(number))\n",
        "  total=0\n",
        "  for i in number:\n",
        "    total+=i\n",
        "  return total\n",
        "suma(2,3,5,4)"
      ],
      "execution_count": null,
      "outputs": []
    }
  ]
}