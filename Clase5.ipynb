{
  "nbformat": 4,
  "nbformat_minor": 0,
  "metadata": {
    "colab": {
      "name": "Clase5.ipynb",
      "provenance": [],
      "authorship_tag": "ABX9TyM7WJ9PGH+aHEXGQLnAbvAk",
      "include_colab_link": true
    },
    "kernelspec": {
      "name": "python3",
      "display_name": "Python 3"
    },
    "language_info": {
      "name": "python"
    }
  },
  "cells": [
    {
      "cell_type": "markdown",
      "metadata": {
        "id": "view-in-github",
        "colab_type": "text"
      },
      "source": [
        "<a href=\"https://colab.research.google.com/github/geral98atehortua/Mujeres_Digitales/blob/main/Clase5.ipynb\" target=\"_parent\"><img src=\"https://colab.research.google.com/assets/colab-badge.svg\" alt=\"Open In Colab\"/></a>"
      ]
    },
    {
      "cell_type": "markdown",
      "metadata": {
        "id": "1zGI73PJpk6H"
      },
      "source": [
        "**Continuacion de ciclos**\n",
        "\n",
        "---\n",
        "**Ciclos FOR-Bucle For**\n"
      ]
    },
    {
      "cell_type": "code",
      "metadata": {
        "colab": {
          "base_uri": "https://localhost:8080/"
        },
        "id": "3WL01AlGpwnK",
        "outputId": "a6d2504a-9d29-4300-a081-d715e22e606e"
      },
      "source": [
        "for i in range(1,5):\n",
        "    print(i)\n"
      ],
      "execution_count": null,
      "outputs": [
        {
          "output_type": "stream",
          "text": [
            "1\n",
            "2\n",
            "3\n",
            "4\n"
          ],
          "name": "stdout"
        }
      ]
    },
    {
      "cell_type": "markdown",
      "metadata": {
        "id": "MEqHdM6uqFk2"
      },
      "source": [
        "Para dejar claro las partes que componen el bucle **For**, vamos a dejar claro las siguientes definiciones:\n",
        "\n",
        "1.**Iterable**: son los objetos que pueden ser iterados. por ejemplo una lista, un valor tipo cadena, e.t.c\n",
        "\n",
        "2.**Iterador**: Son los objetos que hacen referencia a un elemento( para hacer referencia a cada uno de los elementos hay un metodo denominado \"next\" que permite hacer referencia a los elementos del conjunto."
      ]
    },
    {
      "cell_type": "markdown",
      "metadata": {
        "id": "ND2PHgv3icAT"
      },
      "source": [
        "** for <variable> in <iterable>:\n",
        "<Bloque codigo>\n",
        "\n",
        "Algunos ejemplos de iterables en Python son las listas, cadenas, diccionarios, tuplas,e.t.c\n",
        "\n",
        "¿Como saber que es iterable a la hora de programar?\n",
        "\n",
        "Podemos darnos cuenta que es iterable usando la función isinstance()."
      ]
    },
    {
      "cell_type": "code",
      "metadata": {
        "colab": {
          "base_uri": "https://localhost:8080/"
        },
        "id": "jKgfvAIDsaqJ",
        "outputId": "014b8c3d-cdd8-44e9-fc42-d0fc6467cd33"
      },
      "source": [
        "from collections import Iterable #paquete Iterable de colletions (Pyton 3.7)\n",
        "lista=[1,2,3,4,5,6,7,8,9,0]\n",
        "a=\"computador\"\n",
        "b=14\n",
        "print(isinstance(lista,Iterable))\n",
        "print(isinstance(a,Iterable))\n",
        "print(isinstance(b,Iterable))"
      ],
      "execution_count": null,
      "outputs": [
        {
          "output_type": "stream",
          "text": [
            "True\n",
            "True\n",
            "False\n"
          ],
          "name": "stdout"
        }
      ]
    },
    {
      "cell_type": "code",
      "metadata": {
        "colab": {
          "base_uri": "https://localhost:8080/",
          "height": 197
        },
        "id": "_-RmLkX_vVzy",
        "outputId": "9a578a93-77f4-4b36-e3eb-0dcb3ab8ad88"
      },
      "source": [
        "a=10\n",
        "for i in a:\n",
        "  print(i)"
      ],
      "execution_count": null,
      "outputs": [
        {
          "output_type": "error",
          "ename": "TypeError",
          "evalue": "ignored",
          "traceback": [
            "\u001b[0;31m---------------------------------------------------------------------------\u001b[0m",
            "\u001b[0;31mTypeError\u001b[0m                                 Traceback (most recent call last)",
            "\u001b[0;32m<ipython-input-43-7bfc21bd393a>\u001b[0m in \u001b[0;36m<module>\u001b[0;34m()\u001b[0m\n\u001b[1;32m      1\u001b[0m \u001b[0ma\u001b[0m\u001b[0;34m=\u001b[0m\u001b[0;36m10\u001b[0m\u001b[0;34m\u001b[0m\u001b[0;34m\u001b[0m\u001b[0m\n\u001b[0;32m----> 2\u001b[0;31m \u001b[0;32mfor\u001b[0m \u001b[0mi\u001b[0m \u001b[0;32min\u001b[0m \u001b[0ma\u001b[0m\u001b[0;34m:\u001b[0m\u001b[0;34m\u001b[0m\u001b[0;34m\u001b[0m\u001b[0m\n\u001b[0m\u001b[1;32m      3\u001b[0m   \u001b[0mprint\u001b[0m\u001b[0;34m(\u001b[0m\u001b[0mi\u001b[0m\u001b[0;34m)\u001b[0m\u001b[0;34m\u001b[0m\u001b[0;34m\u001b[0m\u001b[0m\n",
            "\u001b[0;31mTypeError\u001b[0m: 'int' object is not iterable"
          ]
        }
      ]
    },
    {
      "cell_type": "markdown",
      "metadata": {
        "id": "p4LFWWy7vjMu"
      },
      "source": [
        "Para entender los iteradores es importante conocer la función *iter()*, esta función puede ser llamada sobre un objeto que sea iterable  y nos devolvera un iterador\n",
        "\n",
        "Ejemplo:"
      ]
    },
    {
      "cell_type": "code",
      "metadata": {
        "colab": {
          "base_uri": "https://localhost:8080/"
        },
        "id": "uUpa7pkvv7s9",
        "outputId": "a1279d53-be10-4c1a-cd42-83ad6ecaa431"
      },
      "source": [
        "lista=[1,2,3,4,5,6,7,8,9,0]\n",
        "ref=iter(lista)\n",
        "print(ref)\n",
        "print(type(ref))"
      ],
      "execution_count": null,
      "outputs": [
        {
          "output_type": "stream",
          "text": [
            "<list_iterator object at 0x7f82a1f9da50>\n",
            "<class 'list_iterator'>\n"
          ],
          "name": "stdout"
        }
      ]
    },
    {
      "cell_type": "markdown",
      "metadata": {
        "id": "j2KEEFrawcWf"
      },
      "source": [
        "Al imprimir Ref es un iterador, de la clase *list_iterator*. Hace refernecia a la lista original y nos permite acceder a sus elementos con la función *next()."
      ]
    },
    {
      "cell_type": "code",
      "metadata": {
        "colab": {
          "base_uri": "https://localhost:8080/"
        },
        "id": "chQNZbf0wwR4",
        "outputId": "5ecdb891-41a3-4f9d-bb02-6083adae6567"
      },
      "source": [
        "lista=[1,2,3,4,5,6,7,8,9,0]\n",
        "ref=iter(lista)\n",
        "print(next(ref))\n",
        "print(next(ref))\n",
        "print(next(ref))\n",
        "print(next(ref))\n",
        "print(next(ref))\n",
        "print(next(ref))"
      ],
      "execution_count": null,
      "outputs": [
        {
          "output_type": "stream",
          "text": [
            "1\n",
            "2\n",
            "3\n",
            "4\n",
            "5\n",
            "6\n"
          ],
          "name": "stdout"
        }
      ]
    },
    {
      "cell_type": "markdown",
      "metadata": {
        "id": "TVi4pNAsxaBY"
      },
      "source": [
        "**tener en cuenta**\n",
        "Existen otros iteradores para las diferentes clases:\n",
        "\n",
        "1. str_iterador para cadena\n",
        "2. list_iterador para listas\n",
        "3. set>_iterador para conjuntos\n",
        "4. dict_keyiterador para diccionarios "
      ]
    },
    {
      "cell_type": "markdown",
      "metadata": {
        "id": "0VIbZlOux89k"
      },
      "source": [
        "#**For anidados**\n",
        "\n",
        "---\n",
        "Es posible anidarlos, es decir ingresar uno dentro de otro. como lo veremos a continuación.\n",
        "\n"
      ]
    },
    {
      "cell_type": "code",
      "metadata": {
        "colab": {
          "base_uri": "https://localhost:8080/"
        },
        "id": "tXSxYcwXx7sZ",
        "outputId": "ad4ad3ec-a5bb-4a53-84bb-3742f984a61e"
      },
      "source": [
        "#vamos a crear una lista de listas, lo cual conforma una especie de matriz.\n",
        "# Recordar que una matriz se compone de varios va<lores que se distribuyen enn filas y columnas.\n",
        "\n",
        "qa = [[1,2,3],\n",
        "      [4,5,6], \n",
        "      [7,8,9]]\n",
        "  \n",
        "for i in qa :\n",
        "  print(i)\n",
        "\n",
        "for i in qa:\n",
        "  for j in i:\n",
        "    print(j)\n",
        "  "
      ],
      "execution_count": null,
      "outputs": [
        {
          "output_type": "stream",
          "text": [
            "[1, 2, 3]\n",
            "[4, 5, 6]\n",
            "[7, 8, 9]\n",
            "1\n",
            "2\n",
            "3\n",
            "4\n",
            "5\n",
            "6\n",
            "7\n",
            "8\n",
            "9\n"
          ],
          "name": "stdout"
        }
      ]
    },
    {
      "cell_type": "markdown",
      "metadata": {
        "id": "8FRqr2NCzc85"
      },
      "source": [
        "si queremos acceder a cada elemento individualmente, se procede a realizar un bucle de FOR anidado. Es decir , un for se encargará de iterar las columnas y el otro, las filas"
      ]
    },
    {
      "cell_type": "code",
      "metadata": {
        "colab": {
          "base_uri": "https://localhost:8080/"
        },
        "id": "w9jqCT02jcTS",
        "outputId": "06e9d40c-2263-4df3-80b8-6199b6fc9a5b"
      },
      "source": [
        "#Otra forma de utilizar solo el for es la iteración al revés. Es decir se puede iterar la lista desde ek ultimo al primer elemento\n",
        "lista = [1,2,3,4,5,6,7,8,9,0]\n",
        "for i in lista[::-1]:\n",
        "  print(i)"
      ],
      "execution_count": null,
      "outputs": [
        {
          "output_type": "stream",
          "text": [
            "0\n",
            "9\n",
            "8\n",
            "7\n",
            "6\n",
            "5\n",
            "4\n",
            "3\n",
            "2\n",
            "1\n"
          ],
          "name": "stdout"
        }
      ]
    },
    {
      "cell_type": "code",
      "metadata": {
        "colab": {
          "base_uri": "https://localhost:8080/"
        },
        "id": "lLgCu9YXjg_5",
        "outputId": "fe6d2fff-2103-4602-b7af-6c9c6a5dba8b"
      },
      "source": [
        "lista = [1,2,3,4,5,6,7,8,9,0]\n",
        "for i in lista[::2]:\n",
        "  print(i)\n",
        "print(\"----------------------\")\n",
        "a = \"computador\"\n",
        "for i in a [::4]:\n",
        "  print(i)"
      ],
      "execution_count": null,
      "outputs": [
        {
          "output_type": "stream",
          "text": [
            "1\n",
            "3\n",
            "5\n",
            "7\n",
            "9\n",
            "----------------------\n",
            "c\n",
            "u\n",
            "o\n"
          ],
          "name": "stdout"
        }
      ]
    },
    {
      "cell_type": "code",
      "metadata": {
        "colab": {
          "base_uri": "https://localhost:8080/"
        },
        "id": "7G94utOVjmEE",
        "outputId": "e36e5695-ed35-43a3-bb3e-6501e6629350"
      },
      "source": [
        "#Usando rangos \n",
        "for i in range(10):\n",
        "  print(i)\n",
        "#El range( genera una secuencia de numero que van desde 0 por defecto \n",
        "#El número que sepasa como parámetro menos 2.\n",
        "\n",
        "#*Estructura: rage(inicio, fin, salto)\n",
        "\n",
        "#Observemos un truco con el range\n",
        "print(list(range(2,10,2))) #convertir un rango en una lista"
      ],
      "execution_count": null,
      "outputs": [
        {
          "output_type": "stream",
          "text": [
            "0\n",
            "1\n",
            "2\n",
            "3\n",
            "4\n",
            "5\n",
            "6\n",
            "7\n",
            "8\n",
            "9\n",
            "[2, 4, 6, 8]\n"
          ],
          "name": "stdout"
        }
      ]
    },
    {
      "cell_type": "markdown",
      "metadata": {
        "id": "JxfDtMNKjt8R"
      },
      "source": [
        "**LISTA DE COMPRENSIÓN**\n",
        "\n",
        "Estas nor permite crear listas de elementos en una sola linea de código Ejemplo: Crear una lista de las potencias a la 3 de los números impares de 0 a 9"
      ]
    },
    {
      "cell_type": "code",
      "metadata": {
        "colab": {
          "base_uri": "https://localhost:8080/"
        },
        "id": "fvp0wsydj4UP",
        "outputId": "c2a1c8df-4a58-4fe4-b6a9-11122abbe466"
      },
      "source": [
        "tres = [i**3 for i in range(1,10,2)]\n",
        "print(tres)\n",
        "\n",
        "tres = []\n",
        "for i in range(1,10,2):\n",
        "  tres.append(i**3)\n",
        "  print(i)"
      ],
      "execution_count": null,
      "outputs": [
        {
          "output_type": "stream",
          "text": [
            "[1, 27, 125, 343, 729]\n",
            "1\n",
            "3\n",
            "5\n",
            "7\n",
            "9\n"
          ],
          "name": "stdout"
        }
      ]
    },
    {
      "cell_type": "code",
      "metadata": {
        "colab": {
          "base_uri": "https://localhost:8080/"
        },
        "id": "JFWbYT6wj8AN",
        "outputId": "6067d63c-b430-44b8-8386-ed585d71602d"
      },
      "source": [
        "s = [i for i in range(10)]\n",
        "print(s)"
      ],
      "execution_count": null,
      "outputs": [
        {
          "output_type": "stream",
          "text": [
            "[0, 1, 2, 3, 4, 5, 6, 7, 8, 9]\n"
          ],
          "name": "stdout"
        }
      ]
    },
    {
      "cell_type": "code",
      "metadata": {
        "colab": {
          "base_uri": "https://localhost:8080/"
        },
        "id": "hXlA0M0kj_eK",
        "outputId": "cc8a8479-b335-4faf-efe8-b08f8c0bb6e7"
      },
      "source": [
        "lwa = [5,10,15,20,25,30]\n",
        "lwa2 = [ 1/5 for i in lwa]\n",
        "print(lwa2)"
      ],
      "execution_count": null,
      "outputs": [
        {
          "output_type": "stream",
          "text": [
            "[0.2, 0.2, 0.2, 0.2, 0.2, 0.2]\n"
          ],
          "name": "stdout"
        }
      ]
    },
    {
      "cell_type": "code",
      "metadata": {
        "colab": {
          "base_uri": "https://localhost:8080/"
        },
        "id": "1zUFTqsAkATl",
        "outputId": "cf3046d5-6e0a-4fd5-d88a-323596fd7089"
      },
      "source": [
        "pera = \"mamá ama a ema\"\n",
        "pera2 = [i for i in pera if i== \"a\"]\n",
        "print(pera2)"
      ],
      "execution_count": null,
      "outputs": [
        {
          "output_type": "stream",
          "text": [
            "['a', 'a', 'a', 'a', 'a']\n"
          ],
          "name": "stdout"
        }
      ]
    }
  ]
}