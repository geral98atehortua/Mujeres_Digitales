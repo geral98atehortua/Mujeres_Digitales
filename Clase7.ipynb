{
  "nbformat": 4,
  "nbformat_minor": 0,
  "metadata": {
    "colab": {
      "name": "Clase7.ipynb",
      "provenance": [],
      "authorship_tag": "ABX9TyOxvAqx6KfNmhDaDM56XS+o",
      "include_colab_link": true
    },
    "kernelspec": {
      "name": "python3",
      "display_name": "Python 3"
    },
    "language_info": {
      "name": "python"
    }
  },
  "cells": [
    {
      "cell_type": "markdown",
      "metadata": {
        "id": "view-in-github",
        "colab_type": "text"
      },
      "source": [
        "<a href=\"https://colab.research.google.com/github/geral98atehortua/Mujeres_Digitales/blob/main/Clase7.ipynb\" target=\"_parent\"><img src=\"https://colab.research.google.com/assets/colab-badge.svg\" alt=\"Open In Colab\"/></a>"
      ]
    },
    {
      "cell_type": "markdown",
      "metadata": {
        "id": "gmtjTBnFa82w"
      },
      "source": [
        "**Continuación de Funciones**"
      ]
    },
    {
      "cell_type": "markdown",
      "metadata": {
        "id": "4Qd1Ol1hp0vk"
      },
      "source": [
        "Al realizar la funcion suma que veniamos usando se puede añadir en elementos , se puede añadir en n elementos para iterar la funcion definida.\n",
        "\n",
        "suma(1,2,5,6,7,9)\n",
        "\n",
        "30"
      ]
    },
    {
      "cell_type": "code",
      "metadata": {
        "id": "z32ue6UEdKkU",
        "colab": {
          "base_uri": "https://localhost:8080/"
        },
        "outputId": "31fea9f7-83fd-491b-8979-905b1b5c5600"
      },
      "source": [
        "def suma(a=2, b=3, c=4, d=5):\n",
        "  return a+b+c+d\n",
        "suma()\n",
        "\n",
        "suma(1)\n",
        "suma(a=1,c=5)\n",
        "suma(1,5)\n",
        "suma(3,7,8,9)\n",
        "\n",
        "\n",
        "def suma(number):\n",
        "  total=0\n",
        "  for i in number:\n",
        "    total +=i\n",
        "  return total \n",
        "suma([1,3,5,4])\n"
      ],
      "execution_count": null,
      "outputs": [
        {
          "output_type": "execute_result",
          "data": {
            "text/plain": [
              "13"
            ]
          },
          "metadata": {},
          "execution_count": 33
        }
      ]
    },
    {
      "cell_type": "code",
      "metadata": {
        "id": "p26C_HuWr8oG",
        "colab": {
          "base_uri": "https://localhost:8080/"
        },
        "outputId": "a33caa23-d398-4c83-b1df-b00124812222"
      },
      "source": [
        "def suma(*number):\n",
        "  total=0\n",
        "  for i in number:\n",
        "    total +=i\n",
        "  return total \n",
        "suma(1,3,5,8)"
      ],
      "execution_count": null,
      "outputs": [
        {
          "output_type": "execute_result",
          "data": {
            "text/plain": [
              "17"
            ]
          },
          "metadata": {},
          "execution_count": 36
        }
      ]
    },
    {
      "cell_type": "markdown",
      "metadata": {
        "id": "PDCa77RwqVDw"
      },
      "source": [
        "**el uso de ** :**\n",
        "\n",
        "El uso del doble * nos permite tener como parametro de entrada una lista de elementos en forma de clave y valor.\n",
        "La forma de iterar sera usando el comando item()"
      ]
    },
    {
      "cell_type": "code",
      "metadata": {
        "id": "KYhYZuiBq5g0",
        "colab": {
          "base_uri": "https://localhost:8080/"
        },
        "outputId": "180d1d2e-d106-407d-dfa1-c49bf6310009"
      },
      "source": [
        "def suma(**dado):\n",
        "  suma=0;\n",
        "  for i,j in dado.items():\n",
        "    suma+=j\n",
        "    return suma\n",
        "suma(a=3,b=30,c=7)"
      ],
      "execution_count": null,
      "outputs": [
        {
          "output_type": "execute_result",
          "data": {
            "text/plain": [
              "3"
            ]
          },
          "metadata": {},
          "execution_count": 35
        }
      ]
    },
    {
      "cell_type": "markdown",
      "metadata": {
        "id": "rV3xaptMsOOa"
      },
      "source": [
        "Ampliemos la definicion del comando return **\n",
        "\n",
        "\n",
        "\n",
        "---\n",
        "1. devolver parametros.\n"
      ]
    },
    {
      "cell_type": "code",
      "metadata": {
        "id": "Pi9MlqHktd1L",
        "colab": {
          "base_uri": "https://localhost:8080/",
          "height": 35
        },
        "outputId": "01c6340e-8dbb-41b7-d89a-a1fda08c8c95"
      },
      "source": [
        "def w():\n",
        "  return \"Hi\"\n",
        "w()"
      ],
      "execution_count": null,
      "outputs": [
        {
          "output_type": "execute_result",
          "data": {
            "application/vnd.google.colaboratory.intrinsic+json": {
              "type": "string"
            },
            "text/plain": [
              "'Hi'"
            ]
          },
          "metadata": {},
          "execution_count": 38
        }
      ]
    },
    {
      "cell_type": "markdown",
      "metadata": {
        "id": "WXMdu3ykulUS"
      },
      "source": [
        "2. devolver varias variables "
      ]
    },
    {
      "cell_type": "code",
      "metadata": {
        "id": "Q2akt11BusEa",
        "colab": {
          "base_uri": "https://localhost:8080/"
        },
        "outputId": "d67bdea0-2f40-4dbd-f641-38947c7b8e61"
      },
      "source": [
        "def sd(a,b,c):\n",
        "  q=a+b+c #declaracion de variable con una suma de argumentos.\n",
        "  z=q/3   #declaracion de variable con el promedio\n",
        "  return q,z\n",
        "q,z=sd(2,4,6)\n",
        "print(q)\n",
        "print(z)"
      ],
      "execution_count": null,
      "outputs": [
        {
          "output_type": "stream",
          "text": [
            "12\n",
            "4.0\n"
          ],
          "name": "stdout"
        }
      ]
    },
    {
      "cell_type": "markdown",
      "metadata": {
        "id": "_9nq_BzSxa1z"
      },
      "source": [
        "**Formas de hacer documentación en programación y por bloques de codigo o linea**\n",
        "-"
      ]
    },
    {
      "cell_type": "code",
      "metadata": {
        "id": "EyNSKAOVx480",
        "colab": {
          "base_uri": "https://localhost:8080/"
        },
        "outputId": "7908f88c-2258-4b1c-95e9-46110353b761"
      },
      "source": [
        "def paula(a,b):\n",
        "  \"\"\"\n",
        "  descripcion de la funcion, los parametros que se van a usar ,explicar como se usa y que operaciones devuleve esa función.(docstring)\n",
        "  \"\"\"\n",
        "  return a+b \n",
        "paula(5,6)"
      ],
      "execution_count": null,
      "outputs": [
        {
          "output_type": "execute_result",
          "data": {
            "text/plain": [
              "11"
            ]
          },
          "metadata": {},
          "execution_count": 57
        }
      ]
    },
    {
      "cell_type": "code",
      "metadata": {
        "id": "-p-Q5f-D0_re",
        "colab": {
          "base_uri": "https://localhost:8080/"
        },
        "outputId": "aa69bf84-1f96-43a8-e534-901e3b1f3562"
      },
      "source": [
        "help(paula)"
      ],
      "execution_count": null,
      "outputs": [
        {
          "output_type": "stream",
          "text": [
            "Help on function paula in module __main__:\n",
            "\n",
            "paula(a, b)\n",
            "    descripcion de la funcion, los parametros que se van a usar ,explicar como se usa y que operaciones devuleve esa función.(docstring)\n",
            "\n"
          ],
          "name": "stdout"
        }
      ]
    },
    {
      "cell_type": "markdown",
      "metadata": {
        "id": "-E4zMzNq2cO8"
      },
      "source": [
        "**Diferencia entre valores y referencias**\n",
        "\n",
        "Existen dos conceptos de paso por valor y por *referencia que se aplican a la hora de tratar a los parametros de entrada deuna función:\n",
        "\n",
        "Si se usa un parámetro que pasa por un valor, se crea una copia local de la variable local implica que cualquier modificacion sobre esta no tendra repercusiones sobre la base original\n",
        "\n",
        "Si la varible para como referencia, sí actuará directamente sobre la base original."
      ]
    },
    {
      "cell_type": "code",
      "metadata": {
        "id": "yGhb8_ZbpS0Z",
        "colab": {
          "base_uri": "https://localhost:8080/"
        },
        "outputId": "6aed6bf7-1b7f-499f-9d79-cdbff4c50b9f"
      },
      "source": [
        "#Ejemplo de paso por **valor**\n",
        "\n",
        "x=3\n",
        "def funcion(w):\n",
        "  w=0\n",
        "funcion(x)\n",
        "print(x)"
      ],
      "execution_count": null,
      "outputs": [
        {
          "output_type": "stream",
          "text": [
            "3\n"
          ],
          "name": "stdout"
        }
      ]
    },
    {
      "cell_type": "markdown",
      "metadata": {
        "id": "-eGZCEzq2rlv"
      },
      "source": [
        "1. Inicio con x=3\n",
        "2. Se lo paso a la funcion()\n",
        "3. Dentro de la función hacemos que la variable valga cero\n",
        "4. Dado que pasa como valor dentro de la función se crea una copia local de x. Por lo cual, la variable original no se modifica."
      ]
    },
    {
      "cell_type": "code",
      "metadata": {
        "colab": {
          "base_uri": "https://localhost:8080/"
        },
        "id": "gBNygWXW3Cg9",
        "outputId": "357e56ae-e471-4ca2-dd70-477180272a11"
      },
      "source": [
        "#Caso que pasa por **Referencia**\n",
        "\n",
        "x=[3,6,9,12]\n",
        "def sw(tipo):\n",
        "  tipo.append(50)\n",
        "sw(x)\n",
        "print(x)"
      ],
      "execution_count": null,
      "outputs": [
        {
          "output_type": "stream",
          "text": [
            "[3, 6, 9, 12, 50]\n"
          ],
          "name": "stdout"
        }
      ]
    },
    {
      "cell_type": "markdown",
      "metadata": {
        "id": "eXpDd88Z3IBt"
      },
      "source": [
        "**Tipos de Funciones**\n",
        "\n",
        "1.Funciones Lambda\n",
        "\n",
        "---\n",
        "Son funciones que normalmente se usan para definir el código en una sola linea.\n",
        "\n",
        "\n",
        "\n",
        "\n"
      ]
    },
    {
      "cell_type": "code",
      "metadata": {
        "colab": {
          "base_uri": "https://localhost:8080/"
        },
        "id": "sFaOjzgH3Uw7",
        "outputId": "4b5b20eb-ed29-42c8-8274-07e5fa95c6a6"
      },
      "source": [
        "#Loque normalmente sería la definición de la función de este estilo:\n",
        "#def suma(a,b,c,d)\n",
        "#   return a+b+c+d\n",
        " \n",
        "#*# Se puede escribir de la siguiente forma:\n",
        "(lambda a,b,c,d: a+b+c+d)(1,2,3,4)"
      ],
      "execution_count": null,
      "outputs": [
        {
          "output_type": "execute_result",
          "data": {
            "text/plain": [
              "10"
            ]
          },
          "metadata": {},
          "execution_count": 4
        }
      ]
    },
    {
      "cell_type": "code",
      "metadata": {
        "colab": {
          "base_uri": "https://localhost:8080/"
        },
        "id": "7sbDwRZa3W5H",
        "outputId": "babe6a81-a0d0-43ec-b2f8-2ce0a4db93ee"
      },
      "source": [
        "(lambda *number:sum(number))(1,4,5,5,6,7,8)"
      ],
      "execution_count": null,
      "outputs": [
        {
          "output_type": "execute_result",
          "data": {
            "text/plain": [
              "36"
            ]
          },
          "metadata": {},
          "execution_count": 5
        }
      ]
    },
    {
      "cell_type": "code",
      "metadata": {
        "colab": {
          "base_uri": "https://localhost:8080/"
        },
        "id": "LBwdv4Xn3Ync",
        "outputId": "ff156e8d-d898-47af-d7f8-5cca744613f5"
      },
      "source": [
        "(lambda *number:sum(number))(1,4,5,5,6,7,8)"
      ],
      "execution_count": null,
      "outputs": [
        {
          "output_type": "execute_result",
          "data": {
            "text/plain": [
              "36"
            ]
          },
          "metadata": {},
          "execution_count": 7
        }
      ]
    },
    {
      "cell_type": "code",
      "metadata": {
        "colab": {
          "base_uri": "https://localhost:8080/"
        },
        "id": "jy6vNHt43Z5t",
        "outputId": "7a1134dc-489c-4a6f-a2e8-faef0086f7ae"
      },
      "source": [
        "(lambda **number: sum(number.values()))(a=1,b=4,c=10)\n"
      ],
      "execution_count": null,
      "outputs": [
        {
          "output_type": "execute_result",
          "data": {
            "text/plain": [
              "15"
            ]
          },
          "metadata": {},
          "execution_count": 6
        }
      ]
    },
    {
      "cell_type": "markdown",
      "metadata": {
        "id": "RcvDWJdP3c9F"
      },
      "source": [
        "luisa=lambda a,b,c,d:a+b+c+d print(luisa(4,6,1,1))\n",
        "\n"
      ]
    },
    {
      "cell_type": "markdown",
      "metadata": {
        "id": "fgdad_2j3fYr"
      },
      "source": [
        "**RECURSIVIDAD**\n",
        "\n"
      ]
    },
    {
      "cell_type": "markdown",
      "metadata": {
        "id": "K9_Mwzca3kSt"
      },
      "source": [
        "Las caracteristicas de una función recursiva son las siguientes:\n",
        "\n",
        "1. Sección en que se llama a sí misma\n",
        "2. Sección del bloque de código donde este la condición que implique retornar sinvolver a llamarse. (IMPORTANTE)\n",
        "\n",
        "Los ejemplos tradicionales de Recursividad son la aplicación de Cálculo factorial y la serie de fabionacci.\n",
        "\n",
        "1. Cálculo factorial En matemáticas definimos factorial (n!) como la multipicación de todos sus números predecesores hasta llegar a uno:\n",
        "\n",
        "Ejemplo:\n",
        "\n",
        "5! = 5 4 3 2 1"
      ]
    },
    {
      "cell_type": "code",
      "metadata": {
        "colab": {
          "base_uri": "https://localhost:8080/"
        },
        "id": "ku00S8iW3wa6",
        "outputId": "f9eb9996-0872-4215-ecf5-e4de1dc203d5"
      },
      "source": [
        "#Apliquemosun enfoque no recursivo de cálculo fatorial:\n",
        "\n",
        "def factorial(n):\n",
        "  w=1\n",
        "  i=2\n",
        "  while i<=n:\n",
        "    w *=i\n",
        "    i +=1\n",
        "  return w\n",
        "factorial(5)"
      ],
      "execution_count": null,
      "outputs": [
        {
          "output_type": "execute_result",
          "data": {
            "text/plain": [
              "120"
            ]
          },
          "metadata": {},
          "execution_count": 8
        }
      ]
    },
    {
      "cell_type": "code",
      "metadata": {
        "colab": {
          "base_uri": "https://localhost:8080/"
        },
        "id": "fkwBpawA3zNM",
        "outputId": "79c3460d-2458-4e23-fc12-549327973c42"
      },
      "source": [
        "#Definamos factorial recursivo:\n",
        "\n",
        "def recursivofac(n):\n",
        "  if n==1:\n",
        "    return 1\n",
        "  else:\n",
        "    return n*recursivofac(n-1)\n",
        "recursivofac(10)"
      ],
      "execution_count": null,
      "outputs": [
        {
          "output_type": "execute_result",
          "data": {
            "text/plain": [
              "3628800"
            ]
          },
          "metadata": {},
          "execution_count": 9
        }
      ]
    },
    {
      "cell_type": "markdown",
      "metadata": {
        "id": "UJlLSmbZ306L"
      },
      "source": [
        "A continuación complementamos los tipos de geradores:\n",
        "\n",
        "1. Return\n",
        "2. Yield"
      ]
    },
    {
      "cell_type": "code",
      "metadata": {
        "colab": {
          "base_uri": "https://localhost:8080/"
        },
        "id": "tw9C5Q2X36wT",
        "outputId": "5626d36d-b4e9-4630-bf7b-acb0d14a02c2"
      },
      "source": [
        "def s():\n",
        "  yield 4\n",
        "s()"
      ],
      "execution_count": null,
      "outputs": [
        {
          "output_type": "execute_result",
          "data": {
            "text/plain": [
              "<generator object s at 0x7f6015897950>"
            ]
          },
          "metadata": {},
          "execution_count": 10
        }
      ]
    },
    {
      "cell_type": "markdown",
      "metadata": {
        "id": "F327HTw135Vf"
      },
      "source": [
        "Cuando usamos el return nos devuelve el número 4, pero cuando usamos el yield nos devuelve un objeto de clase (generator)"
      ]
    }
  ]
}