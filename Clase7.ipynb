{
  "nbformat": 4,
  "nbformat_minor": 0,
  "metadata": {
    "colab": {
      "name": "Clase7.ipynb",
      "provenance": [],
      "authorship_tag": "ABX9TyNSL6Z51QgLIcs/TK07Etqd",
      "include_colab_link": true
    },
    "kernelspec": {
      "name": "python3",
      "display_name": "Python 3"
    },
    "language_info": {
      "name": "python"
    }
  },
  "cells": [
    {
      "cell_type": "markdown",
      "metadata": {
        "id": "view-in-github",
        "colab_type": "text"
      },
      "source": [
        "<a href=\"https://colab.research.google.com/github/geral98atehortua/Mujeres_Digitales/blob/main/Clase7.ipynb\" target=\"_parent\"><img src=\"https://colab.research.google.com/assets/colab-badge.svg\" alt=\"Open In Colab\"/></a>"
      ]
    },
    {
      "cell_type": "markdown",
      "metadata": {
        "id": "UGIqSiDgW1QD"
      },
      "source": [
        "Diferencia entre valores y referencias Existen dos conceptos de paso por valor y por *referencia que se aplican a la hora de tratar a los parametros de entrada deuna función:\n",
        "\n",
        "Si se usa un parámetro que pasa por un valor, se crea una copia local de la variable local implica que cualquier modificacion sobre esta no tendra repercusiones sobre la base original\n",
        "\n",
        "Si la varible para como referencia, sí actuará directamente sobre la base original."
      ]
    },
    {
      "cell_type": "code",
      "metadata": {
        "colab": {
          "base_uri": "https://localhost:8080/"
        },
        "id": "X9xYi1J2W7HC",
        "outputId": "4a164c39-998e-4d02-9634-65a80dd38083"
      },
      "source": [
        "#Ejemplo de paso por **valor**\n",
        "\n",
        "x=3\n",
        "def funcion(w):\n",
        "  w=0\n",
        "funcion(x)\n",
        "print(x)"
      ],
      "execution_count": 1,
      "outputs": [
        {
          "output_type": "stream",
          "text": [
            "3\n"
          ],
          "name": "stdout"
        }
      ]
    },
    {
      "cell_type": "markdown",
      "metadata": {
        "id": "138sBy82XBRZ"
      },
      "source": [
        "1. Inicio con x=3\n",
        "2. Se lo paso a la funcion()\n",
        "3. Dentro de la función hacemos que la variable valga cero\n",
        "4. Dado que pasa como valor dentro de la función se crea una copia local de x. Por lo cual, la variable original no se modifica\n"
      ]
    },
    {
      "cell_type": "code",
      "metadata": {
        "colab": {
          "base_uri": "https://localhost:8080/"
        },
        "id": "5M7z8VQHXWSJ",
        "outputId": "197e7371-b73c-4d2d-9acd-5ff5cd4a27a2"
      },
      "source": [
        "#Caso que pasa por **Referencia**\n",
        "x=[3,6,9,12]\n",
        "def sw(tipo):\n",
        "  tipo.append(50)\n",
        "sw(x)\n",
        "print(x)"
      ],
      "execution_count": 2,
      "outputs": [
        {
          "output_type": "stream",
          "text": [
            "[3, 6, 9, 12, 50]\n"
          ],
          "name": "stdout"
        }
      ]
    },
    {
      "cell_type": "markdown",
      "metadata": {
        "id": "QvB4lRaUXrv1"
      },
      "source": [
        "**Tipos de Funciones**"
      ]
    },
    {
      "cell_type": "markdown",
      "metadata": {
        "id": "gGoUh7onXxEr"
      },
      "source": [
        "1. Lambda\n",
        "\n",
        "Son funciones que normalmente se usan para definir el código en una sola linea."
      ]
    },
    {
      "cell_type": "code",
      "metadata": {
        "id": "D8CAIAo0X4eQ"
      },
      "source": [
        "#Loque normalmente sería la definición de la función de este estilo:\n",
        "#def suma(a,b,c,d)\n",
        "#   return a+b+c+d\n",
        " \n",
        "#*# Se puede escribir de la siguiente forma:\n",
        "(lambda a,b,c,d: a+b+c+d)(1,2,3,4)"
      ],
      "execution_count": null,
      "outputs": []
    },
    {
      "cell_type": "markdown",
      "metadata": {
        "id": "mBRDXhZ6XFDl"
      },
      "source": [
        ""
      ]
    },
    {
      "cell_type": "code",
      "metadata": {
        "colab": {
          "base_uri": "https://localhost:8080/"
        },
        "id": "ilvSQuocYLkD",
        "outputId": "d7164f45-1f79-4e8e-fbc5-2fff2c539166"
      },
      "source": [
        "(lambda *number:sum(number))(1,4,5,5,6,7,8)"
      ],
      "execution_count": 3,
      "outputs": [
        {
          "output_type": "execute_result",
          "data": {
            "text/plain": [
              "36"
            ]
          },
          "metadata": {
            "tags": []
          },
          "execution_count": 3
        }
      ]
    },
    {
      "cell_type": "code",
      "metadata": {
        "colab": {
          "base_uri": "https://localhost:8080/"
        },
        "id": "ELM4hgWQYPFw",
        "outputId": "7d363d80-7c23-4626-99b2-c53b7d042cdf"
      },
      "source": [
        "(lambda *number:sum(number))(1,4,5,5,6,7,8)"
      ],
      "execution_count": 4,
      "outputs": [
        {
          "output_type": "execute_result",
          "data": {
            "text/plain": [
              "36"
            ]
          },
          "metadata": {
            "tags": []
          },
          "execution_count": 4
        }
      ]
    },
    {
      "cell_type": "code",
      "metadata": {
        "colab": {
          "base_uri": "https://localhost:8080/"
        },
        "id": "5qRIVz6kYTfQ",
        "outputId": "991c0126-05f0-4040-e38d-8d93dd50644d"
      },
      "source": [
        "(lambda **number: sum(number.values()))(a=1,b=4,c=10)"
      ],
      "execution_count": 5,
      "outputs": [
        {
          "output_type": "execute_result",
          "data": {
            "text/plain": [
              "15"
            ]
          },
          "metadata": {
            "tags": []
          },
          "execution_count": 5
        }
      ]
    },
    {
      "cell_type": "markdown",
      "metadata": {
        "id": "Vu7_HfxwYbll"
      },
      "source": [
        "**RECURSIVIDAD**"
      ]
    },
    {
      "cell_type": "markdown",
      "metadata": {
        "id": "G2iZyJdjYiwQ"
      },
      "source": [
        "Las caracteristicas de una función recursiva son las siguientes:\n",
        "\n",
        "Sección en que se llama a sí misma\n",
        "Sección del bloque de código donde este la condición que implique retornar sinvolver a llamarse. (IMPORTANTE)\n",
        "Los ejemplos tradicionales de Recursividad son la aplicación de Cálculo factorial y la serie de fabionacci.\n",
        "\n",
        "1. Cálculo factorial En matemáticas definimos factorial (n!) como la multipicación de todos sus números predecesores hasta llegar a uno:\n",
        "\n",
        "Ejemplo:\n",
        "\n",
        "5! = 5 4 3 2 1"
      ]
    },
    {
      "cell_type": "code",
      "metadata": {
        "colab": {
          "base_uri": "https://localhost:8080/"
        },
        "id": "A8jSKht0Yp6x",
        "outputId": "e64ad675-667d-45e1-c833-33664a38da4f"
      },
      "source": [
        "#Apliquemosun enfoque no recursivo de cálculo fatorial:\n",
        "\n",
        "def factorial(n):\n",
        "  w=1\n",
        "  i=2\n",
        "  while i<=n:\n",
        "    w *=i\n",
        "    i +=1\n",
        "  return w\n",
        "factorial(5)"
      ],
      "execution_count": 7,
      "outputs": [
        {
          "output_type": "execute_result",
          "data": {
            "text/plain": [
              "120"
            ]
          },
          "metadata": {
            "tags": []
          },
          "execution_count": 7
        }
      ]
    },
    {
      "cell_type": "code",
      "metadata": {
        "colab": {
          "base_uri": "https://localhost:8080/"
        },
        "id": "vYMUGgnGYpv-",
        "outputId": "052d7460-caff-4443-a8c5-e5954228b48c"
      },
      "source": [
        "#Definamos factorial recursivo:\n",
        "\n",
        "def recursivofac(n):\n",
        "  if n==1:\n",
        "    return 1\n",
        "  else:\n",
        "    return n*recursivofac(n-1)\n",
        "recursivofac(10)"
      ],
      "execution_count": 10,
      "outputs": [
        {
          "output_type": "execute_result",
          "data": {
            "text/plain": [
              "3628800"
            ]
          },
          "metadata": {
            "tags": []
          },
          "execution_count": 10
        }
      ]
    },
    {
      "cell_type": "markdown",
      "metadata": {
        "id": "2fyRWqWaYmXv"
      },
      "source": [
        "A continuación complementamos los tipos de geradores:\n",
        "\n",
        "1. Return\n",
        "\n",
        "2. Yield"
      ]
    },
    {
      "cell_type": "code",
      "metadata": {
        "colab": {
          "base_uri": "https://localhost:8080/"
        },
        "id": "Ua16mpS9Y_ai",
        "outputId": "043ad56b-4e90-4dcd-8049-e57ff868aa51"
      },
      "source": [
        "def s():\n",
        "  yield 4\n",
        "s()"
      ],
      "execution_count": 11,
      "outputs": [
        {
          "output_type": "execute_result",
          "data": {
            "text/plain": [
              "<generator object s at 0x7f498b420cd0>"
            ]
          },
          "metadata": {
            "tags": []
          },
          "execution_count": 11
        }
      ]
    },
    {
      "cell_type": "markdown",
      "metadata": {
        "id": "-Lr-vqTmZFZb"
      },
      "source": [
        "Cuando usamos el return nos devuelve el número 4, pero cuando usamos el yield nos devuelve un objeto de clase (generator)"
      ]
    }
  ]
}