{
  "nbformat": 4,
  "nbformat_minor": 0,
  "metadata": {
    "colab": {
      "name": "Taller semana 5.ipynb",
      "provenance": [],
      "collapsed_sections": [],
      "include_colab_link": true
    },
    "kernelspec": {
      "name": "python3",
      "display_name": "Python 3"
    },
    "language_info": {
      "name": "python"
    }
  },
  "cells": [
    {
      "cell_type": "markdown",
      "metadata": {
        "id": "view-in-github",
        "colab_type": "text"
      },
      "source": [
        "<a href=\"https://colab.research.google.com/github/geral98atehortua/Mujeres_Digitales/blob/main/Taller_semana_5.ipynb\" target=\"_parent\"><img src=\"https://colab.research.google.com/assets/colab-badge.svg\" alt=\"Open In Colab\"/></a>"
      ]
    },
    {
      "cell_type": "markdown",
      "metadata": {
        "id": "POi23B_G6wnG"
      },
      "source": [
        "Un fanático de pokemones le pide analizar los datos de pokemones, para esto se le proporciona un conjunto de datos en archivo csv. Este fanático le pide a usted como analista investigar cuales son los pokemones con mayor ataque."
      ]
    },
    {
      "cell_type": "code",
      "metadata": {
        "id": "k7kCoay597D2"
      },
      "source": [
        "import pandas as pd\n",
        "import matplotlib.pyplot as plt\n",
        "import seaborn as sns\n",
        "from scipy import stats\n",
        "import numpy as num"
      ],
      "execution_count": 19,
      "outputs": []
    },
    {
      "cell_type": "code",
      "metadata": {
        "id": "wx9ixLT6EmQv",
        "colab": {
          "base_uri": "https://localhost:8080/",
          "height": 202
        },
        "outputId": "0a4de8da-c063-4246-d933-9446b307a91b"
      },
      "source": [
        "df = pd.read_csv('pokemon_data.csv')\n",
        "df.head()"
      ],
      "execution_count": 20,
      "outputs": [
        {
          "output_type": "execute_result",
          "data": {
            "text/html": [
              "<div>\n",
              "<style scoped>\n",
              "    .dataframe tbody tr th:only-of-type {\n",
              "        vertical-align: middle;\n",
              "    }\n",
              "\n",
              "    .dataframe tbody tr th {\n",
              "        vertical-align: top;\n",
              "    }\n",
              "\n",
              "    .dataframe thead th {\n",
              "        text-align: right;\n",
              "    }\n",
              "</style>\n",
              "<table border=\"1\" class=\"dataframe\">\n",
              "  <thead>\n",
              "    <tr style=\"text-align: right;\">\n",
              "      <th></th>\n",
              "      <th>#</th>\n",
              "      <th>Name</th>\n",
              "      <th>Type 1</th>\n",
              "      <th>Type 2</th>\n",
              "      <th>HP</th>\n",
              "      <th>Attack</th>\n",
              "      <th>Defense</th>\n",
              "      <th>Sp. Atk</th>\n",
              "      <th>Sp. Def</th>\n",
              "      <th>Speed</th>\n",
              "      <th>Generation</th>\n",
              "      <th>Legendary</th>\n",
              "    </tr>\n",
              "  </thead>\n",
              "  <tbody>\n",
              "    <tr>\n",
              "      <th>0</th>\n",
              "      <td>1</td>\n",
              "      <td>Bulbasaur</td>\n",
              "      <td>Grass</td>\n",
              "      <td>Poison</td>\n",
              "      <td>45</td>\n",
              "      <td>49</td>\n",
              "      <td>49</td>\n",
              "      <td>65</td>\n",
              "      <td>65</td>\n",
              "      <td>45</td>\n",
              "      <td>1</td>\n",
              "      <td>False</td>\n",
              "    </tr>\n",
              "    <tr>\n",
              "      <th>1</th>\n",
              "      <td>2</td>\n",
              "      <td>Ivysaur</td>\n",
              "      <td>Grass</td>\n",
              "      <td>Poison</td>\n",
              "      <td>60</td>\n",
              "      <td>62</td>\n",
              "      <td>63</td>\n",
              "      <td>80</td>\n",
              "      <td>80</td>\n",
              "      <td>60</td>\n",
              "      <td>1</td>\n",
              "      <td>False</td>\n",
              "    </tr>\n",
              "    <tr>\n",
              "      <th>2</th>\n",
              "      <td>3</td>\n",
              "      <td>Venusaur</td>\n",
              "      <td>Grass</td>\n",
              "      <td>Poison</td>\n",
              "      <td>80</td>\n",
              "      <td>82</td>\n",
              "      <td>83</td>\n",
              "      <td>100</td>\n",
              "      <td>100</td>\n",
              "      <td>80</td>\n",
              "      <td>1</td>\n",
              "      <td>False</td>\n",
              "    </tr>\n",
              "    <tr>\n",
              "      <th>3</th>\n",
              "      <td>3</td>\n",
              "      <td>VenusaurMega Venusaur</td>\n",
              "      <td>Grass</td>\n",
              "      <td>Poison</td>\n",
              "      <td>80</td>\n",
              "      <td>100</td>\n",
              "      <td>123</td>\n",
              "      <td>122</td>\n",
              "      <td>120</td>\n",
              "      <td>80</td>\n",
              "      <td>1</td>\n",
              "      <td>False</td>\n",
              "    </tr>\n",
              "    <tr>\n",
              "      <th>4</th>\n",
              "      <td>4</td>\n",
              "      <td>Charmander</td>\n",
              "      <td>Fire</td>\n",
              "      <td>NaN</td>\n",
              "      <td>39</td>\n",
              "      <td>52</td>\n",
              "      <td>43</td>\n",
              "      <td>60</td>\n",
              "      <td>50</td>\n",
              "      <td>65</td>\n",
              "      <td>1</td>\n",
              "      <td>False</td>\n",
              "    </tr>\n",
              "  </tbody>\n",
              "</table>\n",
              "</div>"
            ],
            "text/plain": [
              "   #                   Name Type 1  ... Speed  Generation  Legendary\n",
              "0  1              Bulbasaur  Grass  ...    45           1      False\n",
              "1  2                Ivysaur  Grass  ...    60           1      False\n",
              "2  3               Venusaur  Grass  ...    80           1      False\n",
              "3  3  VenusaurMega Venusaur  Grass  ...    80           1      False\n",
              "4  4             Charmander   Fire  ...    65           1      False\n",
              "\n",
              "[5 rows x 12 columns]"
            ]
          },
          "metadata": {},
          "execution_count": 20
        }
      ]
    },
    {
      "cell_type": "markdown",
      "metadata": {
        "id": "WWVZnKFY9xsD"
      },
      "source": [
        "## Ejercicio 1:\n",
        "\n",
        "Calcule el promedio y la mediana del ataque de: \n",
        "1. Todos los pokemones\n",
        "2. Los pokemones agrupados por Legendary (es decir el promedio y mediana de pokemones legendarios y no legendarios)\n",
        "3. Los pokemones agrupados por Type 1"
      ]
    },
    {
      "cell_type": "markdown",
      "metadata": {
        "id": "NDna-YQQz0NF"
      },
      "source": [
        "**1.1 promedio y la mediana del ataque de todos los pokemones**\n"
      ]
    },
    {
      "cell_type": "code",
      "metadata": {
        "colab": {
          "base_uri": "https://localhost:8080/"
        },
        "id": "ck0PZdQ0zzlk",
        "outputId": "0434fd9f-7759-4fd2-8277-88db695e58f7"
      },
      "source": [
        "df['Attack'].describe()"
      ],
      "execution_count": 25,
      "outputs": [
        {
          "output_type": "execute_result",
          "data": {
            "text/plain": [
              "count    800.000000\n",
              "mean      79.001250\n",
              "std       32.457366\n",
              "min        5.000000\n",
              "25%       55.000000\n",
              "50%       75.000000\n",
              "75%      100.000000\n",
              "max      190.000000\n",
              "Name: Attack, dtype: float64"
            ]
          },
          "metadata": {},
          "execution_count": 25
        }
      ]
    },
    {
      "cell_type": "code",
      "metadata": {
        "colab": {
          "base_uri": "https://localhost:8080/"
        },
        "id": "mwgM0xBX0ueL",
        "outputId": "32ab571a-f1a0-47ca-8aaa-c3af6ac646c1"
      },
      "source": [
        "dfpok=df['Attack'].mean()\n",
        "round(dfpok)"
      ],
      "execution_count": 91,
      "outputs": [
        {
          "output_type": "execute_result",
          "data": {
            "text/plain": [
              "79"
            ]
          },
          "metadata": {},
          "execution_count": 91
        }
      ]
    },
    {
      "cell_type": "code",
      "metadata": {
        "colab": {
          "base_uri": "https://localhost:8080/"
        },
        "id": "iwezQcuF1Bhb",
        "outputId": "61a64f36-0ea3-423d-8bea-81c95bab55c4"
      },
      "source": [
        "dfpok=df['Attack'].median()\n",
        "dfpok"
      ],
      "execution_count": 27,
      "outputs": [
        {
          "output_type": "execute_result",
          "data": {
            "text/plain": [
              "75.0"
            ]
          },
          "metadata": {},
          "execution_count": 27
        }
      ]
    },
    {
      "cell_type": "markdown",
      "metadata": {
        "id": "bI2zZNP61fyW"
      },
      "source": [
        "**1.2. promedio y la mediana del ataque de los pokemones agrupados por legendary**\n",
        "\n",
        "\n",
        "\n"
      ]
    },
    {
      "cell_type": "code",
      "metadata": {
        "colab": {
          "base_uri": "https://localhost:8080/",
          "height": 414
        },
        "id": "ibUoXOLn11kl",
        "outputId": "4a8d2123-73a3-4160-99a3-b2d9d8a75b0e"
      },
      "source": [
        "df['clasificacion of legendary']=num.where(df['Legendary']==True,'Legendario','No Legendario')\n",
        "df"
      ],
      "execution_count": 28,
      "outputs": [
        {
          "output_type": "execute_result",
          "data": {
            "text/html": [
              "<div>\n",
              "<style scoped>\n",
              "    .dataframe tbody tr th:only-of-type {\n",
              "        vertical-align: middle;\n",
              "    }\n",
              "\n",
              "    .dataframe tbody tr th {\n",
              "        vertical-align: top;\n",
              "    }\n",
              "\n",
              "    .dataframe thead th {\n",
              "        text-align: right;\n",
              "    }\n",
              "</style>\n",
              "<table border=\"1\" class=\"dataframe\">\n",
              "  <thead>\n",
              "    <tr style=\"text-align: right;\">\n",
              "      <th></th>\n",
              "      <th>#</th>\n",
              "      <th>Name</th>\n",
              "      <th>Type 1</th>\n",
              "      <th>Type 2</th>\n",
              "      <th>HP</th>\n",
              "      <th>Attack</th>\n",
              "      <th>Defense</th>\n",
              "      <th>Sp. Atk</th>\n",
              "      <th>Sp. Def</th>\n",
              "      <th>Speed</th>\n",
              "      <th>Generation</th>\n",
              "      <th>Legendary</th>\n",
              "      <th>clasificacion of legendary</th>\n",
              "    </tr>\n",
              "  </thead>\n",
              "  <tbody>\n",
              "    <tr>\n",
              "      <th>0</th>\n",
              "      <td>1</td>\n",
              "      <td>Bulbasaur</td>\n",
              "      <td>Grass</td>\n",
              "      <td>Poison</td>\n",
              "      <td>45</td>\n",
              "      <td>49</td>\n",
              "      <td>49</td>\n",
              "      <td>65</td>\n",
              "      <td>65</td>\n",
              "      <td>45</td>\n",
              "      <td>1</td>\n",
              "      <td>False</td>\n",
              "      <td>No Legendario</td>\n",
              "    </tr>\n",
              "    <tr>\n",
              "      <th>1</th>\n",
              "      <td>2</td>\n",
              "      <td>Ivysaur</td>\n",
              "      <td>Grass</td>\n",
              "      <td>Poison</td>\n",
              "      <td>60</td>\n",
              "      <td>62</td>\n",
              "      <td>63</td>\n",
              "      <td>80</td>\n",
              "      <td>80</td>\n",
              "      <td>60</td>\n",
              "      <td>1</td>\n",
              "      <td>False</td>\n",
              "      <td>No Legendario</td>\n",
              "    </tr>\n",
              "    <tr>\n",
              "      <th>2</th>\n",
              "      <td>3</td>\n",
              "      <td>Venusaur</td>\n",
              "      <td>Grass</td>\n",
              "      <td>Poison</td>\n",
              "      <td>80</td>\n",
              "      <td>82</td>\n",
              "      <td>83</td>\n",
              "      <td>100</td>\n",
              "      <td>100</td>\n",
              "      <td>80</td>\n",
              "      <td>1</td>\n",
              "      <td>False</td>\n",
              "      <td>No Legendario</td>\n",
              "    </tr>\n",
              "    <tr>\n",
              "      <th>3</th>\n",
              "      <td>3</td>\n",
              "      <td>VenusaurMega Venusaur</td>\n",
              "      <td>Grass</td>\n",
              "      <td>Poison</td>\n",
              "      <td>80</td>\n",
              "      <td>100</td>\n",
              "      <td>123</td>\n",
              "      <td>122</td>\n",
              "      <td>120</td>\n",
              "      <td>80</td>\n",
              "      <td>1</td>\n",
              "      <td>False</td>\n",
              "      <td>No Legendario</td>\n",
              "    </tr>\n",
              "    <tr>\n",
              "      <th>4</th>\n",
              "      <td>4</td>\n",
              "      <td>Charmander</td>\n",
              "      <td>Fire</td>\n",
              "      <td>NaN</td>\n",
              "      <td>39</td>\n",
              "      <td>52</td>\n",
              "      <td>43</td>\n",
              "      <td>60</td>\n",
              "      <td>50</td>\n",
              "      <td>65</td>\n",
              "      <td>1</td>\n",
              "      <td>False</td>\n",
              "      <td>No Legendario</td>\n",
              "    </tr>\n",
              "    <tr>\n",
              "      <th>...</th>\n",
              "      <td>...</td>\n",
              "      <td>...</td>\n",
              "      <td>...</td>\n",
              "      <td>...</td>\n",
              "      <td>...</td>\n",
              "      <td>...</td>\n",
              "      <td>...</td>\n",
              "      <td>...</td>\n",
              "      <td>...</td>\n",
              "      <td>...</td>\n",
              "      <td>...</td>\n",
              "      <td>...</td>\n",
              "      <td>...</td>\n",
              "    </tr>\n",
              "    <tr>\n",
              "      <th>795</th>\n",
              "      <td>719</td>\n",
              "      <td>Diancie</td>\n",
              "      <td>Rock</td>\n",
              "      <td>Fairy</td>\n",
              "      <td>50</td>\n",
              "      <td>100</td>\n",
              "      <td>150</td>\n",
              "      <td>100</td>\n",
              "      <td>150</td>\n",
              "      <td>50</td>\n",
              "      <td>6</td>\n",
              "      <td>True</td>\n",
              "      <td>Legendario</td>\n",
              "    </tr>\n",
              "    <tr>\n",
              "      <th>796</th>\n",
              "      <td>719</td>\n",
              "      <td>DiancieMega Diancie</td>\n",
              "      <td>Rock</td>\n",
              "      <td>Fairy</td>\n",
              "      <td>50</td>\n",
              "      <td>160</td>\n",
              "      <td>110</td>\n",
              "      <td>160</td>\n",
              "      <td>110</td>\n",
              "      <td>110</td>\n",
              "      <td>6</td>\n",
              "      <td>True</td>\n",
              "      <td>Legendario</td>\n",
              "    </tr>\n",
              "    <tr>\n",
              "      <th>797</th>\n",
              "      <td>720</td>\n",
              "      <td>HoopaHoopa Confined</td>\n",
              "      <td>Psychic</td>\n",
              "      <td>Ghost</td>\n",
              "      <td>80</td>\n",
              "      <td>110</td>\n",
              "      <td>60</td>\n",
              "      <td>150</td>\n",
              "      <td>130</td>\n",
              "      <td>70</td>\n",
              "      <td>6</td>\n",
              "      <td>True</td>\n",
              "      <td>Legendario</td>\n",
              "    </tr>\n",
              "    <tr>\n",
              "      <th>798</th>\n",
              "      <td>720</td>\n",
              "      <td>HoopaHoopa Unbound</td>\n",
              "      <td>Psychic</td>\n",
              "      <td>Dark</td>\n",
              "      <td>80</td>\n",
              "      <td>160</td>\n",
              "      <td>60</td>\n",
              "      <td>170</td>\n",
              "      <td>130</td>\n",
              "      <td>80</td>\n",
              "      <td>6</td>\n",
              "      <td>True</td>\n",
              "      <td>Legendario</td>\n",
              "    </tr>\n",
              "    <tr>\n",
              "      <th>799</th>\n",
              "      <td>721</td>\n",
              "      <td>Volcanion</td>\n",
              "      <td>Fire</td>\n",
              "      <td>Water</td>\n",
              "      <td>80</td>\n",
              "      <td>110</td>\n",
              "      <td>120</td>\n",
              "      <td>130</td>\n",
              "      <td>90</td>\n",
              "      <td>70</td>\n",
              "      <td>6</td>\n",
              "      <td>True</td>\n",
              "      <td>Legendario</td>\n",
              "    </tr>\n",
              "  </tbody>\n",
              "</table>\n",
              "<p>800 rows × 13 columns</p>\n",
              "</div>"
            ],
            "text/plain": [
              "       #                   Name  ... Legendary clasificacion of legendary\n",
              "0      1              Bulbasaur  ...     False              No Legendario\n",
              "1      2                Ivysaur  ...     False              No Legendario\n",
              "2      3               Venusaur  ...     False              No Legendario\n",
              "3      3  VenusaurMega Venusaur  ...     False              No Legendario\n",
              "4      4             Charmander  ...     False              No Legendario\n",
              "..   ...                    ...  ...       ...                        ...\n",
              "795  719                Diancie  ...      True                 Legendario\n",
              "796  719    DiancieMega Diancie  ...      True                 Legendario\n",
              "797  720    HoopaHoopa Confined  ...      True                 Legendario\n",
              "798  720     HoopaHoopa Unbound  ...      True                 Legendario\n",
              "799  721              Volcanion  ...      True                 Legendario\n",
              "\n",
              "[800 rows x 13 columns]"
            ]
          },
          "metadata": {},
          "execution_count": 28
        }
      ]
    },
    {
      "cell_type": "code",
      "metadata": {
        "colab": {
          "base_uri": "https://localhost:8080/",
          "height": 141
        },
        "id": "74mX8MhM11uk",
        "outputId": "9f3d2d84-0cbe-4c58-db32-6cce6cefc3de"
      },
      "source": [
        "dflg=df[['clasificacion of legendary','Attack']].groupby('clasificacion of legendary').mean()\n",
        "round(dflg,4)"
      ],
      "execution_count": 29,
      "outputs": [
        {
          "output_type": "execute_result",
          "data": {
            "text/html": [
              "<div>\n",
              "<style scoped>\n",
              "    .dataframe tbody tr th:only-of-type {\n",
              "        vertical-align: middle;\n",
              "    }\n",
              "\n",
              "    .dataframe tbody tr th {\n",
              "        vertical-align: top;\n",
              "    }\n",
              "\n",
              "    .dataframe thead th {\n",
              "        text-align: right;\n",
              "    }\n",
              "</style>\n",
              "<table border=\"1\" class=\"dataframe\">\n",
              "  <thead>\n",
              "    <tr style=\"text-align: right;\">\n",
              "      <th></th>\n",
              "      <th>Attack</th>\n",
              "    </tr>\n",
              "    <tr>\n",
              "      <th>clasificacion of legendary</th>\n",
              "      <th></th>\n",
              "    </tr>\n",
              "  </thead>\n",
              "  <tbody>\n",
              "    <tr>\n",
              "      <th>Legendario</th>\n",
              "      <td>116.6769</td>\n",
              "    </tr>\n",
              "    <tr>\n",
              "      <th>No Legendario</th>\n",
              "      <td>75.6694</td>\n",
              "    </tr>\n",
              "  </tbody>\n",
              "</table>\n",
              "</div>"
            ],
            "text/plain": [
              "                              Attack\n",
              "clasificacion of legendary          \n",
              "Legendario                  116.6769\n",
              "No Legendario                75.6694"
            ]
          },
          "metadata": {},
          "execution_count": 29
        }
      ]
    },
    {
      "cell_type": "code",
      "metadata": {
        "colab": {
          "base_uri": "https://localhost:8080/",
          "height": 141
        },
        "id": "yAeLE5qJ5oy9",
        "outputId": "78a82e33-fe35-4534-f5a9-f01bb5b1a86f"
      },
      "source": [
        "dflg=df[['clasificacion of legendary','Attack']].groupby('clasificacion of legendary').median()\n",
        "round(dflg,4)"
      ],
      "execution_count": 30,
      "outputs": [
        {
          "output_type": "execute_result",
          "data": {
            "text/html": [
              "<div>\n",
              "<style scoped>\n",
              "    .dataframe tbody tr th:only-of-type {\n",
              "        vertical-align: middle;\n",
              "    }\n",
              "\n",
              "    .dataframe tbody tr th {\n",
              "        vertical-align: top;\n",
              "    }\n",
              "\n",
              "    .dataframe thead th {\n",
              "        text-align: right;\n",
              "    }\n",
              "</style>\n",
              "<table border=\"1\" class=\"dataframe\">\n",
              "  <thead>\n",
              "    <tr style=\"text-align: right;\">\n",
              "      <th></th>\n",
              "      <th>Attack</th>\n",
              "    </tr>\n",
              "    <tr>\n",
              "      <th>clasificacion of legendary</th>\n",
              "      <th></th>\n",
              "    </tr>\n",
              "  </thead>\n",
              "  <tbody>\n",
              "    <tr>\n",
              "      <th>Legendario</th>\n",
              "      <td>110</td>\n",
              "    </tr>\n",
              "    <tr>\n",
              "      <th>No Legendario</th>\n",
              "      <td>72</td>\n",
              "    </tr>\n",
              "  </tbody>\n",
              "</table>\n",
              "</div>"
            ],
            "text/plain": [
              "                            Attack\n",
              "clasificacion of legendary        \n",
              "Legendario                     110\n",
              "No Legendario                   72"
            ]
          },
          "metadata": {},
          "execution_count": 30
        }
      ]
    },
    {
      "cell_type": "markdown",
      "metadata": {
        "id": "jUhuvSae4977"
      },
      "source": [
        "**1.3. Promedio y Ataque de los pokemones agrupados por tipo**"
      ]
    },
    {
      "cell_type": "code",
      "metadata": {
        "colab": {
          "base_uri": "https://localhost:8080/",
          "height": 631
        },
        "id": "iauyoHMs5Yqo",
        "outputId": "8f8a222f-1cc3-468e-e70d-8527817afb72"
      },
      "source": [
        "dfty=df[['Type 1','Attack']].groupby('Type 1').mean()\n",
        "round(dfty,4)"
      ],
      "execution_count": 31,
      "outputs": [
        {
          "output_type": "execute_result",
          "data": {
            "text/html": [
              "<div>\n",
              "<style scoped>\n",
              "    .dataframe tbody tr th:only-of-type {\n",
              "        vertical-align: middle;\n",
              "    }\n",
              "\n",
              "    .dataframe tbody tr th {\n",
              "        vertical-align: top;\n",
              "    }\n",
              "\n",
              "    .dataframe thead th {\n",
              "        text-align: right;\n",
              "    }\n",
              "</style>\n",
              "<table border=\"1\" class=\"dataframe\">\n",
              "  <thead>\n",
              "    <tr style=\"text-align: right;\">\n",
              "      <th></th>\n",
              "      <th>Attack</th>\n",
              "    </tr>\n",
              "    <tr>\n",
              "      <th>Type 1</th>\n",
              "      <th></th>\n",
              "    </tr>\n",
              "  </thead>\n",
              "  <tbody>\n",
              "    <tr>\n",
              "      <th>Bug</th>\n",
              "      <td>70.9710</td>\n",
              "    </tr>\n",
              "    <tr>\n",
              "      <th>Dark</th>\n",
              "      <td>88.3871</td>\n",
              "    </tr>\n",
              "    <tr>\n",
              "      <th>Dragon</th>\n",
              "      <td>112.1250</td>\n",
              "    </tr>\n",
              "    <tr>\n",
              "      <th>Electric</th>\n",
              "      <td>69.0909</td>\n",
              "    </tr>\n",
              "    <tr>\n",
              "      <th>Fairy</th>\n",
              "      <td>61.5294</td>\n",
              "    </tr>\n",
              "    <tr>\n",
              "      <th>Fighting</th>\n",
              "      <td>96.7778</td>\n",
              "    </tr>\n",
              "    <tr>\n",
              "      <th>Fire</th>\n",
              "      <td>84.7692</td>\n",
              "    </tr>\n",
              "    <tr>\n",
              "      <th>Flying</th>\n",
              "      <td>78.7500</td>\n",
              "    </tr>\n",
              "    <tr>\n",
              "      <th>Ghost</th>\n",
              "      <td>73.7812</td>\n",
              "    </tr>\n",
              "    <tr>\n",
              "      <th>Grass</th>\n",
              "      <td>73.2143</td>\n",
              "    </tr>\n",
              "    <tr>\n",
              "      <th>Ground</th>\n",
              "      <td>95.7500</td>\n",
              "    </tr>\n",
              "    <tr>\n",
              "      <th>Ice</th>\n",
              "      <td>72.7500</td>\n",
              "    </tr>\n",
              "    <tr>\n",
              "      <th>Normal</th>\n",
              "      <td>73.4694</td>\n",
              "    </tr>\n",
              "    <tr>\n",
              "      <th>Poison</th>\n",
              "      <td>74.6786</td>\n",
              "    </tr>\n",
              "    <tr>\n",
              "      <th>Psychic</th>\n",
              "      <td>71.4561</td>\n",
              "    </tr>\n",
              "    <tr>\n",
              "      <th>Rock</th>\n",
              "      <td>92.8636</td>\n",
              "    </tr>\n",
              "    <tr>\n",
              "      <th>Steel</th>\n",
              "      <td>92.7037</td>\n",
              "    </tr>\n",
              "    <tr>\n",
              "      <th>Water</th>\n",
              "      <td>74.1518</td>\n",
              "    </tr>\n",
              "  </tbody>\n",
              "</table>\n",
              "</div>"
            ],
            "text/plain": [
              "            Attack\n",
              "Type 1            \n",
              "Bug        70.9710\n",
              "Dark       88.3871\n",
              "Dragon    112.1250\n",
              "Electric   69.0909\n",
              "Fairy      61.5294\n",
              "Fighting   96.7778\n",
              "Fire       84.7692\n",
              "Flying     78.7500\n",
              "Ghost      73.7812\n",
              "Grass      73.2143\n",
              "Ground     95.7500\n",
              "Ice        72.7500\n",
              "Normal     73.4694\n",
              "Poison     74.6786\n",
              "Psychic    71.4561\n",
              "Rock       92.8636\n",
              "Steel      92.7037\n",
              "Water      74.1518"
            ]
          },
          "metadata": {},
          "execution_count": 31
        }
      ]
    },
    {
      "cell_type": "code",
      "metadata": {
        "colab": {
          "base_uri": "https://localhost:8080/",
          "height": 631
        },
        "id": "0pDwxUJd6vgP",
        "outputId": "5b66f890-274b-46ae-a730-04d7c64c931e"
      },
      "source": [
        "dftu=df[['Type 1','Attack']].groupby('Type 1').median()\n",
        "round(dftu,4)"
      ],
      "execution_count": 81,
      "outputs": [
        {
          "output_type": "execute_result",
          "data": {
            "text/html": [
              "<div>\n",
              "<style scoped>\n",
              "    .dataframe tbody tr th:only-of-type {\n",
              "        vertical-align: middle;\n",
              "    }\n",
              "\n",
              "    .dataframe tbody tr th {\n",
              "        vertical-align: top;\n",
              "    }\n",
              "\n",
              "    .dataframe thead th {\n",
              "        text-align: right;\n",
              "    }\n",
              "</style>\n",
              "<table border=\"1\" class=\"dataframe\">\n",
              "  <thead>\n",
              "    <tr style=\"text-align: right;\">\n",
              "      <th></th>\n",
              "      <th>Attack</th>\n",
              "    </tr>\n",
              "    <tr>\n",
              "      <th>Type 1</th>\n",
              "      <th></th>\n",
              "    </tr>\n",
              "  </thead>\n",
              "  <tbody>\n",
              "    <tr>\n",
              "      <th>Bug</th>\n",
              "      <td>65.0</td>\n",
              "    </tr>\n",
              "    <tr>\n",
              "      <th>Dark</th>\n",
              "      <td>88.0</td>\n",
              "    </tr>\n",
              "    <tr>\n",
              "      <th>Dragon</th>\n",
              "      <td>113.5</td>\n",
              "    </tr>\n",
              "    <tr>\n",
              "      <th>Electric</th>\n",
              "      <td>65.0</td>\n",
              "    </tr>\n",
              "    <tr>\n",
              "      <th>Fairy</th>\n",
              "      <td>52.0</td>\n",
              "    </tr>\n",
              "    <tr>\n",
              "      <th>Fighting</th>\n",
              "      <td>100.0</td>\n",
              "    </tr>\n",
              "    <tr>\n",
              "      <th>Fire</th>\n",
              "      <td>84.5</td>\n",
              "    </tr>\n",
              "    <tr>\n",
              "      <th>Flying</th>\n",
              "      <td>85.0</td>\n",
              "    </tr>\n",
              "    <tr>\n",
              "      <th>Ghost</th>\n",
              "      <td>66.0</td>\n",
              "    </tr>\n",
              "    <tr>\n",
              "      <th>Grass</th>\n",
              "      <td>70.0</td>\n",
              "    </tr>\n",
              "    <tr>\n",
              "      <th>Ground</th>\n",
              "      <td>85.0</td>\n",
              "    </tr>\n",
              "    <tr>\n",
              "      <th>Ice</th>\n",
              "      <td>67.0</td>\n",
              "    </tr>\n",
              "    <tr>\n",
              "      <th>Normal</th>\n",
              "      <td>70.5</td>\n",
              "    </tr>\n",
              "    <tr>\n",
              "      <th>Poison</th>\n",
              "      <td>74.0</td>\n",
              "    </tr>\n",
              "    <tr>\n",
              "      <th>Psychic</th>\n",
              "      <td>57.0</td>\n",
              "    </tr>\n",
              "    <tr>\n",
              "      <th>Rock</th>\n",
              "      <td>95.0</td>\n",
              "    </tr>\n",
              "    <tr>\n",
              "      <th>Steel</th>\n",
              "      <td>89.0</td>\n",
              "    </tr>\n",
              "    <tr>\n",
              "      <th>Water</th>\n",
              "      <td>72.0</td>\n",
              "    </tr>\n",
              "  </tbody>\n",
              "</table>\n",
              "</div>"
            ],
            "text/plain": [
              "          Attack\n",
              "Type 1          \n",
              "Bug         65.0\n",
              "Dark        88.0\n",
              "Dragon     113.5\n",
              "Electric    65.0\n",
              "Fairy       52.0\n",
              "Fighting   100.0\n",
              "Fire        84.5\n",
              "Flying      85.0\n",
              "Ghost       66.0\n",
              "Grass       70.0\n",
              "Ground      85.0\n",
              "Ice         67.0\n",
              "Normal      70.5\n",
              "Poison      74.0\n",
              "Psychic     57.0\n",
              "Rock        95.0\n",
              "Steel       89.0\n",
              "Water       72.0"
            ]
          },
          "metadata": {},
          "execution_count": 81
        }
      ]
    },
    {
      "cell_type": "markdown",
      "metadata": {
        "id": "icVwAqRB-71l"
      },
      "source": [
        "## Ejercicio 2:\n",
        "\n",
        "Grafique el ataque de los pokemones con un grafico boxplot para los siguientes casos:\n",
        "1. Todos los pokemones\n",
        "2. Los pokemones agrupados por Legendary (es decir el promedio y mediana de pokemones legendarios y no legendarios)\n",
        "3. Los pokemones agrupados por Type 1"
      ]
    },
    {
      "cell_type": "markdown",
      "metadata": {
        "id": "6uDTZkwG7unD"
      },
      "source": [
        "**2.1. Grafico Todos los pokemones**"
      ]
    },
    {
      "cell_type": "code",
      "metadata": {
        "id": "x0qTywYm7Y-6",
        "outputId": "259b49c1-56dc-472b-876d-c7cb911dd6b1",
        "colab": {
          "base_uri": "https://localhost:8080/",
          "height": 382
        }
      },
      "source": [
        "sns.set(rc={'figure.figsize':(13,7)})\n",
        "tdate=df['Attack'].values\n",
        "sns.displot(tdate, color='#15B7B5')"
      ],
      "execution_count": 104,
      "outputs": [
        {
          "output_type": "execute_result",
          "data": {
            "text/plain": [
              "<seaborn.axisgrid.FacetGrid at 0x7fbdffbe4390>"
            ]
          },
          "metadata": {},
          "execution_count": 104
        },
        {
          "output_type": "display_data",
          "data": {
            "image/png": "[encoded data removed]",
            "text/plain": [
              "<Figure size 360x360 with 1 Axes>"
            ]
          },
          "metadata": {}
        }
      ]
    },
    {
      "cell_type": "code",
      "metadata": {
        "colab": {
          "base_uri": "https://localhost:8080/",
          "height": 431
        },
        "id": "5LSGvvwBx9ae",
        "outputId": "5cd29ca4-a4a0-4f08-c589-62bff67747b1"
      },
      "source": [
        "sns.set(rc={'figure.figsize':(10,5)})\n",
        "gdata = df['Attack'].values\n",
        "sns.boxplot(gdata, color='#FF33E7')\n",
        "print(f'Median:  {df[\"Attack\"].median()}')"
      ],
      "execution_count": 62,
      "outputs": [
        {
          "output_type": "stream",
          "name": "stderr",
          "text": [
            "/usr/local/lib/python3.7/dist-packages/seaborn/_decorators.py:43: FutureWarning:\n",
            "\n",
            "Pass the following variable as a keyword arg: x. From version 0.12, the only valid positional argument will be `data`, and passing other arguments without an explicit keyword will result in an error or misinterpretation.\n",
            "\n"
          ]
        },
        {
          "output_type": "stream",
          "name": "stdout",
          "text": [
            "Median:  75.0\n"
          ]
        },
        {
          "output_type": "display_data",
          "data": {
            "image/png": "[encoded data removed]",
            "text/plain": [
              "<Figure size 720x360 with 1 Axes>"
            ]
          },
          "metadata": {}
        }
      ]
    },
    {
      "cell_type": "markdown",
      "metadata": {
        "id": "K5PPaO4C7uIm"
      },
      "source": [
        "**2.2 Grafico pokemones Legendarios y no Legendarios**"
      ]
    },
    {
      "cell_type": "code",
      "metadata": {
        "colab": {
          "base_uri": "https://localhost:8080/",
          "height": 542
        },
        "id": "6qQuF2i47l4D",
        "outputId": "70192964-28ed-4bd3-c957-d144ad8ce4be"
      },
      "source": [
        "import plotly.express as px\n",
        "fig = px.box(df, x='clasificacion of legendary', y='Attack', points='all',width=1250)\n",
        "fig.show()"
      ],
      "execution_count": 34,
      "outputs": [
        {
          "output_type": "display_data",
          "data": {
            "text/html": [
              "<html>\n",
              "<head><meta charset=\"utf-8\" /></head>\n",
              "<body>\n",
              "    <div>\n",
              "            <script src=\"https://cdnjs.cloudflare.com/ajax/libs/mathjax/2.7.5/MathJax.js?config=TeX-AMS-MML_SVG\"></script><script type=\"text/javascript\">if (window.MathJax) {MathJax.Hub.Config({SVG: {font: \"STIX-Web\"}});}</script>\n",
              "                <script type=\"text/javascript\">window.PlotlyConfig = {MathJaxConfig: 'local'};</script>\n",
              "        <script src=\"https://cdn.plot.ly/plotly-latest.min.js\"></script>    \n",
              "            <div id=\"54c60bb3-16e3-471e-a017-b2d42b9a9e15\" class=\"plotly-graph-div\" style=\"height:525px; width:1250px;\"></div>\n",
              "            <script type=\"text/javascript\">\n",
              "                \n",
              "                    window.PLOTLYENV=window.PLOTLYENV || {};\n",
              "                    \n",
              "                if (document.getElementById(\"54c60bb3-16e3-471e-a017-b2d42b9a9e15\")) {\n",
              "                    Plotly.newPlot(\n",
              "                        '54c60bb3-16e3-471e-a017-b2d42b9a9e15',\n",
              "                        [{\"alignmentgroup\": \"True\", \"boxpoints\": \"all\", \"hoverlabel\": {\"namelength\": 0}, \"hovertemplate\": \"clasificacion of legendary=%{x}<br>Attack=%{y}\", \"legendgroup\": \"\", \"marker\": {\"color\": \"#636efa\"}, \"name\": \"\", \"notched\": false, \"offsetgroup\": \"\", \"orientation\": \"v\", \"showlegend\": false, \"type\": \"box\", \"x\": [\"No Legendario\", \"No Legendario\", \"No Legendario\", \"No Legendario\", \"No Legendario\", \"No Legendario\", \"No Legendario\", \"No Legendario\", \"No Legendario\", \"No Legendario\", \"No Legendario\", \"No Legendario\", \"No Legendario\", \"No Legendario\", \"No Legendario\", \"No Legendario\", \"No Legendario\", \"No Legendario\", \"No Legendario\", \"No Legendario\", \"No Legendario\", \"No Legendario\", \"No Legendario\", \"No Legendario\", \"No Legendario\", \"No Legendario\", \"No Legendario\", \"No Legendario\", \"No Legendario\", \"No Legendario\", \"No Legendario\", \"No Legendario\", \"No Legendario\", \"No Legendario\", \"No Legendario\", \"No Legendario\", \"No Legendario\", \"No Legendario\", \"No Legendario\", \"No Legendario\", \"No Legendario\", \"No Legendario\", \"No Legendario\", \"No Legendario\", \"No Legendario\", \"No Legendario\", \"No Legendario\", \"No Legendario\", \"No Legendario\", \"No Legendario\", \"No Legendario\", \"No Legendario\", \"No Legendario\", \"No Legendario\", \"No Legendario\", \"No Legendario\", \"No Legendario\", \"No Legendario\", \"No Legendario\", \"No Legendario\", \"No Legendario\", \"No Legendario\", \"No Legendario\", \"No Legendario\", \"No Legendario\", \"No Legendario\", \"No Legendario\", \"No Legendario\", \"No Legendario\", \"No Legendario\", \"No Legendario\", \"No Legendario\", \"No Legendario\", \"No Legendario\", \"No Legendario\", \"No Legendario\", \"No Legendario\", \"No Legendario\", \"No Legendario\", \"No Legendario\", \"No Legendario\", \"No Legendario\", \"No Legendario\", \"No Legendario\", \"No Legendario\", \"No Legendario\", \"No Legendario\", \"No Legendario\", \"No Legendario\", \"No Legendario\", \"No Legendario\", \"No Legendario\", \"No Legendario\", \"No Legendario\", \"No Legendario\", \"No Legendario\", \"No Legendario\", \"No Legendario\", \"No Legendario\", \"No Legendario\", \"No Legendario\", \"No Legendario\", \"No Legendario\", \"No Legendario\", \"No Legendario\", \"No Legendario\", \"No Legendario\", \"No Legendario\", \"No Legendario\", \"No Legendario\", \"No Legendario\", \"No Legendario\", \"No Legendario\", \"No Legendario\", \"No Legendario\", \"No Legendario\", \"No Legendario\", \"No Legendario\", \"No Legendario\", \"No Legendario\", \"No Legendario\", \"No Legendario\", \"No Legendario\", \"No Legendario\", \"No Legendario\", \"No Legendario\", \"No Legendario\", \"No Legendario\", \"No Legendario\", \"No Legendario\", \"No Legendario\", \"No Legendario\", \"No Legendario\", \"No Legendario\", \"No Legendario\", \"No Legendario\", \"No Legendario\", \"No Legendario\", \"No Legendario\", \"No Legendario\", \"No Legendario\", \"No Legendario\", \"No Legendario\", \"No Legendario\", \"No Legendario\", \"No Legendario\", \"No Legendario\", \"No Legendario\", \"No Legendario\", \"No Legendario\", \"No Legendario\", \"No Legendario\", \"No Legendario\", \"No Legendario\", \"No Legendario\", \"No Legendario\", \"Legendario\", \"Legendario\", \"Legendario\", \"No Legendario\", \"No Legendario\", \"No Legendario\", \"Legendario\", \"Legendario\", \"Legendario\", \"No Legendario\", \"No Legendario\", \"No Legendario\", \"No Legendario\", \"No Legendario\", \"No Legendario\", \"No Legendario\", \"No Legendario\", \"No Legendario\", \"No Legendario\", \"No Legendario\", \"No Legendario\", \"No Legendario\", \"No Legendario\", \"No Legendario\", \"No Legendario\", \"No Legendario\", \"No Legendario\", \"No Legendario\", \"No Legendario\", \"No Legendario\", \"No Legendario\", \"No Legendario\", \"No Legendario\", \"No Legendario\", \"No Legendario\", \"No Legendario\", \"No Legendario\", \"No Legendario\", \"No Legendario\", \"No Legendario\", \"No Legendario\", \"No Legendario\", \"No Legendario\", \"No Legendario\", \"No Legendario\", \"No Legendario\", \"No Legendario\", \"No Legendario\", \"No Legendario\", \"No Legendario\", \"No Legendario\", \"No Legendario\", \"No Legendario\", \"No Legendario\", \"No Legendario\", \"No Legendario\", \"No Legendario\", \"No Legendario\", \"No Legendario\", \"No Legendario\", \"No Legendario\", \"No Legendario\", \"No Legendario\", \"No Legendario\", \"No Legendario\", \"No Legendario\", \"No Legendario\", \"No Legendario\", \"No Legendario\", \"No Legendario\", \"No Legendario\", \"No Legendario\", \"No Legendario\", \"No Legendario\", \"No Legendario\", \"No Legendario\", \"No Legendario\", \"No Legendario\", \"No Legendario\", \"No Legendario\", \"No Legendario\", \"No Legendario\", \"No Legendario\", \"No Legendario\", \"No Legendario\", \"No Legendario\", \"No Legendario\", \"No Legendario\", \"No Legendario\", \"No Legendario\", \"No Legendario\", \"No Legendario\", \"No Legendario\", \"No Legendario\", \"No Legendario\", \"No Legendario\", \"No Legendario\", \"No Legendario\", \"No Legendario\", \"No Legendario\", \"No Legendario\", \"No Legendario\", \"No Legendario\", \"No Legendario\", \"No Legendario\", \"No Legendario\", \"Legendario\", \"Legendario\", \"Legendario\", \"No Legendario\", \"No Legendario\", \"No Legendario\", \"No Legendario\", \"Legendario\", \"Legendario\", \"No Legendario\", \"No Legendario\", \"No Legendario\", \"No Legendario\", \"No Legendario\", \"No Legendario\", \"No Legendario\", \"No Legendario\", \"No Legendario\", \"No Legendario\", \"No Legendario\", \"No Legendario\", \"No Legendario\", \"No Legendario\", \"No Legendario\", \"No Legendario\", \"No Legendario\", \"No Legendario\", \"No Legendario\", \"No Legendario\", \"No Legendario\", \"No Legendario\", \"No Legendario\", \"No Legendario\", \"No Legendario\", \"No Legendario\", \"No Legendario\", \"No Legendario\", \"No Legendario\", \"No Legendario\", \"No Legendario\", \"No Legendario\", \"No Legendario\", \"No Legendario\", \"No Legendario\", \"No Legendario\", \"No Legendario\", \"No Legendario\", \"No Legendario\", \"No Legendario\", \"No Legendario\", \"No Legendario\", \"No Legendario\", \"No Legendario\", \"No Legendario\", \"No Legendario\", \"No Legendario\", \"No Legendario\", \"No Legendario\", \"No Legendario\", \"No Legendario\", \"No Legendario\", \"No Legendario\", \"No Legendario\", \"No Legendario\", \"No Legendario\", \"No Legendario\", \"No Legendario\", \"No Legendario\", \"No Legendario\", \"No Legendario\", \"No Legendario\", \"No Legendario\", \"No Legendario\", \"No Legendario\", \"No Legendario\", \"No Legendario\", \"No Legendario\", \"No Legendario\", \"No Legendario\", \"No Legendario\", \"No Legendario\", \"No Legendario\", \"No Legendario\", \"No Legendario\", \"No Legendario\", \"No Legendario\", \"No Legendario\", \"No Legendario\", \"No Legendario\", \"No Legendario\", \"No Legendario\", \"No Legendario\", \"No Legendario\", \"No Legendario\", \"No Legendario\", \"No Legendario\", \"No Legendario\", \"No Legendario\", \"No Legendario\", \"No Legendario\", \"No Legendario\", \"No Legendario\", \"No Legendario\", \"No Legendario\", \"No Legendario\", \"No Legendario\", \"No Legendario\", \"No Legendario\", \"No Legendario\", \"No Legendario\", \"No Legendario\", \"No Legendario\", \"No Legendario\", \"No Legendario\", \"No Legendario\", \"No Legendario\", \"No Legendario\", \"No Legendario\", \"No Legendario\", \"No Legendario\", \"No Legendario\", \"No Legendario\", \"No Legendario\", \"No Legendario\", \"No Legendario\", \"No Legendario\", \"No Legendario\", \"No Legendario\", \"No Legendario\", \"No Legendario\", \"No Legendario\", \"No Legendario\", \"No Legendario\", \"No Legendario\", \"No Legendario\", \"No Legendario\", \"No Legendario\", \"No Legendario\", \"No Legendario\", \"No Legendario\", \"No Legendario\", \"No Legendario\", \"No Legendario\", \"No Legendario\", \"No Legendario\", \"No Legendario\", \"No Legendario\", \"No Legendario\", \"No Legendario\", \"No Legendario\", \"No Legendario\", \"No Legendario\", \"Legendario\", \"Legendario\", \"Legendario\", \"Legendario\", \"Legendario\", \"Legendario\", \"Legendario\", \"Legendario\", \"Legendario\", \"Legendario\", \"Legendario\", \"Legendario\", \"Legendario\", \"Legendario\", \"Legendario\", \"Legendario\", \"Legendario\", \"Legendario\", \"No Legendario\", \"No Legendario\", \"No Legendario\", \"No Legendario\", \"No Legendario\", \"No Legendario\", \"No Legendario\", \"No Legendario\", \"No Legendario\", \"No Legendario\", \"No Legendario\", \"No Legendario\", \"No Legendario\", \"No Legendario\", \"No Legendario\", \"No Legendario\", \"No Legendario\", \"No Legendario\", \"No Legendario\", \"No Legendario\", \"No Legendario\", \"No Legendario\", \"No Legendario\", \"No Legendario\", \"No Legendario\", \"No Legendario\", \"No Legendario\", \"No Legendario\", \"No Legendario\", \"No Legendario\", \"No Legendario\", \"No Legendario\", \"No Legendario\", \"No Legendario\", \"No Legendario\", \"No Legendario\", \"No Legendario\", \"No Legendario\", \"No Legendario\", \"No Legendario\", \"No Legendario\", \"No Legendario\", \"No Legendario\", \"No Legendario\", \"No Legendario\", \"No Legendario\", \"No Legendario\", \"No Legendario\", \"No Legendario\", \"No Legendario\", \"No Legendario\", \"No Legendario\", \"No Legendario\", \"No Legendario\", \"No Legendario\", \"No Legendario\", \"No Legendario\", \"No Legendario\", \"No Legendario\", \"No Legendario\", \"No Legendario\", \"No Legendario\", \"No Legendario\", \"No Legendario\", \"No Legendario\", \"No Legendario\", \"No Legendario\", \"No Legendario\", \"No Legendario\", \"No Legendario\", \"No Legendario\", \"No Legendario\", \"No Legendario\", \"No Legendario\", \"No Legendario\", \"No Legendario\", \"No Legendario\", \"No Legendario\", \"No Legendario\", \"No Legendario\", \"No Legendario\", \"No Legendario\", \"No Legendario\", \"No Legendario\", \"No Legendario\", \"No Legendario\", \"No Legendario\", \"No Legendario\", \"No Legendario\", \"No Legendario\", \"No Legendario\", \"No Legendario\", \"No Legendario\", \"No Legendario\", \"No Legendario\", \"No Legendario\", \"No Legendario\", \"No Legendario\", \"No Legendario\", \"No Legendario\", \"No Legendario\", \"No Legendario\", \"No Legendario\", \"No Legendario\", \"No Legendario\", \"Legendario\", \"Legendario\", \"Legendario\", \"Legendario\", \"Legendario\", \"Legendario\", \"Legendario\", \"Legendario\", \"Legendario\", \"No Legendario\", \"No Legendario\", \"No Legendario\", \"Legendario\", \"Legendario\", \"Legendario\", \"Legendario\", \"Legendario\", \"No Legendario\", \"No Legendario\", \"No Legendario\", \"No Legendario\", \"No Legendario\", \"No Legendario\", \"No Legendario\", \"No Legendario\", \"No Legendario\", \"No Legendario\", \"No Legendario\", \"No Legendario\", \"No Legendario\", \"No Legendario\", \"No Legendario\", \"No Legendario\", \"No Legendario\", \"No Legendario\", \"No Legendario\", \"No Legendario\", \"No Legendario\", \"No Legendario\", \"No Legendario\", \"No Legendario\", \"No Legendario\", \"No Legendario\", \"No Legendario\", \"No Legendario\", \"No Legendario\", \"No Legendario\", \"No Legendario\", \"No Legendario\", \"No Legendario\", \"No Legendario\", \"No Legendario\", \"No Legendario\", \"No Legendario\", \"No Legendario\", \"No Legendario\", \"No Legendario\", \"No Legendario\", \"No Legendario\", \"No Legendario\", \"No Legendario\", \"No Legendario\", \"No Legendario\", \"No Legendario\", \"No Legendario\", \"No Legendario\", \"No Legendario\", \"No Legendario\", \"No Legendario\", \"No Legendario\", \"No Legendario\", \"No Legendario\", \"No Legendario\", \"No Legendario\", \"No Legendario\", \"No Legendario\", \"No Legendario\", \"No Legendario\", \"No Legendario\", \"No Legendario\", \"No Legendario\", \"No Legendario\", \"No Legendario\", \"No Legendario\", \"No Legendario\", \"No Legendario\", \"No Legendario\", \"No Legendario\", \"No Legendario\", \"No Legendario\", \"No Legendario\", \"No Legendario\", \"No Legendario\", \"No Legendario\", \"No Legendario\", \"No Legendario\", \"No Legendario\", \"No Legendario\", \"No Legendario\", \"No Legendario\", \"No Legendario\", \"No Legendario\", \"No Legendario\", \"No Legendario\", \"No Legendario\", \"No Legendario\", \"No Legendario\", \"No Legendario\", \"No Legendario\", \"No Legendario\", \"No Legendario\", \"No Legendario\", \"No Legendario\", \"No Legendario\", \"No Legendario\", \"No Legendario\", \"No Legendario\", \"No Legendario\", \"No Legendario\", \"No Legendario\", \"No Legendario\", \"No Legendario\", \"No Legendario\", \"No Legendario\", \"No Legendario\", \"No Legendario\", \"No Legendario\", \"No Legendario\", \"No Legendario\", \"No Legendario\", \"No Legendario\", \"No Legendario\", \"No Legendario\", \"No Legendario\", \"No Legendario\", \"No Legendario\", \"No Legendario\", \"No Legendario\", \"No Legendario\", \"No Legendario\", \"No Legendario\", \"No Legendario\", \"No Legendario\", \"No Legendario\", \"No Legendario\", \"No Legendario\", \"No Legendario\", \"No Legendario\", \"No Legendario\", \"No Legendario\", \"No Legendario\", \"No Legendario\", \"No Legendario\", \"No Legendario\", \"No Legendario\", \"No Legendario\", \"No Legendario\", \"No Legendario\", \"No Legendario\", \"No Legendario\", \"No Legendario\", \"No Legendario\", \"Legendario\", \"Legendario\", \"Legendario\", \"Legendario\", \"Legendario\", \"Legendario\", \"Legendario\", \"Legendario\", \"Legendario\", \"Legendario\", \"Legendario\", \"Legendario\", \"Legendario\", \"Legendario\", \"No Legendario\", \"No Legendario\", \"No Legendario\", \"No Legendario\", \"No Legendario\", \"No Legendario\", \"No Legendario\", \"No Legendario\", \"No Legendario\", \"No Legendario\", \"No Legendario\", \"No Legendario\", \"No Legendario\", \"No Legendario\", \"No Legendario\", \"No Legendario\", \"No Legendario\", \"No Legendario\", \"No Legendario\", \"No Legendario\", \"No Legendario\", \"No Legendario\", \"No Legendario\", \"No Legendario\", \"No Legendario\", \"No Legendario\", \"No Legendario\", \"No Legendario\", \"No Legendario\", \"No Legendario\", \"No Legendario\", \"No Legendario\", \"No Legendario\", \"No Legendario\", \"No Legendario\", \"No Legendario\", \"No Legendario\", \"No Legendario\", \"No Legendario\", \"No Legendario\", \"No Legendario\", \"No Legendario\", \"No Legendario\", \"No Legendario\", \"No Legendario\", \"No Legendario\", \"No Legendario\", \"No Legendario\", \"No Legendario\", \"No Legendario\", \"No Legendario\", \"No Legendario\", \"No Legendario\", \"No Legendario\", \"No Legendario\", \"No Legendario\", \"No Legendario\", \"No Legendario\", \"No Legendario\", \"No Legendario\", \"No Legendario\", \"No Legendario\", \"No Legendario\", \"No Legendario\", \"No Legendario\", \"No Legendario\", \"No Legendario\", \"No Legendario\", \"No Legendario\", \"No Legendario\", \"No Legendario\", \"No Legendario\", \"No Legendario\", \"No Legendario\", \"No Legendario\", \"No Legendario\", \"No Legendario\", \"No Legendario\", \"No Legendario\", \"Legendario\", \"Legendario\", \"Legendario\", \"Legendario\", \"Legendario\", \"Legendario\", \"Legendario\", \"Legendario\"], \"x0\": \" \", \"xaxis\": \"x\", \"y\": [49, 62, 82, 100, 52, 64, 84, 130, 104, 48, 63, 83, 103, 30, 20, 45, 35, 25, 90, 150, 45, 60, 80, 80, 56, 81, 60, 90, 60, 85, 55, 90, 75, 100, 47, 62, 92, 57, 72, 102, 45, 70, 41, 76, 45, 70, 45, 80, 50, 65, 80, 70, 95, 55, 65, 55, 80, 45, 70, 52, 82, 80, 105, 70, 110, 50, 65, 95, 20, 35, 50, 50, 80, 100, 130, 75, 90, 105, 40, 70, 80, 95, 120, 85, 100, 65, 75, 75, 35, 60, 65, 85, 110, 45, 70, 80, 105, 65, 95, 35, 50, 65, 65, 45, 48, 73, 105, 130, 30, 50, 40, 95, 50, 80, 120, 105, 55, 65, 90, 85, 130, 5, 55, 95, 125, 40, 65, 67, 92, 45, 75, 45, 110, 50, 83, 95, 125, 155, 100, 10, 125, 155, 85, 48, 55, 65, 65, 130, 60, 40, 60, 80, 115, 105, 135, 110, 85, 90, 100, 64, 84, 134, 110, 190, 150, 100, 49, 62, 82, 52, 64, 84, 65, 80, 105, 46, 76, 30, 50, 20, 35, 60, 90, 90, 38, 58, 40, 25, 30, 20, 40, 50, 75, 40, 55, 75, 95, 80, 20, 50, 100, 75, 35, 45, 55, 70, 30, 75, 65, 45, 85, 65, 65, 85, 75, 60, 72, 33, 80, 65, 90, 70, 75, 85, 125, 80, 120, 95, 130, 150, 10, 125, 185, 95, 80, 130, 40, 50, 50, 100, 55, 65, 105, 55, 40, 80, 60, 90, 90, 95, 60, 120, 80, 95, 20, 35, 95, 30, 63, 75, 80, 10, 85, 115, 75, 64, 84, 134, 164, 90, 130, 100, 45, 65, 85, 110, 60, 85, 120, 160, 70, 85, 110, 150, 55, 90, 30, 70, 45, 35, 70, 35, 50, 30, 50, 70, 40, 70, 100, 55, 85, 30, 50, 25, 35, 65, 85, 30, 60, 40, 130, 60, 80, 160, 45, 90, 90, 51, 71, 91, 60, 120, 20, 45, 45, 65, 75, 85, 85, 105, 70, 90, 110, 140, 40, 60, 100, 45, 75, 75, 50, 40, 73, 47, 60, 43, 73, 90, 120, 140, 70, 90, 60, 100, 120, 85, 25, 45, 60, 100, 70, 100, 85, 115, 40, 70, 110, 115, 100, 55, 95, 48, 78, 80, 120, 40, 70, 41, 81, 95, 125, 15, 60, 70, 90, 75, 115, 165, 40, 70, 68, 50, 130, 150, 23, 50, 80, 120, 40, 60, 80, 64, 104, 84, 90, 30, 75, 95, 135, 145, 55, 75, 135, 145, 100, 50, 75, 80, 100, 90, 130, 100, 150, 150, 180, 150, 180, 100, 150, 180, 70, 95, 68, 89, 109, 58, 78, 104, 51, 66, 86, 55, 75, 120, 45, 85, 25, 85, 65, 85, 120, 30, 70, 125, 165, 42, 52, 29, 59, 79, 69, 94, 30, 80, 45, 65, 105, 35, 60, 48, 83, 100, 50, 80, 66, 76, 136, 60, 125, 55, 82, 30, 63, 93, 24, 89, 80, 25, 5, 65, 92, 70, 90, 130, 170, 85, 70, 110, 145, 72, 112, 50, 90, 61, 106, 100, 49, 69, 20, 62, 92, 132, 120, 70, 85, 140, 100, 123, 95, 50, 76, 110, 60, 95, 130, 80, 125, 165, 55, 100, 80, 50, 65, 65, 65, 65, 65, 75, 105, 125, 120, 120, 90, 160, 100, 120, 70, 80, 100, 90, 100, 103, 120, 100, 45, 60, 75, 63, 93, 123, 55, 75, 100, 55, 85, 60, 80, 110, 50, 88, 53, 98, 53, 98, 53, 98, 25, 55, 55, 77, 115, 60, 100, 75, 105, 135, 45, 57, 85, 135, 60, 60, 80, 105, 140, 50, 65, 95, 100, 125, 53, 63, 103, 45, 55, 100, 27, 67, 35, 60, 92, 72, 82, 117, 90, 140, 30, 86, 65, 95, 75, 90, 58, 30, 50, 78, 108, 112, 140, 50, 95, 65, 105, 50, 95, 30, 45, 55, 30, 40, 65, 44, 87, 50, 65, 95, 60, 100, 75, 75, 135, 55, 85, 40, 60, 75, 47, 77, 50, 94, 55, 80, 100, 55, 85, 115, 55, 75, 30, 40, 55, 87, 117, 147, 70, 110, 50, 40, 70, 66, 85, 125, 120, 74, 124, 85, 125, 110, 83, 123, 55, 65, 97, 109, 65, 85, 105, 85, 60, 90, 129, 90, 115, 100, 115, 105, 120, 150, 125, 145, 130, 170, 120, 72, 72, 77, 128, 120, 61, 78, 107, 45, 59, 69, 56, 63, 95, 36, 56, 50, 73, 81, 35, 22, 52, 50, 68, 38, 45, 65, 65, 100, 82, 124, 80, 48, 48, 48, 80, 110, 150, 50, 52, 72, 48, 80, 54, 92, 52, 105, 60, 75, 53, 73, 38, 55, 89, 121, 59, 77, 65, 92, 58, 50, 50, 75, 100, 80, 70, 110, 66, 66, 66, 66, 90, 85, 95, 100, 69, 117, 30, 70, 131, 131, 100, 100, 160, 110, 160, 110], \"y0\": \" \", \"yaxis\": \"y\"}],\n",
              "                        {\"boxmode\": \"group\", \"legend\": {\"tracegroupgap\": 0}, \"margin\": {\"t\": 60}, \"template\": {\"data\": {\"bar\": [{\"error_x\": {\"color\": \"#2a3f5f\"}, \"error_y\": {\"color\": \"#2a3f5f\"}, \"marker\": {\"line\": {\"color\": \"#E5ECF6\", \"width\": 0.5}}, \"type\": \"bar\"}], \"barpolar\": [{\"marker\": {\"line\": {\"color\": \"#E5ECF6\", \"width\": 0.5}}, \"type\": \"barpolar\"}], \"carpet\": [{\"aaxis\": {\"endlinecolor\": \"#2a3f5f\", \"gridcolor\": \"white\", \"linecolor\": \"white\", \"minorgridcolor\": \"white\", \"startlinecolor\": \"#2a3f5f\"}, \"baxis\": {\"endlinecolor\": \"#2a3f5f\", \"gridcolor\": \"white\", \"linecolor\": \"white\", \"minorgridcolor\": \"white\", \"startlinecolor\": \"#2a3f5f\"}, \"type\": \"carpet\"}], \"choropleth\": [{\"colorbar\": {\"outlinewidth\": 0, \"ticks\": \"\"}, \"type\": \"choropleth\"}], \"contour\": [{\"colorbar\": {\"outlinewidth\": 0, \"ticks\": \"\"}, \"colorscale\": [[0.0, \"#0d0887\"], [0.1111111111111111, \"#46039f\"], [0.2222222222222222, \"#7201a8\"], [0.3333333333333333, \"#9c179e\"], [0.4444444444444444, \"#bd3786\"], [0.5555555555555556, \"#d8576b\"], [0.6666666666666666, \"#ed7953\"], [0.7777777777777778, \"#fb9f3a\"], [0.8888888888888888, \"#fdca26\"], [1.0, \"#f0f921\"]], \"type\": \"contour\"}], \"contourcarpet\": [{\"colorbar\": {\"outlinewidth\": 0, \"ticks\": \"\"}, \"type\": \"contourcarpet\"}], \"heatmap\": [{\"colorbar\": {\"outlinewidth\": 0, \"ticks\": \"\"}, \"colorscale\": [[0.0, \"#0d0887\"], [0.1111111111111111, \"#46039f\"], [0.2222222222222222, \"#7201a8\"], [0.3333333333333333, \"#9c179e\"], [0.4444444444444444, \"#bd3786\"], [0.5555555555555556, \"#d8576b\"], [0.6666666666666666, \"#ed7953\"], [0.7777777777777778, \"#fb9f3a\"], [0.8888888888888888, \"#fdca26\"], [1.0, \"#f0f921\"]], \"type\": \"heatmap\"}], \"heatmapgl\": [{\"colorbar\": {\"outlinewidth\": 0, \"ticks\": \"\"}, \"colorscale\": [[0.0, \"#0d0887\"], [0.1111111111111111, \"#46039f\"], [0.2222222222222222, \"#7201a8\"], [0.3333333333333333, \"#9c179e\"], [0.4444444444444444, \"#bd3786\"], [0.5555555555555556, \"#d8576b\"], [0.6666666666666666, \"#ed7953\"], [0.7777777777777778, \"#fb9f3a\"], [0.8888888888888888, \"#fdca26\"], [1.0, \"#f0f921\"]], \"type\": \"heatmapgl\"}], \"histogram\": [{\"marker\": {\"colorbar\": {\"outlinewidth\": 0, \"ticks\": \"\"}}, \"type\": \"histogram\"}], \"histogram2d\": [{\"colorbar\": {\"outlinewidth\": 0, \"ticks\": \"\"}, \"colorscale\": [[0.0, \"#0d0887\"], [0.1111111111111111, \"#46039f\"], [0.2222222222222222, \"#7201a8\"], [0.3333333333333333, \"#9c179e\"], [0.4444444444444444, \"#bd3786\"], [0.5555555555555556, \"#d8576b\"], [0.6666666666666666, \"#ed7953\"], [0.7777777777777778, \"#fb9f3a\"], [0.8888888888888888, \"#fdca26\"], [1.0, \"#f0f921\"]], \"type\": \"histogram2d\"}], \"histogram2dcontour\": [{\"colorbar\": {\"outlinewidth\": 0, \"ticks\": \"\"}, \"colorscale\": [[0.0, \"#0d0887\"], [0.1111111111111111, \"#46039f\"], [0.2222222222222222, \"#7201a8\"], [0.3333333333333333, \"#9c179e\"], [0.4444444444444444, \"#bd3786\"], [0.5555555555555556, \"#d8576b\"], [0.6666666666666666, \"#ed7953\"], [0.7777777777777778, \"#fb9f3a\"], [0.8888888888888888, \"#fdca26\"], [1.0, \"#f0f921\"]], \"type\": \"histogram2dcontour\"}], \"mesh3d\": [{\"colorbar\": {\"outlinewidth\": 0, \"ticks\": \"\"}, \"type\": \"mesh3d\"}], \"parcoords\": [{\"line\": {\"colorbar\": {\"outlinewidth\": 0, \"ticks\": \"\"}}, \"type\": \"parcoords\"}], \"pie\": [{\"automargin\": true, \"type\": \"pie\"}], \"scatter\": [{\"marker\": {\"colorbar\": {\"outlinewidth\": 0, \"ticks\": \"\"}}, \"type\": \"scatter\"}], \"scatter3d\": [{\"line\": {\"colorbar\": {\"outlinewidth\": 0, \"ticks\": \"\"}}, \"marker\": {\"colorbar\": {\"outlinewidth\": 0, \"ticks\": \"\"}}, \"type\": \"scatter3d\"}], \"scattercarpet\": [{\"marker\": {\"colorbar\": {\"outlinewidth\": 0, \"ticks\": \"\"}}, \"type\": \"scattercarpet\"}], \"scattergeo\": [{\"marker\": {\"colorbar\": {\"outlinewidth\": 0, \"ticks\": \"\"}}, \"type\": \"scattergeo\"}], \"scattergl\": [{\"marker\": {\"colorbar\": {\"outlinewidth\": 0, \"ticks\": \"\"}}, \"type\": \"scattergl\"}], \"scattermapbox\": [{\"marker\": {\"colorbar\": {\"outlinewidth\": 0, \"ticks\": \"\"}}, \"type\": \"scattermapbox\"}], \"scatterpolar\": [{\"marker\": {\"colorbar\": {\"outlinewidth\": 0, \"ticks\": \"\"}}, \"type\": \"scatterpolar\"}], \"scatterpolargl\": [{\"marker\": {\"colorbar\": {\"outlinewidth\": 0, \"ticks\": \"\"}}, \"type\": \"scatterpolargl\"}], \"scatterternary\": [{\"marker\": {\"colorbar\": {\"outlinewidth\": 0, \"ticks\": \"\"}}, \"type\": \"scatterternary\"}], \"surface\": [{\"colorbar\": {\"outlinewidth\": 0, \"ticks\": \"\"}, \"colorscale\": [[0.0, \"#0d0887\"], [0.1111111111111111, \"#46039f\"], [0.2222222222222222, \"#7201a8\"], [0.3333333333333333, \"#9c179e\"], [0.4444444444444444, \"#bd3786\"], [0.5555555555555556, \"#d8576b\"], [0.6666666666666666, \"#ed7953\"], [0.7777777777777778, \"#fb9f3a\"], [0.8888888888888888, \"#fdca26\"], [1.0, \"#f0f921\"]], \"type\": \"surface\"}], \"table\": [{\"cells\": {\"fill\": {\"color\": \"#EBF0F8\"}, \"line\": {\"color\": \"white\"}}, \"header\": {\"fill\": {\"color\": \"#C8D4E3\"}, \"line\": {\"color\": \"white\"}}, \"type\": \"table\"}]}, \"layout\": {\"annotationdefaults\": {\"arrowcolor\": \"#2a3f5f\", \"arrowhead\": 0, \"arrowwidth\": 1}, \"coloraxis\": {\"colorbar\": {\"outlinewidth\": 0, \"ticks\": \"\"}}, \"colorscale\": {\"diverging\": [[0, \"#8e0152\"], [0.1, \"#c51b7d\"], [0.2, \"#de77ae\"], [0.3, \"#f1b6da\"], [0.4, \"#fde0ef\"], [0.5, \"#f7f7f7\"], [0.6, \"#e6f5d0\"], [0.7, \"#b8e186\"], [0.8, \"#7fbc41\"], [0.9, \"#4d9221\"], [1, \"#276419\"]], \"sequential\": [[0.0, \"#0d0887\"], [0.1111111111111111, \"#46039f\"], [0.2222222222222222, \"#7201a8\"], [0.3333333333333333, \"#9c179e\"], [0.4444444444444444, \"#bd3786\"], [0.5555555555555556, \"#d8576b\"], [0.6666666666666666, \"#ed7953\"], [0.7777777777777778, \"#fb9f3a\"], [0.8888888888888888, \"#fdca26\"], [1.0, \"#f0f921\"]], \"sequentialminus\": [[0.0, \"#0d0887\"], [0.1111111111111111, \"#46039f\"], [0.2222222222222222, \"#7201a8\"], [0.3333333333333333, \"#9c179e\"], [0.4444444444444444, \"#bd3786\"], [0.5555555555555556, \"#d8576b\"], [0.6666666666666666, \"#ed7953\"], [0.7777777777777778, \"#fb9f3a\"], [0.8888888888888888, \"#fdca26\"], [1.0, \"#f0f921\"]]}, \"colorway\": [\"#636efa\", \"#EF553B\", \"#00cc96\", \"#ab63fa\", \"#FFA15A\", \"#19d3f3\", \"#FF6692\", \"#B6E880\", \"#FF97FF\", \"#FECB52\"], \"font\": {\"color\": \"#2a3f5f\"}, \"geo\": {\"bgcolor\": \"white\", \"lakecolor\": \"white\", \"landcolor\": \"#E5ECF6\", \"showlakes\": true, \"showland\": true, \"subunitcolor\": \"white\"}, \"hoverlabel\": {\"align\": \"left\"}, \"hovermode\": \"closest\", \"mapbox\": {\"style\": \"light\"}, \"paper_bgcolor\": \"white\", \"plot_bgcolor\": \"#E5ECF6\", \"polar\": {\"angularaxis\": {\"gridcolor\": \"white\", \"linecolor\": \"white\", \"ticks\": \"\"}, \"bgcolor\": \"#E5ECF6\", \"radialaxis\": {\"gridcolor\": \"white\", \"linecolor\": \"white\", \"ticks\": \"\"}}, \"scene\": {\"xaxis\": {\"backgroundcolor\": \"#E5ECF6\", \"gridcolor\": \"white\", \"gridwidth\": 2, \"linecolor\": \"white\", \"showbackground\": true, \"ticks\": \"\", \"zerolinecolor\": \"white\"}, \"yaxis\": {\"backgroundcolor\": \"#E5ECF6\", \"gridcolor\": \"white\", \"gridwidth\": 2, \"linecolor\": \"white\", \"showbackground\": true, \"ticks\": \"\", \"zerolinecolor\": \"white\"}, \"zaxis\": {\"backgroundcolor\": \"#E5ECF6\", \"gridcolor\": \"white\", \"gridwidth\": 2, \"linecolor\": \"white\", \"showbackground\": true, \"ticks\": \"\", \"zerolinecolor\": \"white\"}}, \"shapedefaults\": {\"line\": {\"color\": \"#2a3f5f\"}}, \"ternary\": {\"aaxis\": {\"gridcolor\": \"white\", \"linecolor\": \"white\", \"ticks\": \"\"}, \"baxis\": {\"gridcolor\": \"white\", \"linecolor\": \"white\", \"ticks\": \"\"}, \"bgcolor\": \"#E5ECF6\", \"caxis\": {\"gridcolor\": \"white\", \"linecolor\": \"white\", \"ticks\": \"\"}}, \"title\": {\"x\": 0.05}, \"xaxis\": {\"automargin\": true, \"gridcolor\": \"white\", \"linecolor\": \"white\", \"ticks\": \"\", \"title\": {\"standoff\": 15}, \"zerolinecolor\": \"white\", \"zerolinewidth\": 2}, \"yaxis\": {\"automargin\": true, \"gridcolor\": \"white\", \"linecolor\": \"white\", \"ticks\": \"\", \"title\": {\"standoff\": 15}, \"zerolinecolor\": \"white\", \"zerolinewidth\": 2}}}, \"width\": 1250, \"xaxis\": {\"anchor\": \"y\", \"domain\": [0.0, 1.0], \"title\": {\"text\": \"clasificacion of legendary\"}}, \"yaxis\": {\"anchor\": \"x\", \"domain\": [0.0, 1.0], \"title\": {\"text\": \"Attack\"}}},\n",
              "                        {\"responsive\": true}\n",
              "                    ).then(function(){\n",
              "                            \n",
              "var gd = document.getElementById('54c60bb3-16e3-471e-a017-b2d42b9a9e15');\n",
              "var x = new MutationObserver(function (mutations, observer) {{\n",
              "        var display = window.getComputedStyle(gd).display;\n",
              "        if (!display || display === 'none') {{\n",
              "            console.log([gd, 'removed!']);\n",
              "            Plotly.purge(gd);\n",
              "            observer.disconnect();\n",
              "        }}\n",
              "}});\n",
              "\n",
              "// Listen for the removal of the full notebook cells\n",
              "var notebookContainer = gd.closest('#notebook-container');\n",
              "if (notebookContainer) {{\n",
              "    x.observe(notebookContainer, {childList: true});\n",
              "}}\n",
              "\n",
              "// Listen for the clearing of the current output cell\n",
              "var outputEl = gd.closest('.output');\n",
              "if (outputEl) {{\n",
              "    x.observe(outputEl, {childList: true});\n",
              "}}\n",
              "\n",
              "                        })\n",
              "                };\n",
              "                \n",
              "            </script>\n",
              "        </div>\n",
              "</body>\n",
              "</html>"
            ]
          },
          "metadata": {}
        }
      ]
    },
    {
      "cell_type": "markdown",
      "metadata": {
        "id": "7z4T8ioi5phH"
      },
      "source": [
        "**2.3 POKEMONES AGRUPADOS POR TIPOS**"
      ]
    },
    {
      "cell_type": "code",
      "metadata": {
        "colab": {
          "base_uri": "https://localhost:8080/",
          "height": 585
        },
        "id": "8F9e84mz3IdA",
        "outputId": "f7a3591f-d27f-4972-d287-bf642f67433f"
      },
      "source": [
        "sns.set(rc={'figure.figsize':(10,8)})\n",
        "dfty.plot(kind='bar',legend='Reverse', linewidth =1,color=\"#6EFF33\")\n",
        "plt.ylabel('Attack',fontsize=12)\n",
        "plt.xlabel('Type 1',fontsize=12)\n",
        "plt.grid()\n",
        "plt.title(\"#Promedio de todos los pokemones agrupados por Tipos\",fontsize=15)\n",
        "plt.xticks(rotation=90,fontsize=10)"
      ],
      "execution_count": 80,
      "outputs": [
        {
          "output_type": "execute_result",
          "data": {
            "text/plain": [
              "(array([ 0,  1,  2,  3,  4,  5,  6,  7,  8,  9, 10, 11, 12, 13, 14, 15, 16,\n",
              "        17]), <a list of 18 Text major ticklabel objects>)"
            ]
          },
          "metadata": {},
          "execution_count": 80
        },
        {
          "output_type": "display_data",
          "data": {
            "image/png": "[encoded data removed]",
            "text/plain": [
              "<Figure size 720x576 with 1 Axes>"
            ]
          },
          "metadata": {}
        }
      ]
    },
    {
      "cell_type": "code",
      "metadata": {
        "colab": {
          "base_uri": "https://localhost:8080/",
          "height": 585
        },
        "id": "aYrjBSqF5ZoD",
        "outputId": "84a79c58-a52f-4098-814f-9667bf139f8a"
      },
      "source": [
        "sns.set(rc={'figure.figsize':(10,8)})\n",
        "dftu.plot(kind='bar',legend='Reverse', linewidth =1,color=\"#33FFF3\")\n",
        "plt.ylabel('Attack',fontsize=12)\n",
        "plt.xlabel('Type 1',fontsize=12)\n",
        "plt.grid()\n",
        "plt.title(\"#Media de todos los pokemones agrupados por Tipos\",fontsize=15)\n",
        "plt.xticks(rotation=90,fontsize=10)"
      ],
      "execution_count": 86,
      "outputs": [
        {
          "output_type": "execute_result",
          "data": {
            "text/plain": [
              "(array([ 0,  1,  2,  3,  4,  5,  6,  7,  8,  9, 10, 11, 12, 13, 14, 15, 16,\n",
              "        17]), <a list of 18 Text major ticklabel objects>)"
            ]
          },
          "metadata": {},
          "execution_count": 86
        },
        {
          "output_type": "display_data",
          "data": {
            "image/png": "[encoded data removed]",
            "text/plain": [
              "<Figure size 720x576 with 1 Axes>"
            ]
          },
          "metadata": {}
        }
      ]
    },
    {
      "cell_type": "markdown",
      "metadata": {
        "id": "tO65sHNiAmU9"
      },
      "source": [
        "## Ejercicio 3:\n",
        "\n",
        "Realice las siguientes pruebas de hipótesis:\n",
        "1. El promedio del ataque de los pokemones es mayor a 77\n",
        "2. El promedio del ataque de los pokemones legendarios es diferente a los no legendarios\n",
        "\n",
        "\n",
        "Y determine con un nivel de significancia del 5% (es decir $\\alpha$ = 0.05), si podemos rechazar o no las 3 hipótesis anteriores. "
      ]
    },
    {
      "cell_type": "markdown",
      "metadata": {
        "id": "PU32asVKPSmt"
      },
      "source": [
        "**SOLUCIÓN 3.1**"
      ]
    },
    {
      "cell_type": "code",
      "metadata": {
        "colab": {
          "base_uri": "https://localhost:8080/"
        },
        "id": "bMP-Ro6wCR0T",
        "outputId": "b1a5de52-a51c-4071-ce64-10df4f22f139"
      },
      "source": [
        "df['Attack'].mean()"
      ],
      "execution_count": 35,
      "outputs": [
        {
          "output_type": "execute_result",
          "data": {
            "text/plain": [
              "79.00125"
            ]
          },
          "metadata": {},
          "execution_count": 35
        }
      ]
    },
    {
      "cell_type": "code",
      "metadata": {
        "id": "yV7patDdIwr2"
      },
      "source": [
        "α = 0.05"
      ],
      "execution_count": 41,
      "outputs": []
    },
    {
      "cell_type": "code",
      "metadata": {
        "colab": {
          "base_uri": "https://localhost:8080/"
        },
        "id": "5xwGUos0CfUI",
        "outputId": "1654a222-6b67-4447-efa3-9052f4fb501c"
      },
      "source": [
        "stats.ttest_1samp(df['Attack'], popmean=77)"
      ],
      "execution_count": 46,
      "outputs": [
        {
          "output_type": "execute_result",
          "data": {
            "text/plain": [
              "Ttest_1sampResult(statistic=1.7439461372672926, pvalue=0.08155305645189834)"
            ]
          },
          "metadata": {},
          "execution_count": 46
        }
      ]
    },
    {
      "cell_type": "code",
      "metadata": {
        "id": "IKu8yrP9jLvp"
      },
      "source": [
        "T,p=stats.ttest_1samp(df['Attack'], popmean=77)"
      ],
      "execution_count": 47,
      "outputs": []
    },
    {
      "cell_type": "code",
      "metadata": {
        "colab": {
          "base_uri": "https://localhost:8080/"
        },
        "id": "idbtrCQvDS-M",
        "outputId": "82e15bda-ff7c-49e7-d3b5-862d677f6496"
      },
      "source": [
        "p<α"
      ],
      "execution_count": 48,
      "outputs": [
        {
          "output_type": "execute_result",
          "data": {
            "text/plain": [
              "False"
            ]
          },
          "metadata": {},
          "execution_count": 48
        }
      ]
    },
    {
      "cell_type": "code",
      "metadata": {
        "colab": {
          "base_uri": "https://localhost:8080/"
        },
        "id": "s9me_4fiDVwF",
        "outputId": "7d8c19f5-9175-4693-d1c1-d0d20ed6a860"
      },
      "source": [
        "p>α"
      ],
      "execution_count": 49,
      "outputs": [
        {
          "output_type": "execute_result",
          "data": {
            "text/plain": [
              "True"
            ]
          },
          "metadata": {},
          "execution_count": 49
        }
      ]
    },
    {
      "cell_type": "markdown",
      "metadata": {
        "id": "CMXRrUd-GjTF"
      },
      "source": [
        "**Ya que P > α tenemos que retener $H_0$ y afirmamos que la diferencia no es estadísticamente significativa.**\n"
      ]
    },
    {
      "cell_type": "markdown",
      "metadata": {
        "id": "0VKSXpNsKpiX"
      },
      "source": [
        "**Aplicamos la alternativa unilateral,Ha:μ>μ0  o  Ha:μ<μ0 .**\n",
        "\n"
      ]
    },
    {
      "cell_type": "code",
      "metadata": {
        "colab": {
          "base_uri": "https://localhost:8080/"
        },
        "id": "Y6q4esnnJrA7",
        "outputId": "69ae2eb1-b86f-4783-871e-19af8828839d"
      },
      "source": [
        "T,p = stats.ttest_1samp(df['Attack'], popmean=77)\n",
        "p_value = p/2\n",
        "p_value"
      ],
      "execution_count": 52,
      "outputs": [
        {
          "output_type": "execute_result",
          "data": {
            "text/plain": [
              "0.04077652822594917"
            ]
          },
          "metadata": {},
          "execution_count": 52
        }
      ]
    },
    {
      "cell_type": "code",
      "metadata": {
        "colab": {
          "base_uri": "https://localhost:8080/"
        },
        "id": "080drKcQLUhB",
        "outputId": "b0a84a9e-b210-4304-f0ef-6b3a6ae9845d"
      },
      "source": [
        "p_value<α"
      ],
      "execution_count": 53,
      "outputs": [
        {
          "output_type": "execute_result",
          "data": {
            "text/plain": [
              "True"
            ]
          },
          "metadata": {},
          "execution_count": 53
        }
      ]
    },
    {
      "cell_type": "code",
      "metadata": {
        "colab": {
          "base_uri": "https://localhost:8080/"
        },
        "id": "LSFRCNHwLeBe",
        "outputId": "7614e6d8-ccad-400e-8afa-67cf1dd6b15f"
      },
      "source": [
        "p_value>α"
      ],
      "execution_count": 54,
      "outputs": [
        {
          "output_type": "execute_result",
          "data": {
            "text/plain": [
              "False"
            ]
          },
          "metadata": {},
          "execution_count": 54
        }
      ]
    },
    {
      "cell_type": "markdown",
      "metadata": {
        "id": "fmBw-5ldNB4k"
      },
      "source": [
        "**Podemos observar que ahora p_value<α por lo tanto debemos rechazar $H_0$ y debemos afirmar que la diferencia observada es estadisticamente significativa.**"
      ]
    },
    {
      "cell_type": "markdown",
      "metadata": {
        "id": "Hgr7Y7a6PbFl"
      },
      "source": [
        "**SOLUCIÓN 3.2**"
      ]
    },
    {
      "cell_type": "code",
      "metadata": {
        "colab": {
          "base_uri": "https://localhost:8080/",
          "height": 142
        },
        "id": "-_DQ-ZY2O0Sx",
        "outputId": "552be8d7-06f4-40c5-8be8-30e53129a1ad"
      },
      "source": [
        "dflg=df[['clasificacion of legendary','Attack']].groupby('clasificacion of legendary').mean()\n",
        "round(dflg,4)"
      ],
      "execution_count": 55,
      "outputs": [
        {
          "output_type": "execute_result",
          "data": {
            "text/html": [
              "<div>\n",
              "<style scoped>\n",
              "    .dataframe tbody tr th:only-of-type {\n",
              "        vertical-align: middle;\n",
              "    }\n",
              "\n",
              "    .dataframe tbody tr th {\n",
              "        vertical-align: top;\n",
              "    }\n",
              "\n",
              "    .dataframe thead th {\n",
              "        text-align: right;\n",
              "    }\n",
              "</style>\n",
              "<table border=\"1\" class=\"dataframe\">\n",
              "  <thead>\n",
              "    <tr style=\"text-align: right;\">\n",
              "      <th></th>\n",
              "      <th>Attack</th>\n",
              "    </tr>\n",
              "    <tr>\n",
              "      <th>clasificacion of legendary</th>\n",
              "      <th></th>\n",
              "    </tr>\n",
              "  </thead>\n",
              "  <tbody>\n",
              "    <tr>\n",
              "      <th>Legendario</th>\n",
              "      <td>116.6769</td>\n",
              "    </tr>\n",
              "    <tr>\n",
              "      <th>No Legendario</th>\n",
              "      <td>75.6694</td>\n",
              "    </tr>\n",
              "  </tbody>\n",
              "</table>\n",
              "</div>"
            ],
            "text/plain": [
              "                              Attack\n",
              "clasificacion of legendary          \n",
              "Legendario                  116.6769\n",
              "No Legendario                75.6694"
            ]
          },
          "metadata": {},
          "execution_count": 55
        }
      ]
    },
    {
      "cell_type": "code",
      "metadata": {
        "colab": {
          "base_uri": "https://localhost:8080/"
        },
        "id": "n_WUggs1QWeK",
        "outputId": "72bbe390-2e18-4ae3-c15d-4ca917a48d14"
      },
      "source": [
        "legendario=df[df['clasificacion of legendary']=='Legendario'].Attack\n",
        "nlegendario=df[df['clasificacion of legendary']=='No Legendario'].Attack\n",
        "statistic,pvaluele =stats.ttest_ind(legendario,nlegendario,equal_var=False)\n",
        "statistic,pvaluele"
      ],
      "execution_count": 60,
      "outputs": [
        {
          "output_type": "execute_result",
          "data": {
            "text/plain": [
              "(10.438133539322203, 2.520372449236646e-16)"
            ]
          },
          "metadata": {},
          "execution_count": 60
        }
      ]
    },
    {
      "cell_type": "markdown",
      "metadata": {
        "id": "1qjRJdO2wo3j"
      },
      "source": [
        "ya que al realizar la prueba de test, el valor de P(2.5203724q49236646e-16)  es muy pequeño, se rechaza la hipotesis nula."
      ]
    }
  ]
}