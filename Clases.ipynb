{
  "nbformat": 4,
  "nbformat_minor": 0,
  "metadata": {
    "colab": {
      "name": "Untitled1.ipynb",
      "provenance": [],
      "authorship_tag": "ABX9TyMaijQ0Js+msL96iM7J2TIR",
      "include_colab_link": true
    },
    "kernelspec": {
      "name": "python3",
      "display_name": "Python 3"
    },
    "language_info": {
      "name": "python"
    }
  },
  "cells": [
    {
      "cell_type": "markdown",
      "metadata": {
        "id": "view-in-github",
        "colab_type": "text"
      },
      "source": [
        "<a href=\"https://colab.research.google.com/github/geral98atehortua/Mujeres_Digitales/blob/main/Clases.ipynb\" target=\"_parent\"><img src=\"https://colab.research.google.com/assets/colab-badge.svg\" alt=\"Open In Colab\"/></a>"
      ]
    },
    {
      "cell_type": "markdown",
      "metadata": {
        "id": "H4voWpbjo9qD"
      },
      "source": [
        "iNTRODUCCIÓN\n",
        "\n"
      ]
    },
    {
      "cell_type": "code",
      "metadata": {
        "colab": {
          "base_uri": "https://localhost:8080/"
        },
        "id": "7Wp_HKmYo7vD",
        "outputId": "2cbdd991-8d58-448f-db3a-9d9a6717de43"
      },
      "source": [
        "x=80\n",
        "print(x)"
      ],
      "execution_count": null,
      "outputs": [
        {
          "output_type": "stream",
          "text": [
            "80\n"
          ],
          "name": "stdout"
        }
      ]
    },
    {
      "cell_type": "markdown",
      "metadata": {
        "id": "YfLD6_sCrYjB"
      },
      "source": [
        ""
      ]
    },
    {
      "cell_type": "code",
      "metadata": {
        "colab": {
          "base_uri": "https://localhost:8080/"
        },
        "id": "_rM8JIIdrY5m",
        "outputId": "6c691efe-8dc2-418a-99ef-186e3b249803"
      },
      "source": [
        "a=int(3)\n",
        "print(a)"
      ],
      "execution_count": null,
      "outputs": [
        {
          "output_type": "stream",
          "text": [
            "3\n"
          ],
          "name": "stdout"
        }
      ]
    },
    {
      "cell_type": "code",
      "metadata": {
        "colab": {
          "base_uri": "https://localhost:8080/"
        },
        "id": "fo7xhzw9wome",
        "outputId": "c2ee43ae-4551-47c7-8a16-1171472385b9"
      },
      "source": [
        "b=float(3.89)\n",
        "print(b)"
      ],
      "execution_count": 15,
      "outputs": [
        {
          "output_type": "stream",
          "text": [
            "3.89\n"
          ],
          "name": "stdout"
        }
      ]
    },
    {
      "cell_type": "code",
      "metadata": {
        "colab": {
          "base_uri": "https://localhost:8080/"
        },
        "id": "yN7TlzQJy2L9",
        "outputId": "42609837-35dc-4209-85f4-8e5b6c418e81"
      },
      "source": [
        "val1=\"Gerardine\"\n",
        "print(val1)"
      ],
      "execution_count": 18,
      "outputs": [
        {
          "output_type": "stream",
          "text": [
            "Gerardine\n"
          ],
          "name": "stdout"
        }
      ]
    },
    {
      "cell_type": "code",
      "metadata": {
        "colab": {
          "base_uri": "https://localhost:8080/"
        },
        "id": "IR9-Dzo60oB7",
        "outputId": "82273b77-d330-4bab-c70e-23494a0657af"
      },
      "source": [
        "val2=\"Hola mundo\"\n",
        "print(val2)"
      ],
      "execution_count": 19,
      "outputs": [
        {
          "output_type": "stream",
          "text": [
            "Hola mundo\n"
          ],
          "name": "stdout"
        }
      ]
    },
    {
      "cell_type": "code",
      "metadata": {
        "colab": {
          "base_uri": "https://localhost:8080/"
        },
        "id": "VaOh1UdU4og5",
        "outputId": "f734cc4a-bd09-4c33-a42b-83dc18760cea"
      },
      "source": [
        "n=\"Amigos\"\n",
        "m=\"mios\"\n",
        "print(n,m)\n",
        "p=\"10\"\n",
        "q=\"7\"\n",
        "b=int(p)\n",
        "c=int(q)\n",
        "print(b-c)"
      ],
      "execution_count": 37,
      "outputs": [
        {
          "output_type": "stream",
          "text": [
            "Amigos mios\n",
            "3\n"
          ],
          "name": "stdout"
        }
      ]
    },
    {
      "cell_type": "code",
      "metadata": {
        "colab": {
          "base_uri": "https://localhost:8080/"
        },
        "id": "zU-3L-qIM5_V",
        "outputId": "c0cd9356-3cde-48fa-d602-09d6640dc894"
      },
      "source": [
        "lola=False\n",
        "print(\"el valor es verdadero:\",lola,\"el cual es de tipo\",type(lola))\n",
        "\n",
        "ana=False\n",
        "print(\"el valor es falso:\",ana,\"el cual es de tipo\",type(ana))\n"
      ],
      "execution_count": 57,
      "outputs": [
        {
          "output_type": "stream",
          "text": [
            "el valor es verdadero: False el cual es de tipo <class 'bool'>\n",
            "el valor es falso: False el cual es de tipo <class 'bool'>\n"
          ],
          "name": "stdout"
        }
      ]
    },
    {
      "cell_type": "code",
      "metadata": {
        "colab": {
          "base_uri": "https://localhost:8080/"
        },
        "id": "nFT6AwQLOqYx",
        "outputId": "463006b4-9309-4ae9-d3b6-cd57b5a1c425"
      },
      "source": [
        "frutas=\"pera\",\"manzana\",\"sandia\"\n",
        "colores=\"rojo\",\"negro\", \"amarillo\"\n",
        "print(frutas,colores)"
      ],
      "execution_count": 61,
      "outputs": [
        {
          "output_type": "stream",
          "text": [
            "('pera', 'manzana', 'sandia') ('rojo', 'negro', 'amarillo')\n"
          ],
          "name": "stdout"
        }
      ]
    },
    {
      "cell_type": "code",
      "metadata": {
        "colab": {
          "base_uri": "https://localhost:8080/"
        },
        "id": "tutKEh3TPrNc",
        "outputId": "7da49f19-3853-470f-dcdf-547044239c22"
      },
      "source": [
        "diana=[\"gato\",\"azul\",\"sandia\",\"mesa\"]\n",
        "print(diana)\n",
        "di=diana[2]\n",
        "print(di)"
      ],
      "execution_count": 83,
      "outputs": [
        {
          "output_type": "stream",
          "text": [
            "['gato', 'azul', 'sandia', 'mesa']\n",
            "sandia\n"
          ],
          "name": "stdout"
        }
      ]
    },
    {
      "cell_type": "code",
      "metadata": {
        "colab": {
          "base_uri": "https://localhost:8080/"
        },
        "id": "vVqAHcJBckl3",
        "outputId": "c57b4998-1c44-4e95-f75e-e2aeeb37356b"
      },
      "source": [
        "tupla=45,12,45,\"coral\"\n",
        "print(tupla)\n",
        "otra=tupla,(1,3,\"rojo\")\n",
        "print(otra)"
      ],
      "execution_count": 86,
      "outputs": [
        {
          "output_type": "stream",
          "text": [
            "(45, 12, 45, 'coral')\n",
            "((45, 12, 45, 'coral'), (1, 3, 'rojo'))\n"
          ],
          "name": "stdout"
        }
      ]
    },
    {
      "cell_type": "code",
      "metadata": {
        "colab": {
          "base_uri": "https://localhost:8080/"
        },
        "id": "Xwhy6BQMkjf0",
        "outputId": "9a96c70c-c1a0-485e-e287-f8c991dc5633"
      },
      "source": [
        "datos_b={\n",
        "    \"nombres\":\"Diana\",\n",
        "    \"apellido\":\"lopez\",\n",
        "    \"cedula\":\"1151966311\",\n",
        "    \"estado_civil\":\"soltera\",\n",
        "    \"lugar_nacimiento\":\"Cali\",\n",
        "    \"fecha_nacimiento\":\"08/05/1998\",\n",
        "}\n",
        "print(\"Id del diccionario\",datos_b.keys())\n",
        "print(\"Id del diccionario\",datos_b.values())\n",
        "print(\"Id del diccionario\",datos_b.items())"
      ],
      "execution_count": 88,
      "outputs": [
        {
          "output_type": "stream",
          "text": [
            "Id del diccionario dict_keys(['nombres', 'apellido', 'cedula', 'estado_civil', 'lugar_nacimiento', 'fecha_nacimiento'])\n",
            "Id del diccionario dict_values(['Diana', 'lopez', '1151966311', 'soltera', 'Cali', '08/05/1998'])\n",
            "Id del diccionario dict_items([('nombres', 'Diana'), ('apellido', 'lopez'), ('cedula', '1151966311'), ('estado_civil', 'soltera'), ('lugar_nacimiento', 'Cali'), ('fecha_nacimiento', '08/05/1998')])\n"
          ],
          "name": "stdout"
        }
      ]
    },
    {
      "cell_type": "code",
      "metadata": {
        "colab": {
          "base_uri": "https://localhost:8080/"
        },
        "id": "tWNLvf0smiS-",
        "outputId": "c5e7da80-9e45-4eb6-a9c9-dca5838cc008"
      },
      "source": [
        "carro_0={}\n",
        "carro_0[\"tam\"]=\"grande\"\n",
        "carro_0[\"color\"]=\"rojo\"\n",
        "carro_0[\"marca\"]=\"chevrolet\"\n",
        "carro_0[\"precio\"]=50000000\n",
        "print(carro_0)\n",
        "\n",
        "carro_1={}\n",
        "carro_1[\"tam\"]=\"pequeño\"\n",
        "carro_1[\"color\"]=\"blanco\"\n",
        "carro_1[\"marca\"]=\"renault\"\n",
        "carro_1[\"precio\"]=37000000\n",
        "print(carro_1)\n",
        "\n",
        "compra0=carro_0[\"precio\"]\n",
        "compra1=carro_1[\"precio\"]\n",
        "compra_total=compra0+compra1\n",
        "print(\"la compra total fue de:\"+str (compra_total))"
      ],
      "execution_count": 118,
      "outputs": [
        {
          "output_type": "stream",
          "text": [
            "{'tam': 'grande', 'color': 'rojo', 'marca': 'chevrolet', 'precio': 50000000}\n",
            "{'tam': 'pequeño', 'color': 'blanco', 'marca': 'renault', 'precio': 37000000}\n",
            "la compra total fue de:87000000\n"
          ],
          "name": "stdout"
        }
      ]
    }
  ]
}