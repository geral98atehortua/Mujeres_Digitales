{
  "nbformat": 4,
  "nbformat_minor": 0,
  "metadata": {
    "colab": {
      "name": "TALLER 1.ipynb",
      "provenance": [],
      "authorship_tag": "ABX9TyOBQTe3ck93v5uEqB5FoUwM",
      "include_colab_link": true
    },
    "kernelspec": {
      "name": "python3",
      "display_name": "Python 3"
    },
    "language_info": {
      "name": "python"
    }
  },
  "cells": [
    {
      "cell_type": "markdown",
      "metadata": {
        "id": "view-in-github",
        "colab_type": "text"
      },
      "source": [
        "<a href=\"https://colab.research.google.com/github/geral98atehortua/Mujeres_Digitales/blob/main/TALLER_1.ipynb\" target=\"_parent\"><img src=\"https://colab.research.google.com/assets/colab-badge.svg\" alt=\"Open In Colab\"/></a>"
      ]
    },
    {
      "cell_type": "markdown",
      "metadata": {
        "id": "XhPyMr8pPA3V"
      },
      "source": [
        "El Bootcamp comenzo el 26 de Julio del 2021, se les explico a las estudiantes que se les evaluaría de la siguiente forma:\n",
        "\n",
        "Tareas= 10% Talleres=25% Asistencia=5% Participación=15% Proyecto=45%\n",
        "\n",
        "teniendo en cuenta las ponderaciones de calificación del bootcamp, las estudiantes deciden desarrollar un programa que les permita saber cuanto tendría que sacar en el proyecto para tener una definitiva de 3.7 minimo en el curso. si las notas que llevan hasta el momento son las siguientes:\n",
        "\n",
        "Tareas=4.5 Talleres=4 Asistencia=5 paticipación=4\n",
        "\n",
        "¿Cuanto tendrían que sacar en el proyecto?"
      ]
    },
    {
      "cell_type": "code",
      "metadata": {
        "colab": {
          "base_uri": "https://localhost:8080/"
        },
        "id": "MTFuLICIPEmj",
        "outputId": "7e11e710-19c0-4c72-d23a-9b2b8e7adb42"
      },
      "source": [
        "pc_tarea=0.1\n",
        "pc_taller=0.25\n",
        "pc_asis=0.05\n",
        "pc_parti=0.15\n",
        "pc_proye=0.45\n",
        "\n",
        "nota_tarea=float(input(\"Escriba su nota de las tareas: \"))\n",
        "nota_taller=float(input(\"Escriba su nota de los talleres: \"))\n",
        "nota_asis=float(input(\"Escriba su nota de asistencia: \"))\n",
        "nota_parti=float(input(\"Escriba su nota de participación: \"))\n",
        "nota_mini=float(input(\"Escriba la definitiva minima que necesita: \"))\n",
        "nota_obli=((nota_mini-((nota_tarea*pc_tarea)+(nota_taller*pc_taller)+(nota_asis*pc_asis)+(nota_parti*pc_parti)))/pc_proye)\n",
        "print(\"Usted debe sacar en el proyecto una nota minima de:\", round(nota_obli,2))\n"
      ],
      "execution_count": 51,
      "outputs": [
        {
          "output_type": "stream",
          "text": [
            "Escriba su nota de las tareas: 4.5\n",
            "Escriba su nota de los talleres: 4\n",
            "Escriba su nota de asistencia: 5\n",
            "Escriba su nota de participación: 4\n",
            "Escriba la definitiva minima que necesita: 3.7\n",
            "Usted debe sacar en el proyecto una nota minima de: 3.11\n"
          ],
          "name": "stdout"
        }
      ]
    }
  ]
}