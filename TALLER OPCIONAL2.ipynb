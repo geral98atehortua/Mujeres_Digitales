{
  "nbformat": 4,
  "nbformat_minor": 0,
  "metadata": {
    "colab": {
      "name": "TALLER2.ipynb",
      "provenance": [],
      "authorship_tag": "ABX9TyOKbQKHhKw4lNYoI8K3MKgf",
      "include_colab_link": true
    },
    "kernelspec": {
      "name": "python3",
      "display_name": "Python 3"
    },
    "language_info": {
      "name": "python"
    }
  },
  "cells": [
    {
      "cell_type": "markdown",
      "metadata": {
        "id": "view-in-github",
        "colab_type": "text"
      },
      "source": [
        "<a href=\"https://colab.research.google.com/github/geral98atehortua/Mujeres_Digitales/blob/main/TALLER%20OPCIONAL2.ipynb\" target=\"_parent\"><img src=\"https://colab.research.google.com/assets/colab-badge.svg\" alt=\"Open In Colab\"/></a>"
      ]
    },
    {
      "cell_type": "code",
      "metadata": {
        "colab": {
          "base_uri": "https://localhost:8080/"
        },
        "id": "PvmQM1Y9dBkr",
        "outputId": "614b18c8-efbb-4960-851c-266edc65efb9"
      },
      "source": [
        "def poblacion():\n",
        " pais=[]\n",
        " for x in range(2):\n",
        "   nombre=input(\"ingrese el nombre del pais: \")\n",
        "   habitantes=int(input(\"ingrese el número de habitantes: \"))\n",
        "   area=float(input(\"ingrese el area del pais: \"))\n",
        "   densidad_p=habitantes/area\n",
        "   print(\"la densidad poblacional es:\",densidad_p)\n",
        "   pais.append((nombre,habitantes,area,densidad_p))\n",
        " return pais\n",
        " \n",
        "def view(pais):\n",
        "  print(\"\\nDATOS PAISES\\n\")\n",
        "  print(\"Pais\",\" habitantes \",\" area \")\n",
        "  for x in range(len(pais)):\n",
        "     print(pais[x][0] ,    pais[x][1] ,  pais[x][2])\n",
        "\n",
        "def mayor(pais):\n",
        "  t=0\n",
        "  for x in range(1,len(pais)):\n",
        "    if pais[x][1]>pais[t][1]:\n",
        "      pos=x\n",
        "  print(\"El pais con Mayor poblacion es: \", pais[pos][0])\n",
        " \n",
        "\n",
        "def max(pais):\n",
        "   s=0\n",
        "   for x in range(1,len(pais)):\n",
        "     if pais[x][3]>pais[s][3]:\n",
        "       pos=x\n",
        "   print(\"El pais con Mayor densidad poblacional es: \",pais[pos][0]) \n",
        "\n",
        "pais=poblacion()\n",
        "view(pais)\n",
        "mayor(pais)\n",
        "max(pais)"
      ],
      "execution_count": 52,
      "outputs": [
        {
          "output_type": "stream",
          "text": [
            "ingrese el nombre del pais: españa\n",
            "ingrese el número de habitantes: 43247\n",
            "ingrese el area del pais: 76756.7\n",
            "la densidad poblacional es: 0.5634296419726226\n",
            "ingrese el nombre del pais: italia\n",
            "ingrese el número de habitantes: 6457567\n",
            "ingrese el area del pais: 4576.7\n",
            "la densidad poblacional es: 1410.965761356436\n",
            "\n",
            "DATOS PAISES\n",
            "\n",
            "Pais  habitantes   area \n",
            "españa 43247 76756.7\n",
            "italia 6457567 4576.7\n",
            "El pais con Mayor poblacion es:  italia\n",
            "El pais con Mayor densidad poblacional es:  italia\n"
          ],
          "name": "stdout"
        }
      ]
    }
  ]
}