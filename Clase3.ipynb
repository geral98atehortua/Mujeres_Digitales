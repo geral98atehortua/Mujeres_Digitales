{
  "nbformat": 4,
  "nbformat_minor": 0,
  "metadata": {
    "colab": {
      "name": "Clase3.ipynb",
      "provenance": [],
      "authorship_tag": "ABX9TyNkcZ7UEPYqU7/ZJU72X+id",
      "include_colab_link": true
    },
    "kernelspec": {
      "name": "python3",
      "display_name": "Python 3"
    },
    "language_info": {
      "name": "python"
    }
  },
  "cells": [
    {
      "cell_type": "markdown",
      "metadata": {
        "id": "view-in-github",
        "colab_type": "text"
      },
      "source": [
        "<a href=\"https://colab.research.google.com/github/geral98atehortua/Mujeres_Digitales/blob/main/Clase3.ipynb\" target=\"_parent\"><img src=\"https://colab.research.google.com/assets/colab-badge.svg\" alt=\"Open In Colab\"/></a>"
      ]
    },
    {
      "cell_type": "markdown",
      "metadata": {
        "id": "a5D1-SWIK1f9"
      },
      "source": [
        "**ESTRUCTURA DE CONDICIONALES (Control)**\n",
        "\n",
        "---\n",
        "al momento de construir una instrucion de tio condicional se debera comprender que dichas instrucciones estan diseñadas para ayudar en la toma de decisiones:\n",
        "\n",
        "Ejemplo:\n",
        "\n",
        "\n",
        "**Si** pedro va a la tienda por la izquierda llegara mas rapido, sino se demora más.\n",
        "\n",
        "Existen varios tipos de instrucciones algunos puedes ser simplesy otros multiples.\n",
        "\n",
        "Sin embargo solo se generan dos resultados.\n",
        "\n",
        "1.verdadero \n",
        "\n",
        "2.falso\n",
        "\n",
        "En Python tales resultados serian true o false.\n",
        "\n",
        "\n",
        "\n"
      ]
    },
    {
      "cell_type": "markdown",
      "metadata": {
        "id": "wb5dtx9pOSY4"
      },
      "source": [
        "par aaplicar los condicionales que veremos a continuacion debemos recordar los comandos de operadores matematicos vistos en la clase anterior:\n",
        "\n",
        "1.igualdad(==) 2==7 // false\n",
        "2.diferencia(!=) rosado!=verde // true\n",
        "3.menor que(<) 12<11 // false\n",
        "4.mayor que(>) >1.5 false\n",
        "5.menor o igual(<=) 30<=30 // true\n",
        "6.mayor o igual que(>=) 1>=2 // false\n",
        "\n"
      ]
    },
    {
      "cell_type": "markdown",
      "metadata": {
        "id": "RvG4ekajUYu_"
      },
      "source": [
        "En condiciones multiples podemos enlazar los operadores logicos\n",
        "\n",
        "1.y(AND)\n",
        "2.o(OR)\n",
        "3.no(NOT)\n",
        "\n",
        "Ejemplos\n",
        "\n",
        "1.3==8 and 8>2 // false\n",
        "\n",
        "2.3==3 or 15<3 // true\n",
        "\n",
        "3.not true // false"
      ]
    },
    {
      "cell_type": "markdown",
      "metadata": {
        "id": "SV8B00zAIs3p"
      },
      "source": [
        "Para aplicar los operadores matematicos y logicos tenemos en cuenta lo que llamamos **Diagrama de flujo**, esto nos permite mayor organización de las ideas para la toma de decisiones."
      ]
    },
    {
      "cell_type": "code",
      "metadata": {
        "id": "DmsnOm_GI832"
      },
      "source": [
        ""
      ],
      "execution_count": null,
      "outputs": []
    },
    {
      "cell_type": "markdown",
      "metadata": {
        "id": "eM2q7hhFh23K"
      },
      "source": [
        "**EL COMANDO IF**\n",
        "\n",
        "Este comando permite evaluar si una sentencia es verdadera o falsa. Es decir, se ejecuta una acción establecida mediante un comando de instruccio o varias instrucciones inmediatanmente en las lineas siguientes a dicha condición."
      ]
    },
    {
      "cell_type": "code",
      "metadata": {
        "colab": {
          "base_uri": "https://localhost:8080/"
        },
        "id": "Vm2OfA_sinkH",
        "outputId": "587e92d2-71bc-4f71-ed0e-c7620c1e595f"
      },
      "source": [
        "num = int(input(\"Escribe un número cualquiera \"))\n",
        "\n",
        "if num == 200:\n",
        "  print(\"Escribiste 200\")"
      ],
      "execution_count": 1,
      "outputs": [
        {
          "output_type": "stream",
          "text": [
            "Escribe un número cualquiera 200\n",
            "Escribiste 200\n"
          ],
          "name": "stdout"
        }
      ]
    },
    {
      "cell_type": "markdown",
      "metadata": {
        "id": "U_-vT8WWit6T"
      },
      "source": [
        "**EL COMANDO ELSE**\n",
        "\n",
        "Este comando permite relacionar las acciones que debería realizar en caso de que la condicion sea falsa"
      ]
    },
    {
      "cell_type": "code",
      "metadata": {
        "colab": {
          "base_uri": "https://localhost:8080/"
        },
        "id": "LlHrNjPZi3G-",
        "outputId": "555c5a7b-5b00-44b3-fa14-24fe147987ad"
      },
      "source": [
        "num = int(input(\"Escribe un número cualquiera \"))\n",
        "if num == 200:\n",
        "  print (\"Escribiste 200\")\n",
        "else:\n",
        "  print(\"El número escrito no es 200\")"
      ],
      "execution_count": 2,
      "outputs": [
        {
          "output_type": "stream",
          "text": [
            "Escribe un número cualquiera 500\n",
            "El número escrito no es 200\n"
          ],
          "name": "stdout"
        }
      ]
    },
    {
      "cell_type": "markdown",
      "metadata": {
        "id": "VWtquy3hi8Dq"
      },
      "source": [
        "**EL COMANDO ELIF**\n",
        "\n",
        "Significa \"sino, si\" y permite concatenar condicionales"
      ]
    },
    {
      "cell_type": "code",
      "metadata": {
        "colab": {
          "base_uri": "https://localhost:8080/"
        },
        "id": "LKytSUSejAnq",
        "outputId": "8f0cfca4-7987-4848-cfaf-446d5d2f7e38"
      },
      "source": [
        "\n",
        "num = int(input(\"Escribe un número cualquiera \"))\n",
        "if num == 200:\n",
        "  print (\"Escribiste 200\")\n",
        "elif num > 200:\n",
        "  print(\"El número escrito es MAYOR  a 200\")\n",
        "else:\n",
        "  print(\"El número escrito no es 200\")"
      ],
      "execution_count": 3,
      "outputs": [
        {
          "output_type": "stream",
          "text": [
            "Escribe un número cualquiera 500\n",
            "El número escrito es MAYOR  a 200\n"
          ],
          "name": "stdout"
        }
      ]
    },
    {
      "cell_type": "markdown",
      "metadata": {
        "id": "B1JR2wxujHl9"
      },
      "source": [
        "**CONDICIONALES MÚLTIPLES**\n",
        "\n",
        "Cuando se presentan situaciones con más de una condición que depende unas a otras, estas se pueden tratar mediante las sentencias o comandos if, o mediante el manejo adecuado del comando elif. Sin embargo, en muchos casos cuando hay multiples condiciones, la programación necesita mayor cantidad de lineas de código\n",
        "\n",
        "En esos casos, es necesario, el uso de operadores lógicos como el AND y el OR"
      ]
    },
    {
      "cell_type": "code",
      "metadata": {
        "id": "qsiV5dOFjLLn"
      },
      "source": [
        "x = int(input(\"valor\")) #condicional anidada\n",
        "if 0 < x:\n",
        "  if x < 10:\n",
        "    print(\"x es un numero positivo \")"
      ],
      "execution_count": null,
      "outputs": []
    },
    {
      "cell_type": "code",
      "metadata": {
        "id": "MEsTXD8jjNHX"
      },
      "source": [
        "x = int(input(\"valor\"))  #Expresión booleana\n",
        "if 0 < x and x < 10:\n",
        "  print(\"x es un numero de un solo digito\")"
      ],
      "execution_count": null,
      "outputs": []
    },
    {
      "cell_type": "code",
      "metadata": {
        "id": "acViAmn7m2eC"
      },
      "source": [
        "x=int(input(\"valor\"))#esta condicion es la misma expresion boleana compuesta y la misma expresion condicional anidada\n",
        "if 0<x<10:\n",
        "   print (\"x es un numero de un digito\")"
      ],
      "execution_count": null,
      "outputs": []
    },
    {
      "cell_type": "markdown",
      "metadata": {
        "id": "K4dKDD9SjPzh"
      },
      "source": [
        "Esta condición es la misma expresión booleana compuesta y la misma expresión condicional anidada"
      ]
    },
    {
      "cell_type": "markdown",
      "metadata": {
        "id": "IvRQe_qfjgwz"
      },
      "source": [
        "**ESTRUCTURAS DE CONTROL ITERATIVO**\n",
        "\n",
        "Las variables son claves en las estructuras de control iterativas, puesto que son el medio entre la iteracion de la condicion uq se está utilizando\n",
        "\n",
        "**¿QUÉ ES ITERACIÓN?**\n",
        "\n",
        "Iteracion es la consecucion del codigo tantas veces requiere hasta que se cumplen las condiciones establecidad\n",
        "\n",
        "**Banderas** son las variables que toman un valor preferiblemente binario, booleano e indican un estado Ejemplo"
      ]
    },
    {
      "cell_type": "code",
      "metadata": {
        "colab": {
          "base_uri": "https://localhost:8080/"
        },
        "id": "cEs9hRWSnTcN",
        "outputId": "387faac3-42a6-4597-9f53-dc9ca79ca59e"
      },
      "source": [
        "suma = False\n",
        "total =0\n",
        "a=3\n",
        "b=10\n",
        "if (suma==False):\n",
        "   total = a + b\n",
        "   suma = True\n",
        "\n",
        "if (suma == True):\n",
        "  print(\"el valor total de la suma es: \", total)"
      ],
      "execution_count": 14,
      "outputs": [
        {
          "output_type": "stream",
          "text": [
            "el valor total de la suma es:  13\n"
          ],
          "name": "stdout"
        }
      ]
    },
    {
      "cell_type": "markdown",
      "metadata": {
        "id": "7Yq4C4QWnXed"
      },
      "source": [
        "la variable suma en este caso del tipo booleano y su funcion es indicar cuando se ejecuto la suma, por lo tanto tiene un estado inicial false, pero luego de ejecutar la suma el valor true.\n",
        "\n",
        "cuando pasa esto escuchamos la frase \"la bandera se levanto\", quiere decir que una u otra accion hizo que el estado de la bandera cambiara.\n",
        "\n",
        "Ejemplo cualitativo: **caso contagio**"
      ]
    },
    {
      "cell_type": "code",
      "metadata": {
        "colab": {
          "base_uri": "https://localhost:8080/"
        },
        "id": "9yndwJMQoECV",
        "outputId": "fed6527b-d5c3-430d-977e-2e69aec96467"
      },
      "source": [
        "paciente=input(\"nombre del paciente: \")\n",
        "contagio_v = input(\"te has realziado la prueba de contagio: \")\n",
        "if(contagio_v==\"No\"):\n",
        "  print(\"la paciente \", paciente, \"no se ha realizado la prueba para validar, por favor realizarse la prueba en el centro de salud mas cercano\")\n",
        "  print(\"aplicarse la prueba\")\n",
        "\n",
        "if(contagio_v== \"pendiente\"):\n",
        "  print(\"la paciente\", paciente, \"por favor revisar el correo donde se adjunta el resultado de la prueba\")\n",
        " \n",
        "if(contagio_v==\"Si\"):\n",
        "  print(paciente, \"dado que es positivo el resultado de su prueba mantener una distancia de 2 metros de las personas por lo menos 15 dias\")"
      ],
      "execution_count": 18,
      "outputs": [
        {
          "output_type": "stream",
          "text": [
            "nombre del paciente: jeuss\n",
            "te has realziado la prueba de contagio: No\n",
            "la paciente  jeuss no se ha realizado la prueba para validar, por favor realizarse la prueba en el centro de salud mas cercano\n",
            "aplicarse la prueba\n"
          ],
          "name": "stdout"
        }
      ]
    }
  ]
}